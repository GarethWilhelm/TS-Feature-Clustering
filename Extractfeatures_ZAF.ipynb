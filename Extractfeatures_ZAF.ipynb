{
  "nbformat": 4,
  "nbformat_minor": 0,
  "metadata": {
    "colab": {
      "name": "Untitled0.ipynb",
      "provenance": [],
      "authorship_tag": "ABX9TyNL0vFh3c+oOSRkaoyccUIC",
      "include_colab_link": true
    },
    "kernelspec": {
      "name": "python3",
      "display_name": "Python 3"
    }
  },
  "cells": [
    {
      "cell_type": "markdown",
      "metadata": {
        "id": "view-in-github",
        "colab_type": "text"
      },
      "source": [
        "<a href=\"https://colab.research.google.com/github/GarethWilhelm/TS-Feature-Clustering/blob/Feature-extraction-ZAF/Extractfeatures_ZAF.ipynb\" target=\"_parent\"><img src=\"https://colab.research.google.com/assets/colab-badge.svg\" alt=\"Open In Colab\"/></a>"
      ]
    },
    {
      "cell_type": "code",
      "metadata": {
        "id": "Z_Eoh9tc8SCF",
        "colab_type": "code",
        "colab": {}
      },
      "source": [
        "!pip install -q tsfresh \n",
        "import os\n",
        "import logging\n",
        "import warnings\n",
        "\n",
        "import pandas as pd\n",
        "import matplotlib.pyplot as plt\n",
        "from pandas_datareader.data import DataReader as pdr\n",
        "import fix_yahoo_finance as yf\n",
        "yf.pdr_override()\n",
        "\n",
        "from tsfresh import extract_features, select_features\n",
        "from tsfresh import defaults\n",
        "from tsfresh.feature_extraction import feature_calculators\n",
        "from tsfresh.feature_extraction.settings import ComprehensiveFCParameters\n",
        "from tsfresh.utilities import dataframe_functions, profiling\n",
        "from tsfresh.utilities.distribution import MapDistributor, MultiprocessingDistributor,DistributorBaseClass\n",
        "from tsfresh.utilities.string_manipulation import convert_to_output_format\n",
        "\n",
        "import tsfresh\n",
        "from tsfresh.feature_extraction.settings import EfficientFCParameters\n",
        "from tsfresh.utilities.dataframe_functions import roll_time_series\n",
        "\n",
        "from google.colab import drive\n",
        "drive.mount('/content/drive', force_remount=True)"
      ],
      "execution_count": null,
      "outputs": []
    },
    {
      "cell_type": "code",
      "metadata": {
        "id": "cIiXD67S8Gwv",
        "colab_type": "code",
        "colab": {}
      },
      "source": [
        "%tensorflow_version 2.x\n",
        "import tensorflow as tf\n",
        "device_name = tf.test.gpu_device_name()\n",
        "if device_name != '/device:GPU:0':\n",
        "  raise SystemError('GPU device not found')\n",
        "print('Found GPU at: {}'.format(device_name))\n",
        "\n",
        "def extract_product_features(df,fc_parameter,destination):\n",
        "  features_product = []\n",
        "  extraction_method = fc_parameter.__class__.__name__\n",
        "  for p in df.sitc4.unique():\n",
        "    product = df[df.sitc4==p]\n",
        "    p_features = extract_features(product[[\"export_val\",\"year\"]],\n",
        "                                  column_id=\"sitc4\",\n",
        "                                  column_sort=\"year\",\n",
        "                                  column_value=None,column_kind=None,\n",
        "                                  chunksize=None,\n",
        "                                  default_fc_parameters=fc_parameter)\n",
        "    features_product.append(p_features)\n",
        "    print(f'Extracted features for {p}: \\n {features_product}')\n",
        "  product_features = pd.concat(features_product)\n",
        "  product_features.to_csv(f\"zaf_{extraction_method}_expval.csv\")\n",
        "  return product_features\n"
      ],
      "execution_count": null,
      "outputs": []
    },
    {
      "cell_type": "code",
      "metadata": {
        "id": "qsbh1yJt8ONi",
        "colab_type": "code",
        "colab": {}
      },
      "source": [
        "# %timeit\n",
        "# PATH = '/content/drive/My Drive/Stellenbosch/Gareth/sitc/year_origin_sitc_rev2.tsv'\n",
        "# fc_parameters=[EfficientFCParameters(),ComprehensiveFCParameters()]\n",
        "# extract_product_features(trade_dframe,fc_parameters[0],PATH)\n",
        "# extract_product_features(trade_dframe,fc_parameters[1],PATH)"
      ],
      "execution_count": null,
      "outputs": []
    }
  ]
}