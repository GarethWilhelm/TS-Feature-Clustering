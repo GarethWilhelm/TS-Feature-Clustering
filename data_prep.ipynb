{
  "nbformat": 4,
  "nbformat_minor": 0,
  "metadata": {
    "colab": {
      "name": "data_prep.ipynb",
      "provenance": [],
      "mount_file_id": "https://github.com/wgova/time_series_trade/blob/oec_api/data_prep.ipynb",
      "authorship_tag": "ABX9TyOHb7LvY/XhKSg6oH+QK97A",
      "include_colab_link": true
    },
    "kernelspec": {
      "name": "python3",
      "display_name": "Python 3"
    }
  },
  "cells": [
    {
      "cell_type": "markdown",
      "metadata": {
        "id": "view-in-github",
        "colab_type": "text"
      },
      "source": [
        "<a href=\"https://colab.research.google.com/github/wgova/time_series_trade/blob/oec_api/data_prep.ipynb\" target=\"_parent\"><img src=\"https://colab.research.google.com/assets/colab-badge.svg\" alt=\"Open In Colab\"/></a>"
      ]
    },
    {
      "cell_type": "code",
      "metadata": {
        "id": "tV2te-1vwuc4",
        "colab_type": "code",
        "colab": {}
      },
      "source": [
        ""
      ],
      "execution_count": 0,
      "outputs": []
    },
    {
      "cell_type": "code",
      "metadata": {
        "id": "hvFuMLeruPPy",
        "colab_type": "code",
        "colab": {
          "base_uri": "https://localhost:8080/",
          "height": 156
        },
        "outputId": "799cd49f-25a5-4302-aa3f-4a08702177e2"
      },
      "source": [
        "from google.colab import drive\n",
        "drive.mount('/content/drive')\n",
        "!pip install oec\n",
        "import oec\n",
        "import pandas as pd\n",
        "import numpy as np\n",
        "import os, os.path, csv, requests, pathlib\n",
        "import math\n",
        "from datetime import datetime\n",
        "\n",
        "#%matplotlib inline"
      ],
      "execution_count": 1,
      "outputs": [
        {
          "output_type": "stream",
          "text": [
            "Drive already mounted at /content/drive; to attempt to forcibly remount, call drive.mount(\"/content/drive\", force_remount=True).\n",
            "Requirement already satisfied: oec in /usr/local/lib/python3.6/dist-packages (0.2.5)\n",
            "Requirement already satisfied: requests in /usr/local/lib/python3.6/dist-packages (from oec) (2.21.0)\n",
            "Requirement already satisfied: idna<2.9,>=2.5 in /usr/local/lib/python3.6/dist-packages (from requests->oec) (2.8)\n",
            "Requirement already satisfied: chardet<3.1.0,>=3.0.2 in /usr/local/lib/python3.6/dist-packages (from requests->oec) (3.0.4)\n",
            "Requirement already satisfied: urllib3<1.25,>=1.21.1 in /usr/local/lib/python3.6/dist-packages (from requests->oec) (1.24.3)\n",
            "Requirement already satisfied: certifi>=2017.4.17 in /usr/local/lib/python3.6/dist-packages (from requests->oec) (2020.4.5.1)\n"
          ],
          "name": "stdout"
        }
      ]
    },
    {
      "cell_type": "markdown",
      "metadata": {
        "id": "WLJbgEGRu7Dj",
        "colab_type": "text"
      },
      "source": [
        "## List of industries to add to the data"
      ]
    },
    {
      "cell_type": "code",
      "metadata": {
        "id": "ntnr-8R_PXsT",
        "colab_type": "code",
        "colab": {}
      },
      "source": [
        "def build_call(*args):\n",
        "    call_url = 'http://atlas.media.mit.edu/'\n",
        "    for val in args:\n",
        "        call_url += str(val) + '/'\n",
        "    return call_url\n",
        "\n",
        "\n",
        "def request_data(call_url):\n",
        "    r = requests.get(call_url)\n",
        "    response_dict = r.json()\n",
        "    json_list = response_dict['data']  # list of dicts containing data\n",
        "    return json_list\n",
        "\n",
        "\n",
        "def get_countries(filename=None):\n",
        "    call = build_call('attr', 'country')\n",
        "    json_list = request_data(call)\n",
        "    if filename is not None:\n",
        "        data_to_csv(json_list, filename)\n",
        "    return json_list\n",
        "\n",
        "\n",
        "def get_products(classification, filename=None):\n",
        "    call = build_call('attr', classification)\n",
        "    json_list = request_data(call)\n",
        "    if filename is not None:\n",
        "        data_to_csv(json_list, filename)\n",
        "    return json_list\n",
        "\n",
        "\n",
        "def get_trade(classification, trade_flow, year, origin, destination,product, filename=None):\n",
        "    call = build_call(classification, trade_flow, year, origin, destination,\n",
        "                      product)\n",
        "    json_list = request_data(call)\n",
        "    if filename is not None:\n",
        "        data_to_csv(json_list, filename)\n",
        "    return json_list\n",
        "\n",
        "\n",
        "def trade_params(classification, trade_flow, year, origin, destination,product):\n",
        "    parameters = {'classification': classification,\n",
        "                  'trade_flow': trade_flow,\n",
        "                  'year': year,\n",
        "                  'origin': origin,\n",
        "                  'destination': destination,\n",
        "                  'product': product}\n",
        "    return parameters\n",
        "\n",
        "\n",
        "def get_header(json_list):\n",
        "    header = set()\n",
        "    for dict in json_list:\n",
        "        header.update(dict.keys())\n",
        "    header = list(header)\n",
        "    header.sort()\n",
        "    return header\n",
        "\n",
        "\n",
        "def create_csv(json_list, filename):\n",
        "    with open(filename, 'w') as csvfile:\n",
        "        header = get_header(json_list)\n",
        "        cw = csv.writer(csvfile)\n",
        "        cw.writerow(header)\n",
        "        for dict in json_list:\n",
        "            row = dict_to_list(dict, header)\n",
        "            cw.writerow(row)\n",
        "\n",
        "\n",
        "def dict_to_list(dict, header):\n",
        "    row = []\n",
        "    for field in header:\n",
        "        if field in dict:\n",
        "            row.append(str(dict[field]))\n",
        "        else:\n",
        "            row.append(None)\n",
        "    return row"
      ],
      "execution_count": 0,
      "outputs": []
    },
    {
      "cell_type": "markdown",
      "metadata": {
        "id": "gJyV4Da6xB0s",
        "colab_type": "text"
      },
      "source": [
        "## Generate dataset"
      ]
    },
    {
      "cell_type": "code",
      "metadata": {
        "id": "uhhsLu7Cu2Cl",
        "colab_type": "code",
        "colab": {}
      },
      "source": [
        "trade_codes = ['6519',\n",
        "               '6531',\n",
        "               '8471','6571','7849','7810','7842','7764','7723','7522','2924','5419','5417','7763','7711','7188']\n",
        "PATH = '/content/drive/My Drive/phd_data/sitc'\n",
        "os.chdir(PATH)\n",
        "trade_classification = 'sitc'\n",
        "def countries_and_products():\n",
        "  countries = oec.get_countries()\n",
        "  products = oec.get_products(trade_classification)\n",
        "  create_csv(countries,f'{PATH}/list_countries.csv')\n",
        "  create_csv(products,f'{PATH}/list_products.csv')"
      ],
      "execution_count": 0,
      "outputs": []
    },
    {
      "cell_type": "code",
      "metadata": {
        "id": "ytyiY64CvuNv",
        "colab_type": "code",
        "colab": {}
      },
      "source": [
        "countries_and_products()"
      ],
      "execution_count": 0,
      "outputs": []
    },
    {
      "cell_type": "code",
      "metadata": {
        "id": "4lwaim2-uzJ8",
        "colab_type": "code",
        "colab": {}
      },
      "source": [
        "import os.path\n",
        "from os import path\n",
        "def download_data(list_of_codes):\n",
        "  for i in trade_codes:\n",
        "    csv_name = f\"{trade_classification}-{i}\"\n",
        "    # Set parameters to extract top exporters from the API documentation\n",
        "    params = {'classification': trade_classification,\n",
        "          'trade_flow': 'export',\n",
        "          'year': 'all',\n",
        "          'origin': 'show', #Set origin to all for comparison\n",
        "          'destination': 'all',\n",
        "          'product': i} #Set code for product of interest\n",
        "    print(f'Data for {i} processed.....')\n",
        "    oec_data = get_trade(**params)\n",
        "    # Save the results in CSV file\n",
        "    if path.exists(PATH):\n",
        "      create_csv(oec_data,f'{csv_name}.csv')#,locals(),globals())\n",
        "    else:\n",
        "      print('Choose destination directory')"
      ],
      "execution_count": 0,
      "outputs": []
    },
    {
      "cell_type": "code",
      "metadata": {
        "id": "vEJc5KeWZKuy",
        "colab_type": "code",
        "colab": {
          "base_uri": "https://localhost:8080/",
          "height": 289
        },
        "outputId": "a56e530f-d30f-46c3-c897-c1a7d787ed3d"
      },
      "source": [
        "download_data(trade_codes)"
      ],
      "execution_count": 6,
      "outputs": [
        {
          "output_type": "stream",
          "text": [
            "Data for 6519 processed.....\n",
            "Data for 6531 processed.....\n",
            "Data for 8471 processed.....\n",
            "Data for 6571 processed.....\n",
            "Data for 7849 processed.....\n",
            "Data for 7810 processed.....\n",
            "Data for 7842 processed.....\n",
            "Data for 7764 processed.....\n",
            "Data for 7723 processed.....\n",
            "Data for 7522 processed.....\n",
            "Data for 2924 processed.....\n",
            "Data for 5419 processed.....\n",
            "Data for 5417 processed.....\n",
            "Data for 7763 processed.....\n",
            "Data for 7711 processed.....\n",
            "Data for 7188 processed.....\n"
          ],
          "name": "stdout"
        }
      ]
    },
    {
      "cell_type": "code",
      "metadata": {
        "id": "bjWtfD0TA8pc",
        "colab_type": "code",
        "colab": {}
      },
      "source": [
        "def create_df():\n",
        "  trade_data = [i for i in os.listdir(os.getcwd()) if i.endswith('.csv') and 'sitc' in i]\n",
        "  trade_df = []\n",
        "  for file in trade_data:\n",
        "    f_name = pd.read_csv(file)\n",
        "    trade_df.append(f_name)\n",
        "  trade_df = pd.concat(trade_df)"
      ],
      "execution_count": 0,
      "outputs": []
    },
    {
      "cell_type": "code",
      "metadata": {
        "id": "HdW-iC3yBMwO",
        "colab_type": "code",
        "colab": {}
      },
      "source": [
        "create_df()"
      ],
      "execution_count": 0,
      "outputs": []
    },
    {
      "cell_type": "code",
      "metadata": {
        "id": "knE-FouJEbME",
        "colab_type": "code",
        "colab": {
          "base_uri": "https://localhost:8080/",
          "height": 136
        },
        "outputId": "dbe73a55-d8db-488d-b2d8-b3fa341ba3a1"
      },
      "source": [
        "trade_df.columns"
      ],
      "execution_count": 36,
      "outputs": [
        {
          "output_type": "execute_result",
          "data": {
            "text/plain": [
              "Index(['export_rca', 'export_val', 'export_val_growth_pct',\n",
              "       'export_val_growth_pct_5', 'export_val_growth_val',\n",
              "       'export_val_growth_val_5', 'import_rca', 'import_val',\n",
              "       'import_val_growth_pct', 'import_val_growth_pct_5',\n",
              "       'import_val_growth_val', 'import_val_growth_val_5', 'origin_id',\n",
              "       'sitc_id', 'sitc_id_len', 'year'],\n",
              "      dtype='object')"
            ]
          },
          "metadata": {
            "tags": []
          },
          "execution_count": 36
        }
      ]
    },
    {
      "cell_type": "code",
      "metadata": {
        "id": "fyjih03iFAfn",
        "colab_type": "code",
        "colab": {}
      },
      "source": [
        ""
      ],
      "execution_count": 0,
      "outputs": []
    }
  ]
}