{
  "nbformat": 4,
  "nbformat_minor": 0,
  "metadata": {
    "colab": {
      "name": "data_prep.ipynb",
      "provenance": [],
      "toc_visible": true,
      "include_colab_link": true
    },
    "kernelspec": {
      "name": "python3",
      "display_name": "Python 3"
    }
  },
  "cells": [
    {
      "cell_type": "markdown",
      "metadata": {
        "id": "view-in-github",
        "colab_type": "text"
      },
      "source": [
        "<a href=\"https://colab.research.google.com/github/wgova/time_series_trade/blob/master/data_prep.ipynb\" target=\"_parent\"><img src=\"https://colab.research.google.com/assets/colab-badge.svg\" alt=\"Open In Colab\"/></a>"
      ]
    },
    {
      "cell_type": "code",
      "metadata": {
        "id": "tV2te-1vwuc4",
        "colab_type": "code",
        "colab": {}
      },
      "source": [
        ""
      ],
      "execution_count": 0,
      "outputs": []
    },
    {
      "cell_type": "code",
      "metadata": {
        "id": "hvFuMLeruPPy",
        "colab_type": "code",
        "colab": {
          "base_uri": "https://localhost:8080/",
          "height": 136
        },
        "outputId": "b28e8d23-7556-40e6-eb4f-7dff3e561f40"
      },
      "source": [
        "from google.colab import drive\n",
        "drive.mount('/content/drive')\n",
        "!pip install oec\n",
        "import oec\n",
        "import pandas as pd\n",
        "import numpy as np\n",
        "import os, os.path, csv, requests, pathlib\n",
        "import math\n",
        "from datetime import datetime\n",
        "\n",
        "#%matplotlib inline"
      ],
      "execution_count": 102,
      "outputs": [
        {
          "output_type": "stream",
          "text": [
            "Drive already mounted at /content/drive; to attempt to forcibly remount, call drive.mount(\"/content/drive\", force_remount=True).\n",
            "Requirement already satisfied: oec in /usr/local/lib/python3.6/dist-packages (0.2.5)\n",
            "Requirement already satisfied: requests in /usr/local/lib/python3.6/dist-packages (from oec) (2.23.0)\n",
            "Requirement already satisfied: idna<3,>=2.5 in /usr/local/lib/python3.6/dist-packages (from requests->oec) (2.9)\n",
            "Requirement already satisfied: urllib3!=1.25.0,!=1.25.1,<1.26,>=1.21.1 in /usr/local/lib/python3.6/dist-packages (from requests->oec) (1.24.3)\n",
            "Requirement already satisfied: certifi>=2017.4.17 in /usr/local/lib/python3.6/dist-packages (from requests->oec) (2020.4.5.1)\n",
            "Requirement already satisfied: chardet<4,>=3.0.2 in /usr/local/lib/python3.6/dist-packages (from requests->oec) (3.0.4)\n"
          ],
          "name": "stdout"
        }
      ]
    },
    {
      "cell_type": "code",
      "metadata": {
        "id": "P_i3AWqS08ND",
        "colab_type": "code",
        "colab": {
          "base_uri": "https://localhost:8080/",
          "height": 34
        },
        "outputId": "51f246d8-7853-4dc6-db80-254fdf1f109c"
      },
      "source": [
        "from google.colab import drive\n",
        "drive.mount('/content/drive', force_remount=True)"
      ],
      "execution_count": 103,
      "outputs": [
        {
          "output_type": "stream",
          "text": [
            "Mounted at /content/drive\n"
          ],
          "name": "stdout"
        }
      ]
    },
    {
      "cell_type": "markdown",
      "metadata": {
        "id": "WLJbgEGRu7Dj",
        "colab_type": "text"
      },
      "source": [
        "## List of industries to add to the data"
      ]
    },
    {
      "cell_type": "code",
      "metadata": {
        "id": "ntnr-8R_PXsT",
        "colab_type": "code",
        "colab": {}
      },
      "source": [
        "def build_call(*args):\n",
        "    call_url = 'http://atlas.media.mit.edu/'\n",
        "    for val in args:\n",
        "        call_url += str(val) + '/'\n",
        "    return call_url\n",
        "\n",
        "\n",
        "def request_data(call_url):\n",
        "    r = requests.get(call_url)\n",
        "    response_dict = r.json()\n",
        "    json_list = response_dict['data']  # list of dicts containing data\n",
        "    return json_list\n",
        "\n",
        "\n",
        "def get_countries(filename=None):\n",
        "    call = build_call('attr', 'country')\n",
        "    json_list = request_data(call)\n",
        "    if filename is not None:\n",
        "        data_to_csv(json_list, filename)\n",
        "    return json_list\n",
        "\n",
        "\n",
        "def get_products(classification, filename=None):\n",
        "    call = build_call('attr', classification)\n",
        "    json_list = request_data(call)\n",
        "    if filename is not None:\n",
        "        data_to_csv(json_list, filename)\n",
        "    return json_list\n",
        "\n",
        "\n",
        "def get_trade(classification, trade_flow, year, origin, destination,product, filename=None):\n",
        "    call = build_call(classification, trade_flow, year, origin, destination,\n",
        "                      product)\n",
        "    json_list = request_data(call)\n",
        "    if filename is not None:\n",
        "        data_to_csv(json_list, filename)\n",
        "    return json_list\n",
        "\n",
        "\n",
        "def trade_params(classification, trade_flow, year, origin, destination,product):\n",
        "    parameters = {'classification': classification,\n",
        "                  'trade_flow': trade_flow,\n",
        "                  'year': year,\n",
        "                  'origin': origin,\n",
        "                  'destination': destination,\n",
        "                  'product': product}\n",
        "    return parameters\n",
        "\n",
        "\n",
        "def get_header(json_list):\n",
        "    header = set()\n",
        "    for dict in json_list:\n",
        "        header.update(dict.keys())\n",
        "    header = list(header)\n",
        "    header.sort()\n",
        "    return header\n",
        "\n",
        "\n",
        "def create_csv(json_list, filename):\n",
        "    with open(filename, 'w') as csvfile:\n",
        "        header = get_header(json_list)\n",
        "        cw = csv.writer(csvfile)\n",
        "        cw.writerow(header)\n",
        "        for dict in json_list:\n",
        "            row = dict_to_list(dict, header)\n",
        "            cw.writerow(row)\n",
        "\n",
        "\n",
        "def dict_to_list(dict, header):\n",
        "    row = []\n",
        "    for field in header:\n",
        "        if field in dict:\n",
        "            row.append(str(dict[field]))\n",
        "        else:\n",
        "            row.append(None)\n",
        "    return row"
      ],
      "execution_count": 0,
      "outputs": []
    },
    {
      "cell_type": "markdown",
      "metadata": {
        "id": "gJyV4Da6xB0s",
        "colab_type": "text"
      },
      "source": [
        "## Generate dataset"
      ]
    },
    {
      "cell_type": "code",
      "metadata": {
        "id": "uhhsLu7Cu2Cl",
        "colab_type": "code",
        "colab": {}
      },
      "source": [
        "trade_codes = ['6519',\n",
        "               '6531',\n",
        "               '8471','6571','7849','7810','7842','7764','7723','7522','2924','5419','5417','7763','7711','7188']\n",
        "PATH = '/content/drive/My Drive/Stellenbosch/Webster'\n",
        "os.chdir(PATH)\n",
        "trade_classification = 'sitc'\n",
        "def countries_and_products():\n",
        "  countries = oec.get_countries()\n",
        "  products = oec.get_products(trade_classification)\n",
        "  create_csv(countries,f'{PATH}/list_countries.csv')\n",
        "  create_csv(products,f'{PATH}/list_products.csv')"
      ],
      "execution_count": 0,
      "outputs": []
    },
    {
      "cell_type": "code",
      "metadata": {
        "id": "2bVTIJ_VGpWC",
        "colab_type": "code",
        "colab": {}
      },
      "source": [
        "assert os.getcwd() == PATH"
      ],
      "execution_count": 0,
      "outputs": []
    },
    {
      "cell_type": "code",
      "metadata": {
        "id": "ytyiY64CvuNv",
        "colab_type": "code",
        "colab": {}
      },
      "source": [
        "countries_and_products()"
      ],
      "execution_count": 0,
      "outputs": []
    },
    {
      "cell_type": "code",
      "metadata": {
        "id": "4lwaim2-uzJ8",
        "colab_type": "code",
        "colab": {}
      },
      "source": [
        "import os.path\n",
        "from os import path\n",
        "def download_data(list_of_codes):\n",
        "  for i in trade_codes:\n",
        "    csv_name = f\"{trade_classification}-{i}\"\n",
        "    # Set parameters to extract top exporters from the API documentation\n",
        "    params = {'classification': trade_classification,\n",
        "          'trade_flow': 'export',\n",
        "          'year': 'all',\n",
        "          'origin': 'show', #Set origin to all for comparison\n",
        "          'destination': 'all',\n",
        "          'product': i} #Set code for product of interest\n",
        "    print(f'Data for {i} processed.....')\n",
        "    oec_data = get_trade(**params)\n",
        "    # Save the results in CSV file\n",
        "    if path.exists(PATH):\n",
        "      create_csv(oec_data,f'{csv_name}.csv')#,locals(),globals())\n",
        "    else:\n",
        "      print('Choose destination directory')"
      ],
      "execution_count": 0,
      "outputs": []
    },
    {
      "cell_type": "code",
      "metadata": {
        "id": "vEJc5KeWZKuy",
        "colab_type": "code",
        "colab": {
          "base_uri": "https://localhost:8080/",
          "height": 289
        },
        "outputId": "72a76436-1de7-44e5-8927-ab788d56ef08"
      },
      "source": [
        "download_data(trade_codes)"
      ],
      "execution_count": 109,
      "outputs": [
        {
          "output_type": "stream",
          "text": [
            "Data for 6519 processed.....\n",
            "Data for 6531 processed.....\n",
            "Data for 8471 processed.....\n",
            "Data for 6571 processed.....\n",
            "Data for 7849 processed.....\n",
            "Data for 7810 processed.....\n",
            "Data for 7842 processed.....\n",
            "Data for 7764 processed.....\n",
            "Data for 7723 processed.....\n",
            "Data for 7522 processed.....\n",
            "Data for 2924 processed.....\n",
            "Data for 5419 processed.....\n",
            "Data for 5417 processed.....\n",
            "Data for 7763 processed.....\n",
            "Data for 7711 processed.....\n",
            "Data for 7188 processed.....\n"
          ],
          "name": "stdout"
        }
      ]
    },
    {
      "cell_type": "code",
      "metadata": {
        "id": "bjWtfD0TA8pc",
        "colab_type": "code",
        "colab": {}
      },
      "source": [
        "def create_df():\n",
        "  trade_data = [i for i in os.listdir(os.getcwd()) if i.endswith('.csv') and 'sitc' in i]\n",
        "  trade_history = []\n",
        "  for file in trade_data:\n",
        "    file_name = pd.read_csv(file)\n",
        "    trade_history.append(file_name)\n",
        "  products_dataframe = pd.concat(trade_history)\n",
        "  return products_dataframe"
      ],
      "execution_count": 0,
      "outputs": []
    },
    {
      "cell_type": "code",
      "metadata": {
        "id": "RePq3sESG-3c",
        "colab_type": "code",
        "colab": {}
      },
      "source": [
        "trade_dframe = create_df()\n",
        "trade_dframe.columns\n",
        "droplist = ['export_val_growth_pct',\n",
        "       'export_val_growth_pct_5', 'export_val_growth_val',\n",
        "       'export_val_growth_val_5','import_val_growth_pct', 'import_val_growth_pct_5',\n",
        "       'import_val_growth_val', 'import_val_growth_val_5','sitc_id_len']\n",
        "trade_dframe.drop(droplist,axis=1,inplace=True)"
      ],
      "execution_count": 0,
      "outputs": []
    },
    {
      "cell_type": "code",
      "metadata": {
        "id": "QrgHw8xl35hm",
        "colab_type": "code",
        "colab": {
          "base_uri": "https://localhost:8080/",
          "height": 204
        },
        "outputId": "fd61373c-13cf-4395-de6c-d97240640a72"
      },
      "source": [
        "trade_dframe.fillna(0,inplace=True)\n",
        "trade_dframe[\"year\"] = pd.to_datetime(trade_dframe['year'], format='%Y')\n",
        "trade_dframe.head()"
      ],
      "execution_count": 112,
      "outputs": [
        {
          "output_type": "execute_result",
          "data": {
            "text/html": [
              "<div>\n",
              "<style scoped>\n",
              "    .dataframe tbody tr th:only-of-type {\n",
              "        vertical-align: middle;\n",
              "    }\n",
              "\n",
              "    .dataframe tbody tr th {\n",
              "        vertical-align: top;\n",
              "    }\n",
              "\n",
              "    .dataframe thead th {\n",
              "        text-align: right;\n",
              "    }\n",
              "</style>\n",
              "<table border=\"1\" class=\"dataframe\">\n",
              "  <thead>\n",
              "    <tr style=\"text-align: right;\">\n",
              "      <th></th>\n",
              "      <th>export_rca</th>\n",
              "      <th>export_val</th>\n",
              "      <th>import_rca</th>\n",
              "      <th>import_val</th>\n",
              "      <th>origin_id</th>\n",
              "      <th>sitc_id</th>\n",
              "      <th>year</th>\n",
              "    </tr>\n",
              "  </thead>\n",
              "  <tbody>\n",
              "    <tr>\n",
              "      <th>0</th>\n",
              "      <td>0.020916</td>\n",
              "      <td>3000.0</td>\n",
              "      <td>0.0</td>\n",
              "      <td>24000.0</td>\n",
              "      <td>afciv</td>\n",
              "      <td>606519</td>\n",
              "      <td>1962-01-01</td>\n",
              "    </tr>\n",
              "    <tr>\n",
              "      <th>1</th>\n",
              "      <td>0.025602</td>\n",
              "      <td>6000.0</td>\n",
              "      <td>0.0</td>\n",
              "      <td>21000.0</td>\n",
              "      <td>afcod</td>\n",
              "      <td>606519</td>\n",
              "      <td>1962-01-01</td>\n",
              "    </tr>\n",
              "    <tr>\n",
              "      <th>2</th>\n",
              "      <td>0.001952</td>\n",
              "      <td>1000.0</td>\n",
              "      <td>0.0</td>\n",
              "      <td>207000.0</td>\n",
              "      <td>afdza</td>\n",
              "      <td>606519</td>\n",
              "      <td>1962-01-01</td>\n",
              "    </tr>\n",
              "    <tr>\n",
              "      <th>3</th>\n",
              "      <td>0.078182</td>\n",
              "      <td>11000.0</td>\n",
              "      <td>0.0</td>\n",
              "      <td>36000.0</td>\n",
              "      <td>afegy</td>\n",
              "      <td>606519</td>\n",
              "      <td>1962-01-01</td>\n",
              "    </tr>\n",
              "    <tr>\n",
              "      <th>4</th>\n",
              "      <td>0.141766</td>\n",
              "      <td>17000.0</td>\n",
              "      <td>0.0</td>\n",
              "      <td>129000.0</td>\n",
              "      <td>afken</td>\n",
              "      <td>606519</td>\n",
              "      <td>1962-01-01</td>\n",
              "    </tr>\n",
              "  </tbody>\n",
              "</table>\n",
              "</div>"
            ],
            "text/plain": [
              "   export_rca  export_val  import_rca  import_val origin_id  sitc_id       year\n",
              "0    0.020916      3000.0         0.0     24000.0     afciv   606519 1962-01-01\n",
              "1    0.025602      6000.0         0.0     21000.0     afcod   606519 1962-01-01\n",
              "2    0.001952      1000.0         0.0    207000.0     afdza   606519 1962-01-01\n",
              "3    0.078182     11000.0         0.0     36000.0     afegy   606519 1962-01-01\n",
              "4    0.141766     17000.0         0.0    129000.0     afken   606519 1962-01-01"
            ]
          },
          "metadata": {
            "tags": []
          },
          "execution_count": 112
        }
      ]
    },
    {
      "cell_type": "code",
      "metadata": {
        "id": "9uz1TaMc9bFd",
        "colab_type": "code",
        "colab": {}
      },
      "source": [
        "country_list = pd.read_csv('list_countries.csv',usecols=['id','name'],\n",
        "                        na_values='',na_filter=True)\n",
        "country_list.rename(columns=lambda x: x.replace('name','country'), inplace=True)\n",
        "country_list.rename(columns=lambda x: x.replace('id','origin_id'), inplace=True)\n",
        "trade_dframe = trade_dframe.merge(country_list, on=['origin_id'],how='left')"
      ],
      "execution_count": 0,
      "outputs": []
    },
    {
      "cell_type": "code",
      "metadata": {
        "id": "xDKCuzGX-NmM",
        "colab_type": "code",
        "colab": {
          "base_uri": "https://localhost:8080/",
          "height": 153
        },
        "outputId": "19dce911-0046-44e9-92b5-2ade72e9c564"
      },
      "source": [
        "trade_dframe = trade_dframe.drop(['origin_id'],axis=1)\n",
        "# trade_dframe = trade_dframe[trade_dframe['export_val'].notna()]\n",
        "trade_dframe.isnull().sum()"
      ],
      "execution_count": 114,
      "outputs": [
        {
          "output_type": "execute_result",
          "data": {
            "text/plain": [
              "export_rca    0\n",
              "export_val    0\n",
              "import_rca    0\n",
              "import_val    0\n",
              "sitc_id       0\n",
              "year          0\n",
              "country       0\n",
              "dtype: int64"
            ]
          },
          "metadata": {
            "tags": []
          },
          "execution_count": 114
        }
      ]
    },
    {
      "cell_type": "code",
      "metadata": {
        "id": "HkVBspfH-i3Z",
        "colab_type": "code",
        "colab": {
          "base_uri": "https://localhost:8080/",
          "height": 204
        },
        "outputId": "039ffc32-5e51-4fd3-ac31-80f0b79cf865"
      },
      "source": [
        "trade_dframe.head()"
      ],
      "execution_count": 115,
      "outputs": [
        {
          "output_type": "execute_result",
          "data": {
            "text/html": [
              "<div>\n",
              "<style scoped>\n",
              "    .dataframe tbody tr th:only-of-type {\n",
              "        vertical-align: middle;\n",
              "    }\n",
              "\n",
              "    .dataframe tbody tr th {\n",
              "        vertical-align: top;\n",
              "    }\n",
              "\n",
              "    .dataframe thead th {\n",
              "        text-align: right;\n",
              "    }\n",
              "</style>\n",
              "<table border=\"1\" class=\"dataframe\">\n",
              "  <thead>\n",
              "    <tr style=\"text-align: right;\">\n",
              "      <th></th>\n",
              "      <th>export_rca</th>\n",
              "      <th>export_val</th>\n",
              "      <th>import_rca</th>\n",
              "      <th>import_val</th>\n",
              "      <th>sitc_id</th>\n",
              "      <th>year</th>\n",
              "      <th>country</th>\n",
              "    </tr>\n",
              "  </thead>\n",
              "  <tbody>\n",
              "    <tr>\n",
              "      <th>0</th>\n",
              "      <td>0.020916</td>\n",
              "      <td>3000.0</td>\n",
              "      <td>0.0</td>\n",
              "      <td>24000.0</td>\n",
              "      <td>606519</td>\n",
              "      <td>1962-01-01</td>\n",
              "      <td>Cote d'Ivoire</td>\n",
              "    </tr>\n",
              "    <tr>\n",
              "      <th>1</th>\n",
              "      <td>0.025602</td>\n",
              "      <td>6000.0</td>\n",
              "      <td>0.0</td>\n",
              "      <td>21000.0</td>\n",
              "      <td>606519</td>\n",
              "      <td>1962-01-01</td>\n",
              "      <td>Democratic Republic of the Congo</td>\n",
              "    </tr>\n",
              "    <tr>\n",
              "      <th>2</th>\n",
              "      <td>0.001952</td>\n",
              "      <td>1000.0</td>\n",
              "      <td>0.0</td>\n",
              "      <td>207000.0</td>\n",
              "      <td>606519</td>\n",
              "      <td>1962-01-01</td>\n",
              "      <td>Algeria</td>\n",
              "    </tr>\n",
              "    <tr>\n",
              "      <th>3</th>\n",
              "      <td>0.078182</td>\n",
              "      <td>11000.0</td>\n",
              "      <td>0.0</td>\n",
              "      <td>36000.0</td>\n",
              "      <td>606519</td>\n",
              "      <td>1962-01-01</td>\n",
              "      <td>Egypt</td>\n",
              "    </tr>\n",
              "    <tr>\n",
              "      <th>4</th>\n",
              "      <td>0.141766</td>\n",
              "      <td>17000.0</td>\n",
              "      <td>0.0</td>\n",
              "      <td>129000.0</td>\n",
              "      <td>606519</td>\n",
              "      <td>1962-01-01</td>\n",
              "      <td>Kenya</td>\n",
              "    </tr>\n",
              "  </tbody>\n",
              "</table>\n",
              "</div>"
            ],
            "text/plain": [
              "   export_rca  export_val  ...       year                           country\n",
              "0    0.020916      3000.0  ... 1962-01-01                     Cote d'Ivoire\n",
              "1    0.025602      6000.0  ... 1962-01-01  Democratic Republic of the Congo\n",
              "2    0.001952      1000.0  ... 1962-01-01                           Algeria\n",
              "3    0.078182     11000.0  ... 1962-01-01                             Egypt\n",
              "4    0.141766     17000.0  ... 1962-01-01                             Kenya\n",
              "\n",
              "[5 rows x 7 columns]"
            ]
          },
          "metadata": {
            "tags": []
          },
          "execution_count": 115
        }
      ]
    },
    {
      "cell_type": "markdown",
      "metadata": {
        "id": "3ifTpD32zGQJ",
        "colab_type": "text"
      },
      "source": [
        "# Extract comprehensive features"
      ]
    },
    {
      "cell_type": "markdown",
      "metadata": {
        "id": "5uiMdz3Q_Dn0",
        "colab_type": "text"
      },
      "source": [
        "### Packages"
      ]
    },
    {
      "cell_type": "code",
      "metadata": {
        "id": "Fl0YdIm5IU7B",
        "colab_type": "code",
        "colab": {
          "base_uri": "https://localhost:8080/",
          "height": 578
        },
        "outputId": "da7bf9d2-0fc8-4de3-8ead-ca821dde6295"
      },
      "source": [
        "!pip install tsfresh \n",
        "import os\n",
        "import logging\n",
        "import warnings\n",
        "\n",
        "import pandas as pd\n",
        "import matplotlib.pyplot as plt\n",
        "from pandas_datareader.data import DataReader as pdr\n",
        "import fix_yahoo_finance as yf\n",
        "yf.pdr_override()\n",
        "\n",
        "from tsfresh import extract_features, select_features\n",
        "from tsfresh import defaults\n",
        "from tsfresh.feature_extraction import feature_calculators\n",
        "from tsfresh.feature_extraction.settings import ComprehensiveFCParameters\n",
        "from tsfresh.utilities import dataframe_functions, profiling\n",
        "from tsfresh.utilities.distribution import MapDistributor, MultiprocessingDistributor,DistributorBaseClass\n",
        "from tsfresh.utilities.string_manipulation import convert_to_output_format\n",
        "\n",
        "import tsfresh\n",
        "from tsfresh.feature_extraction.settings import EfficientFCParameters\n",
        "from tsfresh.utilities.dataframe_functions import roll_time_series"
      ],
      "execution_count": 116,
      "outputs": [
        {
          "output_type": "stream",
          "text": [
            "Requirement already satisfied: tsfresh in /usr/local/lib/python3.6/dist-packages (0.16.0)\n",
            "Requirement already satisfied: scikit-learn>=0.19.0 in /usr/local/lib/python3.6/dist-packages (from tsfresh) (0.22.2.post1)\n",
            "Requirement already satisfied: requests>=2.9.1 in /usr/local/lib/python3.6/dist-packages (from tsfresh) (2.23.0)\n",
            "Requirement already satisfied: tqdm>=4.10.0 in /usr/local/lib/python3.6/dist-packages (from tsfresh) (4.41.1)\n",
            "Requirement already satisfied: patsy>=0.4.1 in /usr/local/lib/python3.6/dist-packages (from tsfresh) (0.5.1)\n",
            "Requirement already satisfied: pandas!=0.24.*,>=0.20.3 in /usr/local/lib/python3.6/dist-packages (from tsfresh) (1.0.3)\n",
            "Requirement already satisfied: distributed>=1.18.3 in /usr/local/lib/python3.6/dist-packages (from tsfresh) (1.25.3)\n",
            "Requirement already satisfied: dask[dataframe]>=0.15.2 in /usr/local/lib/python3.6/dist-packages (from tsfresh) (2.12.0)\n",
            "Requirement already satisfied: scipy>=1.2.0 in /usr/local/lib/python3.6/dist-packages (from tsfresh) (1.4.1)\n",
            "Requirement already satisfied: statsmodels>=0.8.0 in /usr/local/lib/python3.6/dist-packages (from tsfresh) (0.10.2)\n",
            "Requirement already satisfied: numpy>=1.15.1 in /usr/local/lib/python3.6/dist-packages (from tsfresh) (1.18.4)\n",
            "Requirement already satisfied: joblib>=0.11 in /usr/local/lib/python3.6/dist-packages (from scikit-learn>=0.19.0->tsfresh) (0.14.1)\n",
            "Requirement already satisfied: chardet<4,>=3.0.2 in /usr/local/lib/python3.6/dist-packages (from requests>=2.9.1->tsfresh) (3.0.4)\n",
            "Requirement already satisfied: certifi>=2017.4.17 in /usr/local/lib/python3.6/dist-packages (from requests>=2.9.1->tsfresh) (2020.4.5.1)\n",
            "Requirement already satisfied: urllib3!=1.25.0,!=1.25.1,<1.26,>=1.21.1 in /usr/local/lib/python3.6/dist-packages (from requests>=2.9.1->tsfresh) (1.24.3)\n",
            "Requirement already satisfied: idna<3,>=2.5 in /usr/local/lib/python3.6/dist-packages (from requests>=2.9.1->tsfresh) (2.9)\n",
            "Requirement already satisfied: six in /usr/local/lib/python3.6/dist-packages (from patsy>=0.4.1->tsfresh) (1.12.0)\n",
            "Requirement already satisfied: python-dateutil>=2.6.1 in /usr/local/lib/python3.6/dist-packages (from pandas!=0.24.*,>=0.20.3->tsfresh) (2.8.1)\n",
            "Requirement already satisfied: pytz>=2017.2 in /usr/local/lib/python3.6/dist-packages (from pandas!=0.24.*,>=0.20.3->tsfresh) (2018.9)\n",
            "Requirement already satisfied: tblib in /usr/local/lib/python3.6/dist-packages (from distributed>=1.18.3->tsfresh) (1.6.0)\n",
            "Requirement already satisfied: tornado>=4.5.1 in /usr/local/lib/python3.6/dist-packages (from distributed>=1.18.3->tsfresh) (4.5.3)\n",
            "Requirement already satisfied: msgpack in /usr/local/lib/python3.6/dist-packages (from distributed>=1.18.3->tsfresh) (1.0.0)\n",
            "Requirement already satisfied: click>=6.6 in /usr/local/lib/python3.6/dist-packages (from distributed>=1.18.3->tsfresh) (7.1.2)\n",
            "Requirement already satisfied: psutil>=5.0 in /usr/local/lib/python3.6/dist-packages (from distributed>=1.18.3->tsfresh) (5.4.8)\n",
            "Requirement already satisfied: pyyaml in /usr/local/lib/python3.6/dist-packages (from distributed>=1.18.3->tsfresh) (3.13)\n",
            "Requirement already satisfied: sortedcontainers!=2.0.0,!=2.0.1 in /usr/local/lib/python3.6/dist-packages (from distributed>=1.18.3->tsfresh) (2.1.0)\n",
            "Requirement already satisfied: toolz>=0.7.4 in /usr/local/lib/python3.6/dist-packages (from distributed>=1.18.3->tsfresh) (0.10.0)\n",
            "Requirement already satisfied: cloudpickle>=0.2.2 in /usr/local/lib/python3.6/dist-packages (from distributed>=1.18.3->tsfresh) (1.3.0)\n",
            "Requirement already satisfied: zict>=0.1.3 in /usr/local/lib/python3.6/dist-packages (from distributed>=1.18.3->tsfresh) (2.0.0)\n",
            "Requirement already satisfied: fsspec>=0.6.0; extra == \"dataframe\" in /usr/local/lib/python3.6/dist-packages (from dask[dataframe]>=0.15.2->tsfresh) (0.7.3)\n",
            "Requirement already satisfied: partd>=0.3.10; extra == \"dataframe\" in /usr/local/lib/python3.6/dist-packages (from dask[dataframe]>=0.15.2->tsfresh) (1.1.0)\n",
            "Requirement already satisfied: heapdict in /usr/local/lib/python3.6/dist-packages (from zict>=0.1.3->distributed>=1.18.3->tsfresh) (1.0.1)\n",
            "Requirement already satisfied: locket in /usr/local/lib/python3.6/dist-packages (from partd>=0.3.10; extra == \"dataframe\"->dask[dataframe]>=0.15.2->tsfresh) (0.2.0)\n"
          ],
          "name": "stdout"
        }
      ]
    },
    {
      "cell_type": "markdown",
      "metadata": {
        "id": "_Yspu1f6_T4A",
        "colab_type": "text"
      },
      "source": [
        "### Extract features"
      ]
    },
    {
      "cell_type": "code",
      "metadata": {
        "id": "cSytNPOf_Yzq",
        "colab_type": "code",
        "colab": {
          "base_uri": "https://localhost:8080/",
          "height": 204
        },
        "outputId": "28fa6832-4070-48cd-b873-2fcd5601eac1"
      },
      "source": [
        "trade_dframe.head()"
      ],
      "execution_count": 117,
      "outputs": [
        {
          "output_type": "execute_result",
          "data": {
            "text/html": [
              "<div>\n",
              "<style scoped>\n",
              "    .dataframe tbody tr th:only-of-type {\n",
              "        vertical-align: middle;\n",
              "    }\n",
              "\n",
              "    .dataframe tbody tr th {\n",
              "        vertical-align: top;\n",
              "    }\n",
              "\n",
              "    .dataframe thead th {\n",
              "        text-align: right;\n",
              "    }\n",
              "</style>\n",
              "<table border=\"1\" class=\"dataframe\">\n",
              "  <thead>\n",
              "    <tr style=\"text-align: right;\">\n",
              "      <th></th>\n",
              "      <th>export_rca</th>\n",
              "      <th>export_val</th>\n",
              "      <th>import_rca</th>\n",
              "      <th>import_val</th>\n",
              "      <th>sitc_id</th>\n",
              "      <th>year</th>\n",
              "      <th>country</th>\n",
              "    </tr>\n",
              "  </thead>\n",
              "  <tbody>\n",
              "    <tr>\n",
              "      <th>0</th>\n",
              "      <td>0.020916</td>\n",
              "      <td>3000.0</td>\n",
              "      <td>0.0</td>\n",
              "      <td>24000.0</td>\n",
              "      <td>606519</td>\n",
              "      <td>1962-01-01</td>\n",
              "      <td>Cote d'Ivoire</td>\n",
              "    </tr>\n",
              "    <tr>\n",
              "      <th>1</th>\n",
              "      <td>0.025602</td>\n",
              "      <td>6000.0</td>\n",
              "      <td>0.0</td>\n",
              "      <td>21000.0</td>\n",
              "      <td>606519</td>\n",
              "      <td>1962-01-01</td>\n",
              "      <td>Democratic Republic of the Congo</td>\n",
              "    </tr>\n",
              "    <tr>\n",
              "      <th>2</th>\n",
              "      <td>0.001952</td>\n",
              "      <td>1000.0</td>\n",
              "      <td>0.0</td>\n",
              "      <td>207000.0</td>\n",
              "      <td>606519</td>\n",
              "      <td>1962-01-01</td>\n",
              "      <td>Algeria</td>\n",
              "    </tr>\n",
              "    <tr>\n",
              "      <th>3</th>\n",
              "      <td>0.078182</td>\n",
              "      <td>11000.0</td>\n",
              "      <td>0.0</td>\n",
              "      <td>36000.0</td>\n",
              "      <td>606519</td>\n",
              "      <td>1962-01-01</td>\n",
              "      <td>Egypt</td>\n",
              "    </tr>\n",
              "    <tr>\n",
              "      <th>4</th>\n",
              "      <td>0.141766</td>\n",
              "      <td>17000.0</td>\n",
              "      <td>0.0</td>\n",
              "      <td>129000.0</td>\n",
              "      <td>606519</td>\n",
              "      <td>1962-01-01</td>\n",
              "      <td>Kenya</td>\n",
              "    </tr>\n",
              "  </tbody>\n",
              "</table>\n",
              "</div>"
            ],
            "text/plain": [
              "   export_rca  export_val  ...       year                           country\n",
              "0    0.020916      3000.0  ... 1962-01-01                     Cote d'Ivoire\n",
              "1    0.025602      6000.0  ... 1962-01-01  Democratic Republic of the Congo\n",
              "2    0.001952      1000.0  ... 1962-01-01                           Algeria\n",
              "3    0.078182     11000.0  ... 1962-01-01                             Egypt\n",
              "4    0.141766     17000.0  ... 1962-01-01                             Kenya\n",
              "\n",
              "[5 rows x 7 columns]"
            ]
          },
          "metadata": {
            "tags": []
          },
          "execution_count": 117
        }
      ]
    },
    {
      "cell_type": "code",
      "metadata": {
        "id": "bF0r_ij4_GW6",
        "colab_type": "code",
        "colab": {
          "base_uri": "https://localhost:8080/",
          "height": 136
        },
        "outputId": "e853fc06-06fe-47c6-8e53-01b03b03026b"
      },
      "source": [
        "extracted_features = extract_features(\n",
        "    trade_dframe[['export_rca',\"export_val\",\"import_rca\",\"import_val\",\"year\",\"country\"]], \n",
        "    column_id=\"country\", \n",
        "    column_sort=\"year\",\n",
        "    column_value=None,column_kind=None,\n",
        "    chunksize=None,\n",
        "    default_fc_parameters=ComprehensiveFCParameters(),\n",
        "    # default_fc_parameters=EfficientFCParameters(),\n",
        "    )\n",
        "extracted_features.to_csv(\"tfresh_comprehensive_nositcnames.csv\")\n",
        "feature_names = extracted_features.columns"
      ],
      "execution_count": 118,
      "outputs": [
        {
          "output_type": "stream",
          "text": [
            "\n",
            "Feature Extraction:   0%|          | 0/5 [00:00<?, ?it/s]\u001b[A\n",
            "Feature Extraction:  20%|██        | 1/5 [00:53<03:34, 53.53s/it]\u001b[A\n",
            "Feature Extraction:  40%|████      | 2/5 [01:46<02:39, 53.26s/it]\u001b[A\n",
            "Feature Extraction:  60%|██████    | 3/5 [02:45<01:50, 55.03s/it]\u001b[A\n",
            "Feature Extraction:  80%|████████  | 4/5 [03:36<00:53, 53.80s/it]\u001b[A\n",
            "Feature Extraction: 100%|██████████| 5/5 [04:32<00:00, 54.54s/it]\n"
          ],
          "name": "stderr"
        }
      ]
    },
    {
      "cell_type": "code",
      "metadata": {
        "id": "9gCsltCz_Ij5",
        "colab_type": "code",
        "colab": {
          "base_uri": "https://localhost:8080/",
          "height": 102
        },
        "outputId": "dfa8f487-32f6-49ba-8a3a-debe541cc656"
      },
      "source": [
        "extracted_features = extract_features(\n",
        "    trade_dframe[['export_rca',\"export_val\",\"import_rca\",\"import_val\",\"year\",\"country\"]], \n",
        "    column_id=\"country\", \n",
        "    column_sort=\"year\",\n",
        "    column_value=None,column_kind=None,\n",
        "    chunksize=None,\n",
        "    default_fc_parameters=EfficientFCParameters(),\n",
        "    )\n",
        "extracted_features.to_csv(\"tfresh_efficientfc_nositcnames.csv\")\n",
        "feature_names_efc = extracted_features.columns"
      ],
      "execution_count": 0,
      "outputs": [
        {
          "output_type": "stream",
          "text": [
            "\n",
            "Feature Extraction:   0%|          | 0/5 [00:00<?, ?it/s]\u001b[A\n",
            "Feature Extraction:  20%|██        | 1/5 [00:23<01:35, 23.87s/it]\u001b[A\n",
            "Feature Extraction:  40%|████      | 2/5 [00:46<01:10, 23.59s/it]\u001b[A\n",
            "Feature Extraction:  60%|██████    | 3/5 [01:11<00:47, 24.00s/it]\u001b[A"
          ],
          "name": "stderr"
        }
      ]
    },
    {
      "cell_type": "code",
      "metadata": {
        "id": "2lUi_I99C50g",
        "colab_type": "code",
        "colab": {}
      },
      "source": [
        ""
      ],
      "execution_count": 0,
      "outputs": []
    },
    {
      "cell_type": "code",
      "metadata": {
        "id": "mBJatMVdC94B",
        "colab_type": "code",
        "colab": {}
      },
      "source": [
        ""
      ],
      "execution_count": 0,
      "outputs": []
    }
  ]
}