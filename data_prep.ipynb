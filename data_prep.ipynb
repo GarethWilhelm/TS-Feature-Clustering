{
  "nbformat": 4,
  "nbformat_minor": 0,
  "metadata": {
    "colab": {
      "name": "data_prep.ipynb",
      "provenance": [],
      "include_colab_link": true
    },
    "kernelspec": {
      "name": "python3",
      "display_name": "Python 3"
    },
    "accelerator": "GPU"
  },
  "cells": [
    {
      "cell_type": "markdown",
      "metadata": {
        "id": "view-in-github",
        "colab_type": "text"
      },
      "source": [
        "<a href=\"https://colab.research.google.com/github/wgova/time_series_trade/blob/master/data_prep.ipynb\" target=\"_parent\"><img src=\"https://colab.research.google.com/assets/colab-badge.svg\" alt=\"Open In Colab\"/></a>"
      ]
    },
    {
      "cell_type": "code",
      "metadata": {
        "id": "hvFuMLeruPPy",
        "colab_type": "code",
        "colab": {}
      },
      "source": [
        "!pip install -q oec\n",
        "import oec\n",
        "import pandas as pd\n",
        "import numpy as np\n",
        "import os, os.path, csv, requests, pathlib\n",
        "import math\n",
        "from datetime import datetime\n",
        "import matplotlib.pyplot as plt\n",
        "%matplotlib inline"
      ],
      "execution_count": 0,
      "outputs": []
    },
    {
      "cell_type": "code",
      "metadata": {
        "id": "P_i3AWqS08ND",
        "colab_type": "code",
        "colab": {}
      },
      "source": [
        "from google.colab import drive\n",
        "drive.mount('/content/drive', force_remount=True)"
      ],
      "execution_count": 0,
      "outputs": []
    },
    {
      "cell_type": "markdown",
      "metadata": {
        "id": "WLJbgEGRu7Dj",
        "colab_type": "text"
      },
      "source": [
        "## OED data API functions"
      ]
    },
    {
      "cell_type": "code",
      "metadata": {
        "id": "ntnr-8R_PXsT",
        "colab_type": "code",
        "colab": {}
      },
      "source": [
        "def build_call(*args):\n",
        "    call_url = 'http://atlas.media.mit.edu/'\n",
        "    for val in args:\n",
        "        call_url += str(val) + '/'\n",
        "    return call_url\n",
        "\n",
        "\n",
        "def request_data(call_url):\n",
        "    r = requests.get(call_url)\n",
        "    response_dict = r.json()\n",
        "    json_list = response_dict['data']  # list of dicts containing data\n",
        "    return json_list\n",
        "\n",
        "\n",
        "def get_countries(filename=None):\n",
        "    call = build_call('attr', 'country')\n",
        "    json_list = request_data(call)\n",
        "    if filename is not None:\n",
        "        data_to_csv(json_list, filename)\n",
        "    return json_list\n",
        "\n",
        "\n",
        "def get_products(classification, filename=None):\n",
        "    call = build_call('attr', classification)\n",
        "    json_list = request_data(call)\n",
        "    if filename is not None:\n",
        "        data_to_csv(json_list, filename)\n",
        "    return json_list\n",
        "\n",
        "\n",
        "def get_trade(classification, trade_flow, year, origin, destination,product, filename=None):\n",
        "    call = build_call(classification, trade_flow, year, origin, destination,\n",
        "                      product)\n",
        "    json_list = request_data(call)\n",
        "    if filename is not None:\n",
        "        data_to_csv(json_list, filename)\n",
        "    return json_list\n",
        "\n",
        "\n",
        "def trade_params(classification, trade_flow, year, origin, destination,product):\n",
        "    parameters = {'classification': classification,\n",
        "                  'trade_flow': trade_flow,\n",
        "                  'year': year,\n",
        "                  'origin': origin,\n",
        "                  'destination': destination,\n",
        "                  'product': product}\n",
        "    return parameters\n",
        "\n",
        "\n",
        "def get_header(json_list):\n",
        "    header = set()\n",
        "    for dict in json_list:\n",
        "        header.update(dict.keys())\n",
        "    header = list(header)\n",
        "    header.sort()\n",
        "    return header\n",
        "\n",
        "\n",
        "def create_csv(json_list, filename):\n",
        "    with open(filename, 'w') as csvfile:\n",
        "        header = get_header(json_list)\n",
        "        cw = csv.writer(csvfile)\n",
        "        cw.writerow(header)\n",
        "        for dict in json_list:\n",
        "            row = dict_to_list(dict, header)\n",
        "            cw.writerow(row)\n",
        "\n",
        "\n",
        "def dict_to_list(dict, header):\n",
        "    row = []\n",
        "    for field in header:\n",
        "        if field in dict:\n",
        "            row.append(str(dict[field]))\n",
        "        else:\n",
        "            row.append(None)\n",
        "    return row"
      ],
      "execution_count": 0,
      "outputs": []
    },
    {
      "cell_type": "markdown",
      "metadata": {
        "id": "gJyV4Da6xB0s",
        "colab_type": "text"
      },
      "source": [
        "## Generate dataset"
      ]
    },
    {
      "cell_type": "code",
      "metadata": {
        "id": "uhhsLu7Cu2Cl",
        "colab_type": "code",
        "colab": {}
      },
      "source": [
        "trade_codes = ['6519','6531','8471','6571','7849','7810','7842','7764','7723','7522','2924','5419','5417','7763','7711','7188']\n",
        "PATH = '/content/drive/My Drive/Stellenbosch/Webster'\n",
        "os.chdir(PATH)\n",
        "trade_classification = 'sitc'\n",
        "def countries_and_products():\n",
        "  countries = oec.get_countries()\n",
        "  products = oec.get_products(trade_classification)\n",
        "  create_csv(countries,f'{PATH}/list_countries.csv')\n",
        "  create_csv(products,f'{PATH}/list_products.csv')"
      ],
      "execution_count": 0,
      "outputs": []
    },
    {
      "cell_type": "code",
      "metadata": {
        "id": "ytyiY64CvuNv",
        "colab_type": "code",
        "colab": {}
      },
      "source": [
        "countries_and_products()"
      ],
      "execution_count": 0,
      "outputs": []
    },
    {
      "cell_type": "code",
      "metadata": {
        "id": "4lwaim2-uzJ8",
        "colab_type": "code",
        "colab": {}
      },
      "source": [
        "import os.path\n",
        "from os import path\n",
        "def download_data(list_of_codes):\n",
        "  for i in trade_codes:\n",
        "    csv_name = f\"{trade_classification}-{i}\"\n",
        "    # Set parameters to extract top exporters from the API documentation\n",
        "    params = {'classification': trade_classification,\n",
        "          'trade_flow': 'export',\n",
        "          'year': 'all',\n",
        "          'origin': 'show', #Set origin to all for comparison\n",
        "          'destination': 'all',\n",
        "          'product': i} #Set code for product of interest\n",
        "    print(f'Data for {i} processed.....')\n",
        "    oec_data = get_trade(**params)\n",
        "    # Save the results in CSV file\n",
        "    if path.exists(PATH):\n",
        "      create_csv(oec_data,f'{csv_name}.csv')#,locals(),globals())\n",
        "    else:\n",
        "      print('Choose destination directory')"
      ],
      "execution_count": 0,
      "outputs": []
    },
    {
      "cell_type": "code",
      "metadata": {
        "id": "vEJc5KeWZKuy",
        "colab_type": "code",
        "colab": {}
      },
      "source": [
        "download_data(trade_codes)"
      ],
      "execution_count": 0,
      "outputs": []
    },
    {
      "cell_type": "code",
      "metadata": {
        "id": "bjWtfD0TA8pc",
        "colab_type": "code",
        "colab": {}
      },
      "source": [
        "import pandas as pd\n",
        "import numpy as np\n",
        "import os, os.path, csv, requests, pathlib\n",
        "import math\n",
        "from datetime import datetime\n",
        "\n",
        "PATH = '/content/drive/My Drive/Stellenbosch/Webster'\n",
        "include_list = ['year','origin_id','sitc_id','export_val','export_rca']\n",
        "def create_df(path):\n",
        "  trade_data = [i for i in os.listdir(path) if i.startswith('sitc') and '.csv' in i]\n",
        "  trade_history = []\n",
        "  for file in trade_data:\n",
        "    file_name = pd.read_csv(file,usecols=include_list,parse_dates=['year'])#, index_col=['year'])\n",
        "    trade_history.append(file_name)\n",
        "  products_dataframe = pd.concat(trade_history)\n",
        "  return products_dataframe"
      ],
      "execution_count": 0,
      "outputs": []
    },
    {
      "cell_type": "code",
      "metadata": {
        "id": "RePq3sESG-3c",
        "colab_type": "code",
        "colab": {}
      },
      "source": [
        "trade_df = create_df(PATH)"
      ],
      "execution_count": 0,
      "outputs": []
    },
    {
      "cell_type": "code",
      "metadata": {
        "id": "bATlOlarGHHr",
        "colab_type": "code",
        "colab": {}
      },
      "source": [
        "country_list = pd.read_csv('list_countries.csv',usecols=['id','name'],\n",
        "                        na_values='',na_filter=True)\n",
        "country_list.rename(columns=lambda x: x.replace('name','country'), inplace=True)\n",
        "country_list.rename(columns=lambda x: x.replace('id','origin_id'), inplace=True)\n",
        "country_list.info()"
      ],
      "execution_count": 0,
      "outputs": []
    },
    {
      "cell_type": "code",
      "metadata": {
        "id": "PFpb-aUW6z8I",
        "colab_type": "code",
        "colab": {}
      },
      "source": [
        "trade_dframe = trade_df.merge(country_list, on=['origin_id'],how='inner')\n",
        "trade_dframe['sitc_id'].astype('category')\n",
        "trade_dframe.fillna(0,inplace=True)\n",
        "trade_dframe.head(2)"
      ],
      "execution_count": 0,
      "outputs": []
    },
    {
      "cell_type": "code",
      "metadata": {
        "id": "oj0ky5uiYDZx",
        "colab_type": "code",
        "colab": {}
      },
      "source": [
        "products = pd.read_csv(f'{PATH}/list_products.csv',usecols=['id','name','display_id'])\n",
        "products.rename(columns={'id':'sitc_id'},inplace=True)\n",
        "products = products[products['display_id'].isin(trade_codes)]\n",
        "products['name'] = products.name.astype('category')\n",
        "products['sitc_id'] = products.sitc_id.astype(int)\n",
        "trade_dframe['product_name'] = trade_dframe.sitc_id.map(products.set_index('sitc_id')['name'].to_dict())\n",
        "products.info()"
      ],
      "execution_count": 0,
      "outputs": []
    },
    {
      "cell_type": "code",
      "metadata": {
        "id": "kTHGavV1GSqG",
        "colab_type": "code",
        "colab": {}
      },
      "source": [
        "agg_product = pd.pivot_table(trade_dframe, index='year', columns='product_name', values='export_val', aggfunc=np.mean)\n",
        "agg_product.fillna(0,inplace=True)"
      ],
      "execution_count": 0,
      "outputs": []
    },
    {
      "cell_type": "code",
      "metadata": {
        "id": "-yTWG3p8cw8L",
        "colab_type": "code",
        "colab": {}
      },
      "source": [
        "# agg_product.rename(columns=products.set_index('sitc_id')['name'], inplace=True)\n",
        "# agg_product.rename(columns=prod_dict,inplace=True)\n",
        "agg_product.head()"
      ],
      "execution_count": 0,
      "outputs": []
    },
    {
      "cell_type": "code",
      "metadata": {
        "id": "NXA8dhSpTQA8",
        "colab_type": "code",
        "colab": {}
      },
      "source": [
        "prod_dict = {'Yarn of Textile Fibers':'yarn_fiber',\n",
        "                             'Synthetic Woven Fabrics':'synthetic_fiber',\n",
        "                             'Textile Fabrics Clothing Accessories':'accessory_fabrics',\n",
        "                             'Vehicles Parts and Accessories':'vehicle_parts',\n",
        "                             'Personal Computers':'computers',\n",
        "                             'Pharmaceutical Flora':'pharma_flora',\n",
        "                             'Non-Medicinal Pharmaceutical Products':'non_medicinals',\n",
        "                             'Diodes, Transistors and Photocells':'diodes_photocells',\n",
        "                             'Miscellaneous Engines':'engines'\n",
        "                             }\n",
        "agg_product.rename(columns=prod_dict,inplace=True)\n",
        "def clean_header(df):\n",
        "  df.columns = df.columns.str.strip().str.lower().str.replace(' ', '_').str.replace('(', '').str.replace(')', '')\n",
        "  return df.columns\n",
        "clean_header(agg_product)\n",
        "# trade_dframe[cols].head()\n",
        "agg_product.head()"
      ],
      "execution_count": 0,
      "outputs": []
    },
    {
      "cell_type": "code",
      "metadata": {
        "id": "qiWeO6qEcrR7",
        "colab_type": "code",
        "colab": {}
      },
      "source": [
        "agg_country = pd.pivot_table(trade_dframe, index='year', columns='country', values='export_val', aggfunc=np.mean)\n",
        "agg_south_africa = pd.pivot_table(trade_dframe[trade_dframe.country==\"South Africa\"], index='year', columns='product_name', values='export_val', aggfunc=np.mean)\n",
        "agg_south_africa.fillna(0,inplace=True)\n",
        "agg_south_africa.rename(columns=prod_dict,inplace=True)\n",
        "clean_header(agg_south_africa)"
      ],
      "execution_count": 0,
      "outputs": []
    },
    {
      "cell_type": "code",
      "metadata": {
        "id": "bozrs9LzUA-E",
        "colab_type": "code",
        "colab": {}
      },
      "source": [
        "plt.figure(figsize=(24, 8))\n",
        "plt.subplot(131)\n",
        "plt.plot(agg_product) #/ agg_year_item.mean(0)[np.newaxis])\n",
        "plt.title(\"Global value of trade per product\")\n",
        "plt.xlabel(\"Year\")\n",
        "plt.legend(agg_product.columns,loc=\"upper left\")\n",
        "plt.ylabel(\"Export val\")\n",
        "\n",
        "plt.subplot(133)\n",
        "plt.plot(agg_country) #/ agg_year_store.mean(0)[np.newaxis])\n",
        "plt.title(\"Value of trade in basket per country\")\n",
        "plt.xlabel(\"Year\")\n",
        "plt.ylabel(\"Export value\")\n",
        "\n",
        "plt.subplot(132)\n",
        "plt.plot(agg_south_africa) #/ agg_year_store.mean(0)[np.newaxis])\n",
        "plt.title(\"Value of trade in basket for South Africa\")\n",
        "plt.xlabel(\"Year\")\n",
        "plt.legend(agg_south_africa.columns,loc=\"upper left\")\n",
        "plt.ylabel(\"Export value\")\n",
        "plt.show()"
      ],
      "execution_count": 0,
      "outputs": []
    },
    {
      "cell_type": "code",
      "metadata": {
        "id": "WZ6NAd5oXmSo",
        "colab_type": "code",
        "colab": {}
      },
      "source": [
        "agg_south_africa.plot(subplots=True,figsize=(12, 16),title=\"South Africa product basket\")\n",
        "plt.show()"
      ],
      "execution_count": 0,
      "outputs": []
    },
    {
      "cell_type": "code",
      "metadata": {
        "id": "g70mxPHZ0t08",
        "colab_type": "code",
        "colab": {}
      },
      "source": [
        "# https://pbpython.com/pandas-pivot-table-explained.html\n",
        "agg_country_product = pd.pivot_table(trade_dframe[trade_dframe.product_name==id], index='year', columns='country', values='export_val', aggfunc=np.mean,fill_value=0)\n",
        "agg_country_product.head()"
      ],
      "execution_count": 0,
      "outputs": []
    },
    {
      "cell_type": "code",
      "metadata": {
        "id": "Nf7LGLLmVQRd",
        "colab_type": "code",
        "colab": {}
      },
      "source": [
        "for id in trade_dframe.product_name.unique():\n",
        "  product = pd.pivot_table(trade_dframe[trade_dframe.product_name==id], index='year', columns='country', values='export_val', aggfunc=np.mean)\n",
        "  product.to_csv(f'{id}_sitc.csv')\n",
        "  plt.plot(product)\n",
        "  plt.title(f\"Exports for {id} by country\")\n",
        "  plt.xlabel(\"Year\")\n",
        "  plt.ylabel(\"Export value\")\n",
        "  plt.show()"
      ],
      "execution_count": 0,
      "outputs": []
    },
    {
      "cell_type": "markdown",
      "metadata": {
        "id": "Nz2lVgtw0RlM",
        "colab_type": "text"
      },
      "source": [
        "### Plotting functions (TODO)"
      ]
    },
    {
      "cell_type": "code",
      "metadata": {
        "id": "4glit60HHr51",
        "colab_type": "code",
        "colab": {}
      },
      "source": [
        "# def plot_tile(result, ax, country_name):\n",
        "    \n",
        "#     ax.set_title(f\"{country_name}\")\n",
        "    \n",
        "#     # Colors\n",
        "#     ABOVE = [1,0,0]\n",
        "#     MIDDLE = [1,1,1]\n",
        "#     BELOW = [0,0,0]\n",
        "#     cmap = ListedColormap(np.r_[\n",
        "#         np.linspace(BELOW,MIDDLE,25),\n",
        "#         np.linspace(MIDDLE,ABOVE,25)\n",
        "#     ])\n",
        "#     color_mapped = lambda y: np.clip(y, .5, 1.5)-.5\n",
        "    \n",
        "#     index = result['ML'].index.get_level_values('date')\n",
        "#     values = result['ML'].values\n",
        "    \n",
        "#     # Plot dots and line\n",
        "#     ax.plot(index, values, c='k', zorder=1, alpha=.25)\n",
        "#     ax.scatter(index,values,s=40,lw=.5,c=cmap(color_mapped(values)),edgecolors='k', zorder=2)\n",
        "    \n",
        "#     # Aesthetically, extrapolate credible interval by 1 day either side\n",
        "#     extended = pd.date_range(start=pd.Timestamp('2020-03-01'),\n",
        "#                              end=index[-1]+pd.Timedelta(days=1))\n",
        "    \n",
        "#     ax.fill_between(extended,lowfn(date2num(extended)),\n",
        "#                     highfn(date2num(extended)),\n",
        "#                     color='k',alpha=.1,\n",
        "#                     lw=0,zorder=3)\n",
        "\n",
        "#     ax.axhline(1.0, c='k', lw=1, label='Add label', alpha=.25);\n",
        "    \n",
        "#     # Formatting\n",
        "#     ax.xaxis.set_major_locator(mdates.MonthLocator())\n",
        "#     ax.xaxis.set_major_formatter(mdates.DateFormatter('%b'))\n",
        "#     ax.xaxis.set_minor_locator(mdates.DayLocator())\n",
        "#     ax.yaxis.set_major_locator(ticker.MultipleLocator(1))\n",
        "#     ax.yaxis.set_major_formatter(ticker.StrMethodFormatter(\"{x:.1f}\"))\n",
        "#     ax.yaxis.tick_right()\n",
        "#     ax.spines['left'].set_visible(False)\n",
        "#     ax.spines['bottom'].set_visible(False)\n",
        "#     ax.spines['right'].set_visible(False)\n",
        "#     ax.margins(0)\n",
        "#     ax.grid(which='major', axis='y', c='k', alpha=.1, zorder=-2)\n",
        "#     ax.margins(0)\n",
        "#     ax.set_ylim(0.0,3.5)\n",
        "#     ax.set_xlim(pd.Timestamp('1960'), result.index.get_level_values('date')[-1]+pd.Timedelta(days=1))\n",
        "#     fig.set_facecolor('w')"
      ],
      "execution_count": 0,
      "outputs": []
    },
    {
      "cell_type": "code",
      "metadata": {
        "id": "aYDRWG_LHBCi",
        "colab_type": "code",
        "colab": {}
      },
      "source": [
        "## Requires df.melt() for 2D plot\n",
        "# origin = trade_dframe.country.unique()\n",
        "# vals = trade_dframe[['country','export_val']]\n",
        "# ncols = 5\n",
        "# nrows = int(np.ceil(len(trade_dframe) / ncols))\n",
        "\n",
        "# fig, axes = plt.subplots(nrows=nrows, ncols=ncols, figsize=(15, nrows*3))\n",
        "\n",
        "# for i, (origin, vals) in enumerate(vals.items()):\n",
        "#     if (len(result) >= 2):\n",
        "#       plot_rt(vals, axes.flat[i], origin)\n",
        "#     else:\n",
        "#       break\n",
        "\n",
        "# fig.tight_layout()\n",
        "# fig.set_facecolor('w')"
      ],
      "execution_count": 0,
      "outputs": []
    },
    {
      "cell_type": "markdown",
      "metadata": {
        "id": "3ifTpD32zGQJ",
        "colab_type": "text"
      },
      "source": [
        "# Extract comprehensive features"
      ]
    },
    {
      "cell_type": "markdown",
      "metadata": {
        "id": "5uiMdz3Q_Dn0",
        "colab_type": "text"
      },
      "source": [
        "### Packages\n",
        "\n",
        "### TFRESH\n",
        "\n",
        "- tsfresh.feature_extraction.settings.ComprehensiveFCParameters: includes all features without parameters and all features with parameters, each with different parameter combinations. This is the default for extract_features if you do not hand in a default_fc_parameters at all.\n",
        "- tsfresh.feature_extraction.settings.MinimalFCParameters: includes only a handful of features and can be used for quick tests. The features which have the “minimal” attribute are used here.\n",
        "- tsfresh.feature_extraction.settings.EfficientFCParameters: Mostly the same features as in the tsfresh.feature_extraction.settings.\n",
        "- ComprehensiveFCParameters, but without features which are marked with the “high_comp_cost” attribute. This can be used if runtime performance plays a major role."
      ]
    },
    {
      "cell_type": "code",
      "metadata": {
        "id": "Fl0YdIm5IU7B",
        "colab_type": "code",
        "colab": {}
      },
      "source": [
        "# !pip install -q tsfresh \n",
        "import os\n",
        "import logging\n",
        "import warnings\n",
        "\n",
        "import pandas as pd\n",
        "import matplotlib.pyplot as plt\n",
        "from pandas_datareader.data import DataReader as pdr\n",
        "import fix_yahoo_finance as yf\n",
        "yf.pdr_override()\n",
        "\n",
        "from tsfresh import extract_features, select_features\n",
        "from tsfresh import defaults\n",
        "from tsfresh.feature_extraction import feature_calculators\n",
        "from tsfresh.feature_extraction.settings import ComprehensiveFCParameters,MinimalFCParameters,EfficientFCParameters\n",
        "from tsfresh.utilities import dataframe_functions, profiling\n",
        "from tsfresh.utilities.distribution import MapDistributor, MultiprocessingDistributor,DistributorBaseClass\n",
        "from tsfresh.utilities.string_manipulation import convert_to_output_format\n",
        "\n",
        "import tsfresh\n",
        "from tsfresh.feature_extraction.settings import EfficientFCParameters\n",
        "from tsfresh.utilities.dataframe_functions import roll_time_series\n",
        "\n",
        "%tensorflow_version 2.x\n",
        "import tensorflow as tf\n",
        "device_name = tf.test.gpu_device_name()\n",
        "if device_name != '/device:GPU:0':\n",
        "  raise SystemError('GPU device not found')\n",
        "print('Found GPU at: {}'.format(device_name))\n",
        "\n",
        "def extract_product_features(df,fc_parameter):\n",
        "  features_product = []\n",
        "  extraction_method = fc_parameter.__class__.__name__\n",
        "  for p in df.sitc_id.unique():\n",
        "    product = df[df.sitc_id==p]\n",
        "    p_features = extract_features(product[[\"export_val\",\"year\",\"country\"]],\n",
        "                                  column_id=\"country\",\n",
        "                                  column_sort=\"year\",\n",
        "                                  column_value=None,column_kind=None,\n",
        "                                  chunksize=None,\n",
        "                                  default_fc_parameters=fc_parameter)\n",
        "    features_product.append(p_features)\n",
        "    p_features.to_csv(f\"{p}_{extraction_method}_expval.csv\")\n",
        "  print(f'Fatures for {p} extracted.....{len(features_product)}')\n",
        "  return p_features, features_product\n",
        "\n",
        "stats_features = {\n",
        "    'length': None,\n",
        "    'maximum': None,\n",
        "    'mean': None,\n",
        "    'median': None,\n",
        "    'minimum': None,\n",
        "    'standard_deviation': None,\n",
        "    'sum_values': None,\n",
        "    'variance': None,\n",
        "    'skewness': None,\n",
        "    'kurtosis': None,\n",
        "    }\n",
        "{ 'skewness': None,\n",
        " 'standard_deviation': None,}\n",
        "\n",
        "MinimalFCParameters = {'length': None,\n",
        " 'maximum': None,\n",
        " 'mean': None,\n",
        " 'median': None,\n",
        " 'minimum': None,\n",
        " 'standard_deviation': None,\n",
        " 'sum_values': None,\n",
        " 'variance': None}\n",
        "\n",
        "%timeit\n",
        "# fc_parameters=[MinimalFCParameters(),EfficientFCParameters(),ComprehensiveFCParameters()]\n",
        "# extract_product_features(trade_dframe,stats_features)"
      ],
      "execution_count": 0,
      "outputs": []
    },
    {
      "cell_type": "code",
      "metadata": {
        "id": "ASqU9hv4OLou",
        "colab_type": "code",
        "colab": {}
      },
      "source": [
        "EfficientFCParameters()"
      ],
      "execution_count": 0,
      "outputs": []
    },
    {
      "cell_type": "markdown",
      "metadata": {
        "id": "_Yspu1f6_T4A",
        "colab_type": "text"
      },
      "source": [
        "### Extract features"
      ]
    },
    {
      "cell_type": "code",
      "metadata": {
        "id": "q4UUDX6aFcZu",
        "colab_type": "code",
        "colab": {}
      },
      "source": [
        "#EfficientFCParameters()\n",
        "features_to_review = {'abs_energy': None,\n",
        "  {'attr': 'slope', 'chunk_len': 10, 'f_agg': 'max'},\n",
        "  {'attr': 'slope', 'chunk_len': 10, 'f_agg': 'min'},\n",
        " 'augmented_dickey_fuller': [{'attr': 'teststat'},{'attr': 'pvalue'},{'attr': 'usedlag'}],\n",
        " 'autocorrelation': [{'lag': 0},{'lag': 1},{'lag': 2},{'lag': 3},{'lag': 4},{'lag': 5},{'lag': 6},{'lag': 7},{'lag': 8},{'lag': 9}],\n",
        " 'binned_entropy': [{'max_bins': 10}],\n",
        " 'count_above': [{'t': 0}],\n",
        " 'count_above_mean': None,\n",
        " 'count_below_mean': None,\n",
        " 'fft_aggregated': [{'aggtype': 'centroid'},{'aggtype': 'variance'},{'aggtype': 'skew'},{'aggtype': 'kurtosis'}],\n",
        " 'first_location_of_maximum': None,\n",
        " 'first_location_of_minimum': None,\n",
        " 'friedrich_coefficients': [{'coeff': 0, 'm': 3, 'r': 30},kurtosis': None,\n",
        " 'large_standard_deviation': [{'r': 0.05},{'r': 0.1}],\n",
        "  'last_location_of_maximum': None,\n",
        "  'last_location_of_minimum': None,\n",
        "  'length': None,\n",
        "  'linear_trend': [{'attr': 'pvalue'},{'attr': 'rvalue'},{'attr': 'intercept'},{'attr': 'slope'},{'attr': 'stderr'}],\n",
        "  'linear_trend_timewise': [{'attr': 'pvalue'},{'attr': 'rvalue'},{'attr': 'intercept'},{'attr': 'slope'},{'attr': 'stderr'}],\n",
        "  'maximum': None,\n",
        "  'mean': None,\n",
        "  'mean_abs_change': None,\n",
        "  'mean_change': None,\n",
        "  'mean_second_derivative_central': None,\n",
        "  'median': None,\n",
        "  'minimum': None,\n",
        "  'partial_autocorrelation': [{'lag': 0},{'lag': 1},{'lag': 2},{'lag': 3},{'lag': 4},{'lag': 5},{'lag': 6},{'lag': 7},{'lag': 8},{'lag': 9}],\n",
        "  'quantile': [{'q': 0.1},{'q': 0.2},{'q': 0.3},{'q': 0.4},{'q': 0.6},{'q': 0.7},{'q': 0.8},{'q': 0.9}],\n",
        "  'range_count': [{'max': 1, 'min': -1},{'max': 0, 'min': 1000000000000.0},{'max': 1000000000000.0, 'min': 0}],\n",
        " 'ratio_beyond_r_sigma': [{'r': 0.5},{'r': 1},{'r': 1.5},{'r': 2},{'r': 2.5},{'r': 3},{'r': 5},{'r': 6},{'r': 7},{'r': 10}],\n",
        " 'ratio_value_number_to_time_series_length': None,\n",
        " 'skewness': None,\n",
        " 'spkt_welch_density': [{'coeff': 2}, {'coeff': 5}, {'coeff': 8}],\n",
        " 'standard_deviation': None,\n",
        " 'sum_of_reoccurring_data_points': None,\n",
        " 'sum_of_reoccurring_values': None,\n",
        " 'sum_values': None,\n",
        " 'symmetry_looking': [{'r': 0.0},{'r': 0.05},{'r': 0.1},{'r': 0.15000000000000002},{'r': 0.2},{'r': 0.25},{'r': 0.30000000000000004},\n",
        "                      {'r': 0.35000000000000003},{'r': 0.4},{'r': 0.45},{'r': 0.5},{'r': 0.55},{'r': 0.6000000000000001},\n",
        "                      {'r': 0.65},{'r': 0.7000000000000001},{'r': 0.75},{'r': 0.8},{'r': 0.8500000000000001},{'r': 0.9},{'r': 0.9500000000000001}],\n",
        " 'time_reversal_asymmetry_statistic': [{'lag': 1}, {'lag': 2}, {'lag': 3}],\n",
        " 'variance': None,\n",
        " 'variance_larger_than_standard_deviation': None,\n",
        " 'variation_coefficient': None}\n",
        "}"
      ],
      "execution_count": 0,
      "outputs": []
    },
    {
      "cell_type": "markdown",
      "metadata": {
        "id": "pl7_Nj1HDeYZ",
        "colab_type": "text"
      },
      "source": [
        ""
      ]
    }
  ]
}