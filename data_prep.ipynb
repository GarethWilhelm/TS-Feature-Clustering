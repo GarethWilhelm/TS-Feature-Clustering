{
  "nbformat": 4,
  "nbformat_minor": 0,
  "metadata": {
    "colab": {
      "name": "data_prep.ipynb",
      "provenance": [],
      "authorship_tag": "ABX9TyNj6Ke/xTKHPDUPFGBcbm73",
      "include_colab_link": true
    },
    "kernelspec": {
      "name": "python3",
      "display_name": "Python 3"
    }
  },
  "cells": [
    {
      "cell_type": "markdown",
      "metadata": {
        "id": "view-in-github",
        "colab_type": "text"
      },
      "source": [
        "<a href=\"https://colab.research.google.com/github/wgova/time_series_trade/blob/oec_api/data_prep.ipynb\" target=\"_parent\"><img src=\"https://colab.research.google.com/assets/colab-badge.svg\" alt=\"Open In Colab\"/></a>"
      ]
    },
    {
      "cell_type": "code",
      "metadata": {
        "id": "hvFuMLeruPPy",
        "colab_type": "code",
        "colab": {}
      },
      "source": [
        "import pandas as pd\n",
        "import numpy as np\n",
        "import seaborn as sns\n",
        "import matplotlib.pyplot as plt\n",
        "from scipy.interpolate import UnivariateSpline\n",
        "\n",
        "import math\n",
        "from datetime import datetime\n",
        "plt.style.use('seaborn-whitegrid')\n",
        "import statsmodels.api as sm\n",
        "from statsmodels.tsa.seasonal import seasonal_decompose\n",
        "\n",
        "!pip install oec\n",
        "import oec\n",
        "#%matplotlib inline\n",
        "\n",
        "# Set parameters to extract top exporters from the API documentation\n",
        "params = {'classification': 'sitc',\n",
        "          'trade_flow': 'export',\n",
        "          'year': 'all',\n",
        "          'origin': 'show', #Set origin to all for comparison\n",
        "          'destination': 'all',\n",
        "          'product': '7132'} #Set code for product of interest\n",
        "\n",
        "# Load lists from the OEC package on countries, products and exports\n",
        "list_of_countries = oec.get_countries()\n",
        "list_of_products = oec.get_products(params['classification'])\n",
        "list_of_exports = oec.get_trade(**params)\n",
        "\n",
        "#Save the results in CSV file\n",
        "oec.data_to_csv(list_of_exports, 'Engine_parts_top_exporters.csv')\n",
        "top_exporters = pd.read_csv('Engine_parts_top_exporters.csv')\n",
        "top_exporters.head()"
      ],
      "execution_count": 0,
      "outputs": []
    }
  ]
}