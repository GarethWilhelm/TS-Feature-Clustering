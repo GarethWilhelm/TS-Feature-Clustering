{
  "nbformat": 4,
  "nbformat_minor": 0,
  "metadata": {
    "colab": {
      "name": "data_prep.ipynb",
      "provenance": [],
      "toc_visible": true,
      "include_colab_link": true
    },
    "kernelspec": {
      "name": "python3",
      "display_name": "Python 3"
    }
  },
  "cells": [
    {
      "cell_type": "markdown",
      "metadata": {
        "id": "view-in-github",
        "colab_type": "text"
      },
      "source": [
        "<a href=\"https://colab.research.google.com/github/wgova/time_series_trade/blob/oec_api/data_prep.ipynb\" target=\"_parent\"><img src=\"https://colab.research.google.com/assets/colab-badge.svg\" alt=\"Open In Colab\"/></a>"
      ]
    },
    {
      "cell_type": "code",
      "metadata": {
        "id": "tV2te-1vwuc4",
        "colab_type": "code",
        "colab": {}
      },
      "source": [
        ""
      ],
      "execution_count": 0,
      "outputs": []
    },
    {
      "cell_type": "code",
      "metadata": {
        "id": "hvFuMLeruPPy",
        "colab_type": "code",
        "outputId": "a09a35be-526e-4eec-a085-668b4046360c",
        "colab": {
          "base_uri": "https://localhost:8080/",
          "height": 275
        }
      },
      "source": [
        "from google.colab import drive\n",
        "drive.mount('/content/drive')\n",
        "!pip install oec\n",
        "import oec\n",
        "import pandas as pd\n",
        "import numpy as np\n",
        "import os, os.path, csv, requests, pathlib\n",
        "import math\n",
        "from datetime import datetime\n",
        "\n",
        "#%matplotlib inline"
      ],
      "execution_count": 1,
      "outputs": [
        {
          "output_type": "stream",
          "text": [
            "Go to this URL in a browser: https://accounts.google.com/o/oauth2/auth?client_id=947318989803-6bn6qk8qdgf4n4g3pfee6491hc0brc4i.apps.googleusercontent.com&redirect_uri=urn%3aietf%3awg%3aoauth%3a2.0%3aoob&response_type=code&scope=email%20https%3a%2f%2fwww.googleapis.com%2fauth%2fdocs.test%20https%3a%2f%2fwww.googleapis.com%2fauth%2fdrive%20https%3a%2f%2fwww.googleapis.com%2fauth%2fdrive.photos.readonly%20https%3a%2f%2fwww.googleapis.com%2fauth%2fpeopleapi.readonly\n",
            "\n",
            "Enter your authorization code:\n",
            "··········\n",
            "Mounted at /content/drive\n",
            "Collecting oec\n",
            "  Downloading https://files.pythonhosted.org/packages/e1/95/156ef04ae40621076ad16cf0857620c5eb2a3120ab83e2d0f0ce80e67a3c/oec-0.2.5-py3-none-any.whl\n",
            "Requirement already satisfied: requests in /usr/local/lib/python3.6/dist-packages (from oec) (2.21.0)\n",
            "Requirement already satisfied: certifi>=2017.4.17 in /usr/local/lib/python3.6/dist-packages (from requests->oec) (2020.4.5.1)\n",
            "Requirement already satisfied: chardet<3.1.0,>=3.0.2 in /usr/local/lib/python3.6/dist-packages (from requests->oec) (3.0.4)\n",
            "Requirement already satisfied: idna<2.9,>=2.5 in /usr/local/lib/python3.6/dist-packages (from requests->oec) (2.8)\n",
            "Requirement already satisfied: urllib3<1.25,>=1.21.1 in /usr/local/lib/python3.6/dist-packages (from requests->oec) (1.24.3)\n",
            "Installing collected packages: oec\n",
            "Successfully installed oec-0.2.5\n"
          ],
          "name": "stdout"
        }
      ]
    },
    {
      "cell_type": "markdown",
      "metadata": {
        "id": "WLJbgEGRu7Dj",
        "colab_type": "text"
      },
      "source": [
        "## List of industries to add to the data"
      ]
    },
    {
      "cell_type": "code",
      "metadata": {
        "id": "ntnr-8R_PXsT",
        "colab_type": "code",
        "colab": {}
      },
      "source": [
        "def build_call(*args):\n",
        "    call_url = 'http://atlas.media.mit.edu/'\n",
        "    for val in args:\n",
        "        call_url += str(val) + '/'\n",
        "    return call_url\n",
        "\n",
        "\n",
        "def request_data(call_url):\n",
        "    r = requests.get(call_url)\n",
        "    response_dict = r.json()\n",
        "    json_list = response_dict['data']  # list of dicts containing data\n",
        "    return json_list\n",
        "\n",
        "\n",
        "def get_countries(filename=None):\n",
        "    call = build_call('attr', 'country')\n",
        "    json_list = request_data(call)\n",
        "    if filename is not None:\n",
        "        data_to_csv(json_list, filename)\n",
        "    return json_list\n",
        "\n",
        "\n",
        "def get_products(classification, filename=None):\n",
        "    call = build_call('attr', classification)\n",
        "    json_list = request_data(call)\n",
        "    if filename is not None:\n",
        "        data_to_csv(json_list, filename)\n",
        "    return json_list\n",
        "\n",
        "\n",
        "def get_trade(classification, trade_flow, year, origin, destination,product, filename=None):\n",
        "    call = build_call(classification, trade_flow, year, origin, destination,\n",
        "                      product)\n",
        "    json_list = request_data(call)\n",
        "    if filename is not None:\n",
        "        data_to_csv(json_list, filename)\n",
        "    return json_list\n",
        "\n",
        "\n",
        "def trade_params(classification, trade_flow, year, origin, destination,product):\n",
        "    parameters = {'classification': classification,\n",
        "                  'trade_flow': trade_flow,\n",
        "                  'year': year,\n",
        "                  'origin': origin,\n",
        "                  'destination': destination,\n",
        "                  'product': product}\n",
        "    return parameters\n",
        "\n",
        "\n",
        "def get_header(json_list):\n",
        "    header = set()\n",
        "    for dict in json_list:\n",
        "        header.update(dict.keys())\n",
        "    header = list(header)\n",
        "    header.sort()\n",
        "    return header\n",
        "\n",
        "\n",
        "def create_csv(json_list, filename):\n",
        "    with open(filename, 'w') as csvfile:\n",
        "        header = get_header(json_list)\n",
        "        cw = csv.writer(csvfile)\n",
        "        cw.writerow(header)\n",
        "        for dict in json_list:\n",
        "            row = dict_to_list(dict, header)\n",
        "            cw.writerow(row)\n",
        "\n",
        "\n",
        "def dict_to_list(dict, header):\n",
        "    row = []\n",
        "    for field in header:\n",
        "        if field in dict:\n",
        "            row.append(str(dict[field]))\n",
        "        else:\n",
        "            row.append(None)\n",
        "    return row"
      ],
      "execution_count": 0,
      "outputs": []
    },
    {
      "cell_type": "markdown",
      "metadata": {
        "id": "gJyV4Da6xB0s",
        "colab_type": "text"
      },
      "source": [
        "## Generate dataset"
      ]
    },
    {
      "cell_type": "code",
      "metadata": {
        "id": "uhhsLu7Cu2Cl",
        "colab_type": "code",
        "colab": {}
      },
      "source": [
        "trade_codes = ['6519',\n",
        "               '6531',\n",
        "               '8471','6571','7849','7810','7842','7764','7723','7522','2924','5419','5417','7763','7711','7188']\n",
        "PATH = '/content/drive/My Drive/Stellenbosch/Webster'\n",
        "os.chdir(PATH)\n",
        "trade_classification = 'sitc'\n",
        "def countries_and_products():\n",
        "  countries = oec.get_countries()\n",
        "  products = oec.get_products(trade_classification)\n",
        "  create_csv(countries,f'{PATH}/list_countries.csv')\n",
        "  create_csv(products,f'{PATH}/list_products.csv')"
      ],
      "execution_count": 0,
      "outputs": []
    },
    {
      "cell_type": "code",
      "metadata": {
        "id": "2bVTIJ_VGpWC",
        "colab_type": "code",
        "colab": {
          "base_uri": "https://localhost:8080/",
          "height": 34
        },
        "outputId": "3e85d484-514b-4e2c-aa4b-738733bc0baf"
      },
      "source": [
        "os.getcwd()"
      ],
      "execution_count": 13,
      "outputs": [
        {
          "output_type": "execute_result",
          "data": {
            "text/plain": [
              "'/content/drive/My Drive/Stellenbosch/Webster'"
            ]
          },
          "metadata": {
            "tags": []
          },
          "execution_count": 13
        }
      ]
    },
    {
      "cell_type": "code",
      "metadata": {
        "id": "ytyiY64CvuNv",
        "colab_type": "code",
        "colab": {}
      },
      "source": [
        "countries_and_products()"
      ],
      "execution_count": 0,
      "outputs": []
    },
    {
      "cell_type": "code",
      "metadata": {
        "id": "4lwaim2-uzJ8",
        "colab_type": "code",
        "colab": {}
      },
      "source": [
        "import os.path\n",
        "from os import path\n",
        "def download_data(list_of_codes):\n",
        "  for i in trade_codes:\n",
        "    csv_name = f\"{trade_classification}-{i}\"\n",
        "    # Set parameters to extract top exporters from the API documentation\n",
        "    params = {'classification': trade_classification,\n",
        "          'trade_flow': 'export',\n",
        "          'year': 'all',\n",
        "          'origin': 'show', #Set origin to all for comparison\n",
        "          'destination': 'all',\n",
        "          'product': i} #Set code for product of interest\n",
        "    print(f'Data for {i} processed.....')\n",
        "    oec_data = get_trade(**params)\n",
        "    # Save the results in CSV file\n",
        "    if path.exists(PATH):\n",
        "      create_csv(oec_data,f'{csv_name}.csv')#,locals(),globals())\n",
        "    else:\n",
        "      print('Choose destination directory')"
      ],
      "execution_count": 0,
      "outputs": []
    },
    {
      "cell_type": "code",
      "metadata": {
        "id": "vEJc5KeWZKuy",
        "colab_type": "code",
        "outputId": "8e34c395-7d8d-4a2b-9a26-c9c3cfb997ce",
        "colab": {
          "base_uri": "https://localhost:8080/",
          "height": 289
        }
      },
      "source": [
        "download_data(trade_codes)"
      ],
      "execution_count": 16,
      "outputs": [
        {
          "output_type": "stream",
          "text": [
            "Data for 6519 processed.....\n",
            "Data for 6531 processed.....\n",
            "Data for 8471 processed.....\n",
            "Data for 6571 processed.....\n",
            "Data for 7849 processed.....\n",
            "Data for 7810 processed.....\n",
            "Data for 7842 processed.....\n",
            "Data for 7764 processed.....\n",
            "Data for 7723 processed.....\n",
            "Data for 7522 processed.....\n",
            "Data for 2924 processed.....\n",
            "Data for 5419 processed.....\n",
            "Data for 5417 processed.....\n",
            "Data for 7763 processed.....\n",
            "Data for 7711 processed.....\n",
            "Data for 7188 processed.....\n"
          ],
          "name": "stdout"
        }
      ]
    },
    {
      "cell_type": "code",
      "metadata": {
        "id": "bjWtfD0TA8pc",
        "colab_type": "code",
        "colab": {}
      },
      "source": [
        "def create_df():\n",
        "  trade_data = [i for i in os.listdir(os.getcwd()) if i.endswith('.csv') and 'sitc' in i]\n",
        "  trade_history = []\n",
        "  for file in trade_data:\n",
        "    file_name = pd.read_csv(file)\n",
        "    trade_history.append(file_name)\n",
        "  products_dataframe = pd.concat(trade_history)\n",
        "  return products_dataframe"
      ],
      "execution_count": 0,
      "outputs": []
    },
    {
      "cell_type": "code",
      "metadata": {
        "id": "HdW-iC3yBMwO",
        "colab_type": "code",
        "colab": {}
      },
      "source": [
        "trade_dframe = create_df()"
      ],
      "execution_count": 0,
      "outputs": []
    },
    {
      "cell_type": "code",
      "metadata": {
        "id": "RePq3sESG-3c",
        "colab_type": "code",
        "outputId": "5790a537-e9e0-4f7f-9112-32dd04a94ad7",
        "colab": {
          "base_uri": "https://localhost:8080/",
          "height": 439
        }
      },
      "source": [
        "trade_dframe"
      ],
      "execution_count": 19,
      "outputs": [
        {
          "output_type": "execute_result",
          "data": {
            "text/html": [
              "<div>\n",
              "<style scoped>\n",
              "    .dataframe tbody tr th:only-of-type {\n",
              "        vertical-align: middle;\n",
              "    }\n",
              "\n",
              "    .dataframe tbody tr th {\n",
              "        vertical-align: top;\n",
              "    }\n",
              "\n",
              "    .dataframe thead th {\n",
              "        text-align: right;\n",
              "    }\n",
              "</style>\n",
              "<table border=\"1\" class=\"dataframe\">\n",
              "  <thead>\n",
              "    <tr style=\"text-align: right;\">\n",
              "      <th></th>\n",
              "      <th>export_rca</th>\n",
              "      <th>export_val</th>\n",
              "      <th>export_val_growth_pct</th>\n",
              "      <th>export_val_growth_pct_5</th>\n",
              "      <th>export_val_growth_val</th>\n",
              "      <th>export_val_growth_val_5</th>\n",
              "      <th>import_rca</th>\n",
              "      <th>import_val</th>\n",
              "      <th>import_val_growth_pct</th>\n",
              "      <th>import_val_growth_pct_5</th>\n",
              "      <th>import_val_growth_val</th>\n",
              "      <th>import_val_growth_val_5</th>\n",
              "      <th>origin_id</th>\n",
              "      <th>sitc_id</th>\n",
              "      <th>sitc_id_len</th>\n",
              "      <th>year</th>\n",
              "    </tr>\n",
              "  </thead>\n",
              "  <tbody>\n",
              "    <tr>\n",
              "      <th>0</th>\n",
              "      <td>0.020916</td>\n",
              "      <td>3000.0</td>\n",
              "      <td>NaN</td>\n",
              "      <td>NaN</td>\n",
              "      <td>NaN</td>\n",
              "      <td>NaN</td>\n",
              "      <td>NaN</td>\n",
              "      <td>24000.0</td>\n",
              "      <td>NaN</td>\n",
              "      <td>NaN</td>\n",
              "      <td>NaN</td>\n",
              "      <td>NaN</td>\n",
              "      <td>afciv</td>\n",
              "      <td>606519</td>\n",
              "      <td>6.0</td>\n",
              "      <td>1962.0</td>\n",
              "    </tr>\n",
              "    <tr>\n",
              "      <th>1</th>\n",
              "      <td>0.025602</td>\n",
              "      <td>6000.0</td>\n",
              "      <td>NaN</td>\n",
              "      <td>NaN</td>\n",
              "      <td>NaN</td>\n",
              "      <td>NaN</td>\n",
              "      <td>NaN</td>\n",
              "      <td>21000.0</td>\n",
              "      <td>NaN</td>\n",
              "      <td>NaN</td>\n",
              "      <td>NaN</td>\n",
              "      <td>NaN</td>\n",
              "      <td>afcod</td>\n",
              "      <td>606519</td>\n",
              "      <td>6.0</td>\n",
              "      <td>1962.0</td>\n",
              "    </tr>\n",
              "    <tr>\n",
              "      <th>2</th>\n",
              "      <td>0.001952</td>\n",
              "      <td>1000.0</td>\n",
              "      <td>NaN</td>\n",
              "      <td>NaN</td>\n",
              "      <td>NaN</td>\n",
              "      <td>NaN</td>\n",
              "      <td>NaN</td>\n",
              "      <td>207000.0</td>\n",
              "      <td>NaN</td>\n",
              "      <td>NaN</td>\n",
              "      <td>NaN</td>\n",
              "      <td>NaN</td>\n",
              "      <td>afdza</td>\n",
              "      <td>606519</td>\n",
              "      <td>6.0</td>\n",
              "      <td>1962.0</td>\n",
              "    </tr>\n",
              "    <tr>\n",
              "      <th>3</th>\n",
              "      <td>0.078182</td>\n",
              "      <td>11000.0</td>\n",
              "      <td>NaN</td>\n",
              "      <td>NaN</td>\n",
              "      <td>NaN</td>\n",
              "      <td>NaN</td>\n",
              "      <td>NaN</td>\n",
              "      <td>36000.0</td>\n",
              "      <td>NaN</td>\n",
              "      <td>NaN</td>\n",
              "      <td>NaN</td>\n",
              "      <td>NaN</td>\n",
              "      <td>afegy</td>\n",
              "      <td>606519</td>\n",
              "      <td>6.0</td>\n",
              "      <td>1962.0</td>\n",
              "    </tr>\n",
              "    <tr>\n",
              "      <th>4</th>\n",
              "      <td>0.141766</td>\n",
              "      <td>17000.0</td>\n",
              "      <td>NaN</td>\n",
              "      <td>NaN</td>\n",
              "      <td>NaN</td>\n",
              "      <td>NaN</td>\n",
              "      <td>NaN</td>\n",
              "      <td>129000.0</td>\n",
              "      <td>NaN</td>\n",
              "      <td>NaN</td>\n",
              "      <td>NaN</td>\n",
              "      <td>NaN</td>\n",
              "      <td>afken</td>\n",
              "      <td>606519</td>\n",
              "      <td>6.0</td>\n",
              "      <td>1962.0</td>\n",
              "    </tr>\n",
              "    <tr>\n",
              "      <th>...</th>\n",
              "      <td>...</td>\n",
              "      <td>...</td>\n",
              "      <td>...</td>\n",
              "      <td>...</td>\n",
              "      <td>...</td>\n",
              "      <td>...</td>\n",
              "      <td>...</td>\n",
              "      <td>...</td>\n",
              "      <td>...</td>\n",
              "      <td>...</td>\n",
              "      <td>...</td>\n",
              "      <td>...</td>\n",
              "      <td>...</td>\n",
              "      <td>...</td>\n",
              "      <td>...</td>\n",
              "      <td>...</td>\n",
              "    </tr>\n",
              "    <tr>\n",
              "      <th>7982</th>\n",
              "      <td>0.008991</td>\n",
              "      <td>10553.0</td>\n",
              "      <td>NaN</td>\n",
              "      <td>NaN</td>\n",
              "      <td>NaN</td>\n",
              "      <td>NaN</td>\n",
              "      <td>0.979254</td>\n",
              "      <td>951820.5</td>\n",
              "      <td>NaN</td>\n",
              "      <td>NaN</td>\n",
              "      <td>NaN</td>\n",
              "      <td>NaN</td>\n",
              "      <td>saguy</td>\n",
              "      <td>107188</td>\n",
              "      <td>6.0</td>\n",
              "      <td>2017.0</td>\n",
              "    </tr>\n",
              "    <tr>\n",
              "      <th>7983</th>\n",
              "      <td>0.038288</td>\n",
              "      <td>1510532.0</td>\n",
              "      <td>NaN</td>\n",
              "      <td>NaN</td>\n",
              "      <td>NaN</td>\n",
              "      <td>NaN</td>\n",
              "      <td>1.446730</td>\n",
              "      <td>47937824.0</td>\n",
              "      <td>NaN</td>\n",
              "      <td>NaN</td>\n",
              "      <td>NaN</td>\n",
              "      <td>NaN</td>\n",
              "      <td>saper</td>\n",
              "      <td>107188</td>\n",
              "      <td>6.0</td>\n",
              "      <td>2017.0</td>\n",
              "    </tr>\n",
              "    <tr>\n",
              "      <th>7984</th>\n",
              "      <td>0.006296</td>\n",
              "      <td>36404.5</td>\n",
              "      <td>NaN</td>\n",
              "      <td>NaN</td>\n",
              "      <td>NaN</td>\n",
              "      <td>NaN</td>\n",
              "      <td>0.365861</td>\n",
              "      <td>3698243.0</td>\n",
              "      <td>NaN</td>\n",
              "      <td>NaN</td>\n",
              "      <td>NaN</td>\n",
              "      <td>NaN</td>\n",
              "      <td>sapry</td>\n",
              "      <td>107188</td>\n",
              "      <td>6.0</td>\n",
              "      <td>2017.0</td>\n",
              "    </tr>\n",
              "    <tr>\n",
              "      <th>7985</th>\n",
              "      <td>0.158577</td>\n",
              "      <td>224930.5</td>\n",
              "      <td>NaN</td>\n",
              "      <td>NaN</td>\n",
              "      <td>NaN</td>\n",
              "      <td>NaN</td>\n",
              "      <td>4.283190</td>\n",
              "      <td>3944130.5</td>\n",
              "      <td>NaN</td>\n",
              "      <td>NaN</td>\n",
              "      <td>NaN</td>\n",
              "      <td>NaN</td>\n",
              "      <td>sasur</td>\n",
              "      <td>107188</td>\n",
              "      <td>6.0</td>\n",
              "      <td>2017.0</td>\n",
              "    </tr>\n",
              "    <tr>\n",
              "      <th>7986</th>\n",
              "      <td>0.011975</td>\n",
              "      <td>78534.0</td>\n",
              "      <td>NaN</td>\n",
              "      <td>NaN</td>\n",
              "      <td>NaN</td>\n",
              "      <td>NaN</td>\n",
              "      <td>0.367088</td>\n",
              "      <td>3076501.5</td>\n",
              "      <td>NaN</td>\n",
              "      <td>NaN</td>\n",
              "      <td>NaN</td>\n",
              "      <td>NaN</td>\n",
              "      <td>saury</td>\n",
              "      <td>107188</td>\n",
              "      <td>6.0</td>\n",
              "      <td>2017.0</td>\n",
              "    </tr>\n",
              "  </tbody>\n",
              "</table>\n",
              "<p>121264 rows × 16 columns</p>\n",
              "</div>"
            ],
            "text/plain": [
              "      export_rca  export_val  ...  sitc_id_len    year\n",
              "0       0.020916      3000.0  ...          6.0  1962.0\n",
              "1       0.025602      6000.0  ...          6.0  1962.0\n",
              "2       0.001952      1000.0  ...          6.0  1962.0\n",
              "3       0.078182     11000.0  ...          6.0  1962.0\n",
              "4       0.141766     17000.0  ...          6.0  1962.0\n",
              "...          ...         ...  ...          ...     ...\n",
              "7982    0.008991     10553.0  ...          6.0  2017.0\n",
              "7983    0.038288   1510532.0  ...          6.0  2017.0\n",
              "7984    0.006296     36404.5  ...          6.0  2017.0\n",
              "7985    0.158577    224930.5  ...          6.0  2017.0\n",
              "7986    0.011975     78534.0  ...          6.0  2017.0\n",
              "\n",
              "[121264 rows x 16 columns]"
            ]
          },
          "metadata": {
            "tags": []
          },
          "execution_count": 19
        }
      ]
    },
    {
      "cell_type": "code",
      "metadata": {
        "id": "xeSwhOC5HVuD",
        "colab_type": "code",
        "colab": {
          "base_uri": "https://localhost:8080/",
          "height": 51
        },
        "outputId": "00eb6fb0-1420-4c87-a21b-f8eca457533a"
      },
      "source": [
        "trade_dframe['sitc_id'].unique()"
      ],
      "execution_count": 20,
      "outputs": [
        {
          "output_type": "execute_result",
          "data": {
            "text/plain": [
              "array([606519, 606531, 618471, 426571, 107849, 107810, 107842, 117764,\n",
              "       117723, 117522, 752924, 425419, 425417, 117763, 137711, 107188])"
            ]
          },
          "metadata": {
            "tags": []
          },
          "execution_count": 20
        }
      ]
    },
    {
      "cell_type": "code",
      "metadata": {
        "id": "6ableeJ2H9-h",
        "colab_type": "code",
        "colab": {
          "base_uri": "https://localhost:8080/",
          "height": 663
        },
        "outputId": "37de9ea6-70ba-452a-befa-72a62397c271"
      },
      "source": [
        "trade_dframe['origin_id'].unique()"
      ],
      "execution_count": 21,
      "outputs": [
        {
          "output_type": "execute_result",
          "data": {
            "text/plain": [
              "array(['afciv', 'afcod', 'afdza', 'afegy', 'afken', 'afmar', 'afmoz',\n",
              "       'aftun', 'aftza', 'afzmb', 'aschn', 'ashkg', 'asind', 'asirn',\n",
              "       'asisr', 'asjpn', 'askor', 'aslbn', 'aslka', 'asmys', 'aspak',\n",
              "       'asphl', 'assgp', 'astha', 'astwn', 'asvnm', 'euaut', 'eubel',\n",
              "       'eubgr', 'euche', 'eucsk', 'euddr', 'eudeu', 'eudnk', 'euesp',\n",
              "       'eufdr', 'eufin', 'eufra', 'eugbr', 'eugrc', 'euhun', 'euirl',\n",
              "       'euita', 'eunld', 'eunor', 'eupol', 'euprt', 'eusun', 'euswe',\n",
              "       'euyug', 'nacan', 'namex', 'napan', 'natto', 'nausa', 'ocaus',\n",
              "       'sabra', 'sachl', 'sacol', 'xxxxh', 'afago', 'afbfa', 'afsdn',\n",
              "       'afzaf', 'asidn', 'assyr', 'astur', 'euisl', 'nagtm', 'najam',\n",
              "       'naslv', 'ocnzl', 'saarg', 'saury', 'afnga', 'afsen', 'asbhr',\n",
              "       'ascyp', 'saper', 'afuga', 'afzwe', 'asymd', 'eumlt', 'nabrb',\n",
              "       'nanic', 'naspm', 'sapry', 'afeth', 'afmdg', 'asjor', 'nacri',\n",
              "       'asxxb', 'eurou', 'asirq', 'askwt', 'asnpl', 'nacub', 'saecu',\n",
              "       'afben', 'askhm', 'nahnd', 'saven', 'asfio', 'aslao', 'asmng',\n",
              "       'assau', 'afcmr', 'asare', 'asmmr', 'asbgd', 'asomn', 'naxxf',\n",
              "       'ocfji', 'afcaf', 'asqat', 'asafg', 'nahti', 'sasur', 'afmus',\n",
              "       'afsle', 'eugib', 'asprk', 'nabmu', 'aflbr', 'nadom', 'aftgo',\n",
              "       'nablz', 'afgha', 'asmac', 'ocwsm', 'afbdi', 'afcog', 'afcpv',\n",
              "       'afdji', 'afgab', 'aflby', 'afmwi', 'afreu', 'afshn', 'afsom',\n",
              "       'afstp', 'asbrn', 'ascxr', 'asyem', 'eualb', 'euand', 'eufro',\n",
              "       'naant', 'nabhs', 'nacym', 'nagrl', 'nakna', 'namsr', 'namtq',\n",
              "       'napci', 'ocglp', 'ocncl', 'ocpng', 'ocpyf', 'ocslb', 'sabol',\n",
              "       'saguy', 'afgin', 'afgnb', 'afgnq', 'afmli', 'afner', 'afsyc',\n",
              "       'asmdv', 'nadma', 'occok', 'ocnru', 'ocvut', 'ocwlf', 'saguf',\n",
              "       'afmrt', 'afrwa', 'naatg', 'nagrd', 'ockir', 'ocnfk', 'octon',\n",
              "       'afcom', 'nalca', 'afgmb', 'ascck', 'octuv', 'navct', 'naaia',\n",
              "       'asuzb', 'eubih', 'eublr', 'euest', 'euhrv', 'eultu', 'eulva',\n",
              "       'eurus', 'euscg', 'eusvn', 'euukr', 'naabw', 'saflk', 'asaze',\n",
              "       'askaz', 'eucze', 'eumkd', 'eusvk', 'asarm', 'astkm', 'eumda',\n",
              "       'natca', 'ocfsm', 'ocplw', 'octkl', 'askgz', 'astjk', 'asgeo',\n",
              "       'navgb', 'ocmhl', 'aferi', 'anatf', 'asxxc', 'eublx', 'naxxe',\n",
              "       'asbtn', 'eulux', 'afbwa', 'afmyt', 'afnam', 'aspse', 'eusmr',\n",
              "       'ocasm', 'ocniu', 'afswz', 'aftcd', 'astls', 'ocgum', 'aflso',\n",
              "       'ocmnp', 'ocpcn', 'eumne', 'eusrb', 'asiot', 'asyar', 'naumi',\n",
              "       'afesh', 'afxxb', 'afxxc', 'nanaa', 'ocxxa', 'ansgs', 'anata',\n",
              "       'euvat', 'anbvt', 'anhmd', 'euxxe', 'xxxxe', 'euxxf', 'anxxa'],\n",
              "      dtype=object)"
            ]
          },
          "metadata": {
            "tags": []
          },
          "execution_count": 21
        }
      ]
    },
    {
      "cell_type": "code",
      "metadata": {
        "id": "Fl0YdIm5IU7B",
        "colab_type": "code",
        "colab": {}
      },
      "source": [
        ""
      ],
      "execution_count": 0,
      "outputs": []
    }
  ]
}