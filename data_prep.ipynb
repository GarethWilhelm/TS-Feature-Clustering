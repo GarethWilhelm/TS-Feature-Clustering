{
  "nbformat": 4,
  "nbformat_minor": 0,
  "metadata": {
    "colab": {
      "name": "data_prep.ipynb",
      "provenance": [],
      "toc_visible": true,
      "include_colab_link": true
    },
    "kernelspec": {
      "name": "python3",
      "display_name": "Python 3"
    }
  },
  "cells": [
    {
      "cell_type": "markdown",
      "metadata": {
        "id": "view-in-github",
        "colab_type": "text"
      },
      "source": [
        "<a href=\"https://colab.research.google.com/github/wgova/time_series_trade/blob/master/data_prep.ipynb\" target=\"_parent\"><img src=\"https://colab.research.google.com/assets/colab-badge.svg\" alt=\"Open In Colab\"/></a>"
      ]
    },
    {
      "cell_type": "code",
      "metadata": {
        "id": "tV2te-1vwuc4",
        "colab_type": "code",
        "colab": {}
      },
      "source": [
        ""
      ],
      "execution_count": 0,
      "outputs": []
    },
    {
      "cell_type": "code",
      "metadata": {
        "id": "hvFuMLeruPPy",
        "colab_type": "code",
        "colab": {}
      },
      "source": [
        "from google.colab import drive\n",
        "drive.mount('/content/drive')\n",
        "!pip install oec\n",
        "import oec\n",
        "import pandas as pd\n",
        "import numpy as np\n",
        "import os, os.path, csv, requests, pathlib\n",
        "import math\n",
        "from datetime import datetime\n",
        "\n",
        "#%matplotlib inline"
      ],
      "execution_count": 0,
      "outputs": []
    },
    {
      "cell_type": "markdown",
      "metadata": {
        "id": "WLJbgEGRu7Dj",
        "colab_type": "text"
      },
      "source": [
        "## List of industries to add to the data"
      ]
    },
    {
      "cell_type": "code",
      "metadata": {
        "id": "ntnr-8R_PXsT",
        "colab_type": "code",
        "colab": {}
      },
      "source": [
        "def build_call(*args):\n",
        "    call_url = 'http://atlas.media.mit.edu/'\n",
        "    for val in args:\n",
        "        call_url += str(val) + '/'\n",
        "    return call_url\n",
        "\n",
        "\n",
        "def request_data(call_url):\n",
        "    r = requests.get(call_url)\n",
        "    response_dict = r.json()\n",
        "    json_list = response_dict['data']  # list of dicts containing data\n",
        "    return json_list\n",
        "\n",
        "\n",
        "def get_countries(filename=None):\n",
        "    call = build_call('attr', 'country')\n",
        "    json_list = request_data(call)\n",
        "    if filename is not None:\n",
        "        data_to_csv(json_list, filename)\n",
        "    return json_list\n",
        "\n",
        "\n",
        "def get_products(classification, filename=None):\n",
        "    call = build_call('attr', classification)\n",
        "    json_list = request_data(call)\n",
        "    if filename is not None:\n",
        "        data_to_csv(json_list, filename)\n",
        "    return json_list\n",
        "\n",
        "\n",
        "def get_trade(classification, trade_flow, year, origin, destination,product, filename=None):\n",
        "    call = build_call(classification, trade_flow, year, origin, destination,\n",
        "                      product)\n",
        "    json_list = request_data(call)\n",
        "    if filename is not None:\n",
        "        data_to_csv(json_list, filename)\n",
        "    return json_list\n",
        "\n",
        "\n",
        "def trade_params(classification, trade_flow, year, origin, destination,product):\n",
        "    parameters = {'classification': classification,\n",
        "                  'trade_flow': trade_flow,\n",
        "                  'year': year,\n",
        "                  'origin': origin,\n",
        "                  'destination': destination,\n",
        "                  'product': product}\n",
        "    return parameters\n",
        "\n",
        "\n",
        "def get_header(json_list):\n",
        "    header = set()\n",
        "    for dict in json_list:\n",
        "        header.update(dict.keys())\n",
        "    header = list(header)\n",
        "    header.sort()\n",
        "    return header\n",
        "\n",
        "\n",
        "def create_csv(json_list, filename):\n",
        "    with open(filename, 'w') as csvfile:\n",
        "        header = get_header(json_list)\n",
        "        cw = csv.writer(csvfile)\n",
        "        cw.writerow(header)\n",
        "        for dict in json_list:\n",
        "            row = dict_to_list(dict, header)\n",
        "            cw.writerow(row)\n",
        "\n",
        "\n",
        "def dict_to_list(dict, header):\n",
        "    row = []\n",
        "    for field in header:\n",
        "        if field in dict:\n",
        "            row.append(str(dict[field]))\n",
        "        else:\n",
        "            row.append(None)\n",
        "    return row"
      ],
      "execution_count": 0,
      "outputs": []
    },
    {
      "cell_type": "markdown",
      "metadata": {
        "id": "gJyV4Da6xB0s",
        "colab_type": "text"
      },
      "source": [
        "## Generate dataset"
      ]
    },
    {
      "cell_type": "code",
      "metadata": {
        "id": "uhhsLu7Cu2Cl",
        "colab_type": "code",
        "colab": {}
      },
      "source": [
        "trade_codes = ['6519',\n",
        "               '6531',\n",
        "               '8471','6571','7849','7810','7842','7764','7723','7522','2924','5419','5417','7763','7711','7188']\n",
        "PATH = '/content/drive/My Drive/Stellenbosch/Webster'\n",
        "os.chdir(PATH)\n",
        "trade_classification = 'sitc'\n",
        "def countries_and_products():\n",
        "  countries = oec.get_countries()\n",
        "  products = oec.get_products(trade_classification)\n",
        "  create_csv(countries,f'{PATH}/list_countries.csv')\n",
        "  create_csv(products,f'{PATH}/list_products.csv')"
      ],
      "execution_count": 0,
      "outputs": []
    },
    {
      "cell_type": "code",
      "metadata": {
        "id": "2bVTIJ_VGpWC",
        "colab_type": "code",
        "colab": {}
      },
      "source": [
        "os.getcwd()"
      ],
      "execution_count": 0,
      "outputs": []
    },
    {
      "cell_type": "code",
      "metadata": {
        "id": "ytyiY64CvuNv",
        "colab_type": "code",
        "colab": {}
      },
      "source": [
        "countries_and_products()"
      ],
      "execution_count": 0,
      "outputs": []
    },
    {
      "cell_type": "code",
      "metadata": {
        "id": "4lwaim2-uzJ8",
        "colab_type": "code",
        "colab": {}
      },
      "source": [
        "import os.path\n",
        "from os import path\n",
        "def download_data(list_of_codes):\n",
        "  for i in trade_codes:\n",
        "    csv_name = f\"{trade_classification}-{i}\"\n",
        "    # Set parameters to extract top exporters from the API documentation\n",
        "    params = {'classification': trade_classification,\n",
        "          'trade_flow': 'export',\n",
        "          'year': 'all',\n",
        "          'origin': 'show', #Set origin to all for comparison\n",
        "          'destination': 'all',\n",
        "          'product': i} #Set code for product of interest\n",
        "    print(f'Data for {i} processed.....')\n",
        "    oec_data = get_trade(**params)\n",
        "    # Save the results in CSV file\n",
        "    if path.exists(PATH):\n",
        "      create_csv(oec_data,f'{csv_name}.csv')#,locals(),globals())\n",
        "    else:\n",
        "      print('Choose destination directory')"
      ],
      "execution_count": 0,
      "outputs": []
    },
    {
      "cell_type": "code",
      "metadata": {
        "id": "vEJc5KeWZKuy",
        "colab_type": "code",
        "colab": {}
      },
      "source": [
        "download_data(trade_codes)"
      ],
      "execution_count": 0,
      "outputs": []
    },
    {
      "cell_type": "code",
      "metadata": {
        "id": "bjWtfD0TA8pc",
        "colab_type": "code",
        "colab": {}
      },
      "source": [
        "def create_df():\n",
        "  trade_data = [i for i in os.listdir(os.getcwd()) if i.endswith('.csv') and 'sitc' in i]\n",
        "  trade_history = []\n",
        "  for file in trade_data:\n",
        "    file_name = pd.read_csv(file)\n",
        "    trade_history.append(file_name)\n",
        "  products_dataframe = pd.concat(trade_history)\n",
        "  return products_dataframe"
      ],
      "execution_count": 0,
      "outputs": []
    },
    {
      "cell_type": "code",
      "metadata": {
        "id": "HdW-iC3yBMwO",
        "colab_type": "code",
        "colab": {}
      },
      "source": [
        "trade_dframe = create_df()"
      ],
      "execution_count": 0,
      "outputs": []
    },
    {
      "cell_type": "code",
      "metadata": {
        "id": "RePq3sESG-3c",
        "colab_type": "code",
        "colab": {}
      },
      "source": [
        "trade_dframe"
      ],
      "execution_count": 0,
      "outputs": []
    },
    {
      "cell_type": "code",
      "metadata": {
        "id": "xeSwhOC5HVuD",
        "colab_type": "code",
        "colab": {}
      },
      "source": [
        "trade_dframe['sitc_id'].unique()"
      ],
      "execution_count": 0,
      "outputs": []
    },
    {
      "cell_type": "code",
      "metadata": {
        "id": "6ableeJ2H9-h",
        "colab_type": "code",
        "colab": {}
      },
      "source": [
        "trade_dframe['origin_id'].unique()"
      ],
      "execution_count": 0,
      "outputs": []
    },
    {
      "cell_type": "code",
      "metadata": {
        "id": "Fl0YdIm5IU7B",
        "colab_type": "code",
        "colab": {}
      },
      "source": [
        ""
      ],
      "execution_count": 0,
      "outputs": []
    }
  ]
}