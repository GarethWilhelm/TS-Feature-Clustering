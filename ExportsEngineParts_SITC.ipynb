{
 "cells": [
  {
   "cell_type": "code",
   "execution_count": 1,
   "metadata": {},
   "outputs": [],
   "source": [
    "#!pip install oec\n",
    "#Try: https://intl-atlas-downloads.s3.amazonaws.com/index.html"
   ]
  },
  {
   "cell_type": "code",
   "execution_count": 2,
   "metadata": {},
   "outputs": [],
   "source": [
    "#Help docs for API\n",
    "#!python -m pydoc oec"
   ]
  },
  {
   "cell_type": "code",
   "execution_count": 3,
   "metadata": {},
   "outputs": [],
   "source": [
    "import pandas as pd; from pandas import DataFrame; import numpy as np; import seaborn as sns\n",
    "import matplotlib.pyplot as plt; from scipy.interpolate import UnivariateSpline\n",
    "\n",
    "import math ; from datetime import datetime ; plt.style.use('seaborn-whitegrid')\n",
    "import statsmodels.api as sm ; from statsmodels.tsa.seasonal import seasonal_decompose\n",
    "\n",
    "import oec \n",
    "%matplotlib inline"
   ]
  },
  {
   "cell_type": "code",
   "execution_count": 4,
   "metadata": {},
   "outputs": [],
   "source": [
    "#API call source: https://pypi.org/project/oec/\n",
    "# Set parameters to extract top exporters from the API documentation\n",
    "syst = 'sitc'\n",
    "code = '7849' #Enter product code here\n",
    "name = 'Car parts'\n",
    "\n",
    "params = {'classification': syst,\n",
    "          'trade_flow': 'export',\n",
    "          'year': 'all',\n",
    "          'origin': 'all', #Set origin to all for comparison\n",
    "          'destination': 'all',\n",
    "          'product': code} #Set code for product of interest (https://unstats.un.org/unsd/publication/SeriesM/SeriesM_34rev4E.pdf)\n",
    "            \n",
    "\n",
    "# Load lists from the OEC package on countries, products and exports\n",
    "list_of_countries = oec.get_countries()\n",
    "list_of_products = oec.get_products(params['classification'])\n",
    "list_of_exports = oec.get_trade(**params)"
   ]
  },
  {
   "cell_type": "code",
   "execution_count": 5,
   "metadata": {},
   "outputs": [
    {
     "data": {
      "text/html": [
       "<div>\n",
       "<style scoped>\n",
       "    .dataframe tbody tr th:only-of-type {\n",
       "        vertical-align: middle;\n",
       "    }\n",
       "\n",
       "    .dataframe tbody tr th {\n",
       "        vertical-align: top;\n",
       "    }\n",
       "\n",
       "    .dataframe thead th {\n",
       "        text-align: right;\n",
       "    }\n",
       "</style>\n",
       "<table border=\"1\" class=\"dataframe\">\n",
       "  <thead>\n",
       "    <tr style=\"text-align: right;\">\n",
       "      <th></th>\n",
       "      <th>export_val</th>\n",
       "      <th>export_val_growth_pct</th>\n",
       "      <th>export_val_growth_pct_5</th>\n",
       "      <th>export_val_growth_val</th>\n",
       "      <th>export_val_growth_val_5</th>\n",
       "      <th>import_val</th>\n",
       "      <th>import_val_growth_pct</th>\n",
       "      <th>import_val_growth_pct_5</th>\n",
       "      <th>import_val_growth_val</th>\n",
       "      <th>import_val_growth_val_5</th>\n",
       "      <th>pci</th>\n",
       "      <th>pci_rank</th>\n",
       "      <th>pci_rank_delta</th>\n",
       "      <th>sitc_id</th>\n",
       "      <th>sitc_id_len</th>\n",
       "      <th>exporter</th>\n",
       "      <th>top_importer</th>\n",
       "      <th>year</th>\n",
       "    </tr>\n",
       "  </thead>\n",
       "  <tbody>\n",
       "    <tr>\n",
       "      <th>0</th>\n",
       "      <td>16470000.0</td>\n",
       "      <td>NaN</td>\n",
       "      <td>NaN</td>\n",
       "      <td>NaN</td>\n",
       "      <td>NaN</td>\n",
       "      <td>8235000.0</td>\n",
       "      <td>NaN</td>\n",
       "      <td>NaN</td>\n",
       "      <td>NaN</td>\n",
       "      <td>NaN</td>\n",
       "      <td>NaN</td>\n",
       "      <td>NaN</td>\n",
       "      <td>NaN</td>\n",
       "      <td>107849</td>\n",
       "      <td>6.0</td>\n",
       "      <td>fra</td>\n",
       "      <td>sabra</td>\n",
       "      <td>1974.0</td>\n",
       "    </tr>\n",
       "    <tr>\n",
       "      <th>1</th>\n",
       "      <td>10628000.0</td>\n",
       "      <td>-0.354706</td>\n",
       "      <td>NaN</td>\n",
       "      <td>-11684000.0</td>\n",
       "      <td>NaN</td>\n",
       "      <td>5314000.0</td>\n",
       "      <td>-0.354706</td>\n",
       "      <td>NaN</td>\n",
       "      <td>-5842000.0</td>\n",
       "      <td>NaN</td>\n",
       "      <td>NaN</td>\n",
       "      <td>NaN</td>\n",
       "      <td>NaN</td>\n",
       "      <td>107849</td>\n",
       "      <td>6.0</td>\n",
       "      <td>swe</td>\n",
       "      <td>nacan</td>\n",
       "      <td>1975.0</td>\n",
       "    </tr>\n",
       "  </tbody>\n",
       "</table>\n",
       "</div>"
      ],
      "text/plain": [
       "   export_val  export_val_growth_pct  export_val_growth_pct_5  \\\n",
       "0  16470000.0                    NaN                      NaN   \n",
       "1  10628000.0              -0.354706                      NaN   \n",
       "\n",
       "   export_val_growth_val  export_val_growth_val_5  import_val  \\\n",
       "0                    NaN                      NaN   8235000.0   \n",
       "1            -11684000.0                      NaN   5314000.0   \n",
       "\n",
       "   import_val_growth_pct  import_val_growth_pct_5  import_val_growth_val  \\\n",
       "0                    NaN                      NaN                    NaN   \n",
       "1              -0.354706                      NaN             -5842000.0   \n",
       "\n",
       "   import_val_growth_val_5  pci  pci_rank  pci_rank_delta  sitc_id  \\\n",
       "0                      NaN  NaN       NaN             NaN   107849   \n",
       "1                      NaN  NaN       NaN             NaN   107849   \n",
       "\n",
       "   sitc_id_len exporter top_importer    year  \n",
       "0          6.0      fra        sabra  1974.0  \n",
       "1          6.0      swe        nacan  1975.0  "
      ]
     },
     "execution_count": 5,
     "metadata": {},
     "output_type": "execute_result"
    }
   ],
   "source": [
    "#Save the results in CSV file\n",
    "saveas = 'sitc_'+code+'_'+name+'_exporters.csv'\n",
    "oec.data_to_csv(list_of_exports,saveas)\n",
    "topx = pd.read_csv(saveas)\n",
    "topx['top_exporter'] = topx['top_exporter'].map(lambda x: str(x)[2:])\n",
    "topx.rename(columns={'top_exporter': 'exporter'}, inplace=True)\n",
    "topx.head(2)"
   ]
  },
  {
   "cell_type": "code",
   "execution_count": 6,
   "metadata": {},
   "outputs": [
    {
     "data": {
      "text/html": [
       "<div>\n",
       "<style scoped>\n",
       "    .dataframe tbody tr th:only-of-type {\n",
       "        vertical-align: middle;\n",
       "    }\n",
       "\n",
       "    .dataframe tbody tr th {\n",
       "        vertical-align: top;\n",
       "    }\n",
       "\n",
       "    .dataframe thead th {\n",
       "        text-align: right;\n",
       "    }\n",
       "</style>\n",
       "<table border=\"1\" class=\"dataframe\">\n",
       "  <thead>\n",
       "    <tr style=\"text-align: right;\">\n",
       "      <th></th>\n",
       "      <th>exporter</th>\n",
       "      <th>export_val</th>\n",
       "      <th>year</th>\n",
       "    </tr>\n",
       "  </thead>\n",
       "  <tbody>\n",
       "    <tr>\n",
       "      <th>0</th>\n",
       "      <td>fra</td>\n",
       "      <td>16470000.0</td>\n",
       "      <td>1974.0</td>\n",
       "    </tr>\n",
       "    <tr>\n",
       "      <th>1</th>\n",
       "      <td>swe</td>\n",
       "      <td>10628000.0</td>\n",
       "      <td>1975.0</td>\n",
       "    </tr>\n",
       "  </tbody>\n",
       "</table>\n",
       "</div>"
      ],
      "text/plain": [
       "  exporter  export_val    year\n",
       "0      fra  16470000.0  1974.0\n",
       "1      swe  10628000.0  1975.0"
      ]
     },
     "execution_count": 6,
     "metadata": {},
     "output_type": "execute_result"
    }
   ],
   "source": [
    "columns=['exporter','export_val','year']\n",
    "topx = topx[columns]\n",
    "topx.head(2)"
   ]
  },
  {
   "cell_type": "code",
   "execution_count": 7,
   "metadata": {},
   "outputs": [],
   "source": [
    "topx.loc[topx['exporter']=='fdr', ['exporter']] = 'deu'"
   ]
  },
  {
   "cell_type": "code",
   "execution_count": 8,
   "metadata": {},
   "outputs": [
    {
     "data": {
      "text/html": [
       "<div>\n",
       "<style scoped>\n",
       "    .dataframe tbody tr th:only-of-type {\n",
       "        vertical-align: middle;\n",
       "    }\n",
       "\n",
       "    .dataframe tbody tr th {\n",
       "        vertical-align: top;\n",
       "    }\n",
       "\n",
       "    .dataframe thead th {\n",
       "        text-align: right;\n",
       "    }\n",
       "</style>\n",
       "<table border=\"1\" class=\"dataframe\">\n",
       "  <thead>\n",
       "    <tr style=\"text-align: right;\">\n",
       "      <th></th>\n",
       "      <th>origin</th>\n",
       "      <th>exporter</th>\n",
       "    </tr>\n",
       "  </thead>\n",
       "  <tbody>\n",
       "    <tr>\n",
       "      <th>0</th>\n",
       "      <td>afghanistan</td>\n",
       "      <td>afg</td>\n",
       "    </tr>\n",
       "    <tr>\n",
       "      <th>1</th>\n",
       "      <td>africa cameu region, not elsewhere specified</td>\n",
       "      <td>nan</td>\n",
       "    </tr>\n",
       "    <tr>\n",
       "      <th>2</th>\n",
       "      <td>albania</td>\n",
       "      <td>alb</td>\n",
       "    </tr>\n",
       "    <tr>\n",
       "      <th>3</th>\n",
       "      <td>algeria</td>\n",
       "      <td>dza</td>\n",
       "    </tr>\n",
       "    <tr>\n",
       "      <th>4</th>\n",
       "      <td>american samoa</td>\n",
       "      <td>asm</td>\n",
       "    </tr>\n",
       "  </tbody>\n",
       "</table>\n",
       "</div>"
      ],
      "text/plain": [
       "                                        origin  exporter\n",
       "0                                   afghanistan      afg\n",
       "1  africa cameu region, not elsewhere specified      nan\n",
       "2                                       albania      alb\n",
       "3                                       algeria      dza\n",
       "4                                american samoa      asm"
      ]
     },
     "execution_count": 8,
     "metadata": {},
     "output_type": "execute_result"
    }
   ],
   "source": [
    "url = 'http://unstats.un.org/unsd/tradekb/Attachment440.aspx?AttachmentType=1'\n",
    "countries = pd.read_excel(url)\n",
    "countries.to_csv('country list.csv')\n",
    "#countries = pd.read_excel('country list.csv')\n",
    "countries.rename(columns={'ISO3-digit Alpha': 'exporter'}, inplace=True)\n",
    "countries = countries.astype(str).apply(lambda x: x.str.lower())\n",
    "countries.rename(columns=lambda x: x.replace('Country Name, Full', 'origin'), inplace=True)\n",
    "countries.drop(['Country Comments','ISO2-digit Alpha','Country Code',\"Country Name, Abbreviation\",\n",
    "                'Start Valid Year','End Valid Year'],axis=1,inplace=True)\n",
    "countries.head()"
   ]
  },
  {
   "cell_type": "code",
   "execution_count": 9,
   "metadata": {},
   "outputs": [],
   "source": [
    "countries.loc[countries['exporter']=='ddr', ['exporter']] = 'deu'\n",
    "#countries.loc[countries['origin']=='former democratic republic of germany', ['origin']] = 'germany'"
   ]
  },
  {
   "cell_type": "code",
   "execution_count": 10,
   "metadata": {},
   "outputs": [],
   "source": [
    "top_exporters = topx.merge(countries, on=['exporter'],how='left')\n",
    "#top_exporters[top_exporters['year']==2015]\n",
    "top_exporters.to_csv(code+'top_exporters.csv')"
   ]
  },
  {
   "cell_type": "code",
   "execution_count": 11,
   "metadata": {},
   "outputs": [
    {
     "data": {
      "text/html": [
       "<div>\n",
       "<style scoped>\n",
       "    .dataframe tbody tr th:only-of-type {\n",
       "        vertical-align: middle;\n",
       "    }\n",
       "\n",
       "    .dataframe tbody tr th {\n",
       "        vertical-align: top;\n",
       "    }\n",
       "\n",
       "    .dataframe thead th {\n",
       "        text-align: right;\n",
       "    }\n",
       "</style>\n",
       "<table border=\"1\" class=\"dataframe\">\n",
       "  <thead>\n",
       "    <tr style=\"text-align: right;\">\n",
       "      <th></th>\n",
       "      <th>exporter</th>\n",
       "      <th>export_val</th>\n",
       "      <th>origin</th>\n",
       "    </tr>\n",
       "    <tr>\n",
       "      <th>year</th>\n",
       "      <th></th>\n",
       "      <th></th>\n",
       "      <th></th>\n",
       "    </tr>\n",
       "  </thead>\n",
       "  <tbody>\n",
       "    <tr>\n",
       "      <th>1974.0</th>\n",
       "      <td>fra</td>\n",
       "      <td>16470000.0</td>\n",
       "      <td>france, monaco</td>\n",
       "    </tr>\n",
       "    <tr>\n",
       "      <th>1975.0</th>\n",
       "      <td>swe</td>\n",
       "      <td>10628000.0</td>\n",
       "      <td>sweden</td>\n",
       "    </tr>\n",
       "    <tr>\n",
       "      <th>1976.0</th>\n",
       "      <td>usa</td>\n",
       "      <td>179620000.0</td>\n",
       "      <td>usa, puerto rico and us virgin islands</td>\n",
       "    </tr>\n",
       "    <tr>\n",
       "      <th>1976.0</th>\n",
       "      <td>usa</td>\n",
       "      <td>179620000.0</td>\n",
       "      <td>usa and puerto rico</td>\n",
       "    </tr>\n",
       "    <tr>\n",
       "      <th>1977.0</th>\n",
       "      <td>fra</td>\n",
       "      <td>21705000.0</td>\n",
       "      <td>france, monaco</td>\n",
       "    </tr>\n",
       "  </tbody>\n",
       "</table>\n",
       "</div>"
      ],
      "text/plain": [
       "       exporter   export_val                                 origin \n",
       "year                                                                \n",
       "1974.0      fra   16470000.0                          france, monaco\n",
       "1975.0      swe   10628000.0                                  sweden\n",
       "1976.0      usa  179620000.0  usa, puerto rico and us virgin islands\n",
       "1976.0      usa  179620000.0                     usa and puerto rico\n",
       "1977.0      fra   21705000.0                          france, monaco"
      ]
     },
     "execution_count": 11,
     "metadata": {},
     "output_type": "execute_result"
    }
   ],
   "source": [
    "top_exporters= pd.read_csv(code+'top_exporters.csv')\n",
    "top_exporters.index = top_exporters['year']\n",
    "top_exporters.drop([\n",
    "    'year',\n",
    "    'Unnamed: 0'],axis=1,inplace=True)\n",
    "top_exporters.head()"
   ]
  },
  {
   "cell_type": "code",
   "execution_count": 12,
   "metadata": {},
   "outputs": [],
   "source": [
    "#top_exporters = np.array(top_exporters)\n",
    "#print(top_exporters)\n",
    "\n",
    "#Creating pandas dataframe from numpy array\n",
    "#top_exporters = pd.DataFrame({'exporter': top_exporters[:]})\n",
    "#top_exporters.head()"
   ]
  },
  {
   "cell_type": "code",
   "execution_count": 13,
   "metadata": {},
   "outputs": [],
   "source": [
    "# Set parameters to extract all exporting countries for product of interest\n",
    "params = {'classification': 'sitc',\n",
    "          'trade_flow': 'export',\n",
    "          'year': 'all',\n",
    "          'origin': 'show', #Set to show to view all the origin data related to export product \n",
    "          'destination': 'all',\n",
    "          'product': code}\n",
    "\n",
    "list_of_countries = oec.get_countries()\n",
    "list_of_products = oec.get_products(params['classification'])\n",
    "list_of_exports = oec.get_trade(**params)"
   ]
  },
  {
   "cell_type": "code",
   "execution_count": 14,
   "metadata": {},
   "outputs": [],
   "source": [
    "saveall = code+'_'+'all_exporters.csv'\n",
    "oec.data_to_csv(list_of_exports, saveall )"
   ]
  },
  {
   "cell_type": "code",
   "execution_count": 15,
   "metadata": {},
   "outputs": [],
   "source": [
    "exports =pd.read_csv(saveall)"
   ]
  },
  {
   "cell_type": "code",
   "execution_count": 16,
   "metadata": {},
   "outputs": [],
   "source": [
    "exports['export_val'].replace('',0, inplace=True)\n",
    "#exports['export_rca'].replace('', np.nan, inplace=True)\n",
    "#exports.dropna(subset=['export_val','export_rca'], inplace=True)"
   ]
  },
  {
   "cell_type": "code",
   "execution_count": 17,
   "metadata": {},
   "outputs": [
    {
     "data": {
      "text/html": [
       "<div>\n",
       "<style scoped>\n",
       "    .dataframe tbody tr th:only-of-type {\n",
       "        vertical-align: middle;\n",
       "    }\n",
       "\n",
       "    .dataframe tbody tr th {\n",
       "        vertical-align: top;\n",
       "    }\n",
       "\n",
       "    .dataframe thead th {\n",
       "        text-align: right;\n",
       "    }\n",
       "</style>\n",
       "<table border=\"1\" class=\"dataframe\">\n",
       "  <thead>\n",
       "    <tr style=\"text-align: right;\">\n",
       "      <th></th>\n",
       "      <th>year</th>\n",
       "      <th>exporter</th>\n",
       "      <th>export_val</th>\n",
       "      <th>export_rca</th>\n",
       "    </tr>\n",
       "  </thead>\n",
       "  <tbody>\n",
       "    <tr>\n",
       "      <th>0</th>\n",
       "      <td>1974.0</td>\n",
       "      <td>deu</td>\n",
       "      <td>0.002941</td>\n",
       "      <td>1.667370</td>\n",
       "    </tr>\n",
       "    <tr>\n",
       "      <th>1</th>\n",
       "      <td>1974.0</td>\n",
       "      <td>esp</td>\n",
       "      <td>0.001599</td>\n",
       "      <td>10.849400</td>\n",
       "    </tr>\n",
       "    <tr>\n",
       "      <th>2</th>\n",
       "      <td>1974.0</td>\n",
       "      <td>fdr</td>\n",
       "      <td>0.002941</td>\n",
       "      <td>1.667370</td>\n",
       "    </tr>\n",
       "    <tr>\n",
       "      <th>3</th>\n",
       "      <td>1974.0</td>\n",
       "      <td>fra</td>\n",
       "      <td>0.006198</td>\n",
       "      <td>6.928290</td>\n",
       "    </tr>\n",
       "    <tr>\n",
       "      <th>4</th>\n",
       "      <td>1974.0</td>\n",
       "      <td>gbr</td>\n",
       "      <td>0.000254</td>\n",
       "      <td>0.329613</td>\n",
       "    </tr>\n",
       "  </tbody>\n",
       "</table>\n",
       "</div>"
      ],
      "text/plain": [
       "     year exporter  export_val  export_rca\n",
       "0  1974.0      deu    0.002941    1.667370\n",
       "1  1974.0      esp    0.001599   10.849400\n",
       "2  1974.0      fdr    0.002941    1.667370\n",
       "3  1974.0      fra    0.006198    6.928290\n",
       "4  1974.0      gbr    0.000254    0.329613"
      ]
     },
     "execution_count": 17,
     "metadata": {},
     "output_type": "execute_result"
    }
   ],
   "source": [
    "billion = 1000000000\n",
    "exports['export_val'] = exports['export_val']/billion\n",
    "exports = exports[['year','origin_id','export_val','export_rca']]\n",
    "exports['origin_id'] = exports['origin_id'].map(lambda x: str(x)[2:])\n",
    "exports.rename(columns={'origin_id': 'exporter'}, inplace=True)\n",
    "exports.head()"
   ]
  },
  {
   "cell_type": "code",
   "execution_count": 18,
   "metadata": {},
   "outputs": [],
   "source": [
    "exports.loc[exports['exporter']=='fdr', ['exporter']] = 'deu'"
   ]
  },
  {
   "cell_type": "code",
   "execution_count": 19,
   "metadata": {},
   "outputs": [],
   "source": [
    "exports = exports.merge(countries, on=['exporter'],how='left')"
   ]
  },
  {
   "cell_type": "code",
   "execution_count": 20,
   "metadata": {},
   "outputs": [
    {
     "data": {
      "text/html": [
       "<div>\n",
       "<style scoped>\n",
       "    .dataframe tbody tr th:only-of-type {\n",
       "        vertical-align: middle;\n",
       "    }\n",
       "\n",
       "    .dataframe tbody tr th {\n",
       "        vertical-align: top;\n",
       "    }\n",
       "\n",
       "    .dataframe thead th {\n",
       "        text-align: right;\n",
       "    }\n",
       "</style>\n",
       "<table border=\"1\" class=\"dataframe\">\n",
       "  <thead>\n",
       "    <tr style=\"text-align: right;\">\n",
       "      <th></th>\n",
       "      <th>exporter</th>\n",
       "      <th>export_val</th>\n",
       "      <th>export_rca</th>\n",
       "      <th>origin</th>\n",
       "    </tr>\n",
       "    <tr>\n",
       "      <th>year</th>\n",
       "      <th></th>\n",
       "      <th></th>\n",
       "      <th></th>\n",
       "      <th></th>\n",
       "    </tr>\n",
       "  </thead>\n",
       "  <tbody>\n",
       "    <tr>\n",
       "      <th>1974.0</th>\n",
       "      <td>deu</td>\n",
       "      <td>0.002941</td>\n",
       "      <td>1.66737</td>\n",
       "      <td>former democratic republic of germany</td>\n",
       "    </tr>\n",
       "    <tr>\n",
       "      <th>1974.0</th>\n",
       "      <td>deu</td>\n",
       "      <td>0.002941</td>\n",
       "      <td>1.66737</td>\n",
       "      <td>former federal republic of germany</td>\n",
       "    </tr>\n",
       "    <tr>\n",
       "      <th>1974.0</th>\n",
       "      <td>deu</td>\n",
       "      <td>0.002941</td>\n",
       "      <td>1.66737</td>\n",
       "      <td>germany</td>\n",
       "    </tr>\n",
       "    <tr>\n",
       "      <th>1974.0</th>\n",
       "      <td>esp</td>\n",
       "      <td>0.001599</td>\n",
       "      <td>10.84940</td>\n",
       "      <td>spain</td>\n",
       "    </tr>\n",
       "    <tr>\n",
       "      <th>1974.0</th>\n",
       "      <td>deu</td>\n",
       "      <td>0.002941</td>\n",
       "      <td>1.66737</td>\n",
       "      <td>former democratic republic of germany</td>\n",
       "    </tr>\n",
       "  </tbody>\n",
       "</table>\n",
       "</div>"
      ],
      "text/plain": [
       "       exporter  export_val  export_rca                                origin \n",
       "year                                                                          \n",
       "1974.0      deu    0.002941     1.66737  former democratic republic of germany\n",
       "1974.0      deu    0.002941     1.66737     former federal republic of germany\n",
       "1974.0      deu    0.002941     1.66737                                germany\n",
       "1974.0      esp    0.001599    10.84940                                  spain\n",
       "1974.0      deu    0.002941     1.66737  former democratic republic of germany"
      ]
     },
     "execution_count": 20,
     "metadata": {},
     "output_type": "execute_result"
    }
   ],
   "source": [
    "exports.index = exports['year']\n",
    "exports.drop(['year'],axis=1,inplace=True)\n",
    "exports.head()"
   ]
  },
  {
   "cell_type": "code",
   "execution_count": 21,
   "metadata": {},
   "outputs": [
    {
     "data": {
      "text/plain": [
       "array(['can', 'deu', 'fra', 'mex', 'swe', 'usa'], dtype=object)"
      ]
     },
     "execution_count": 21,
     "metadata": {},
     "output_type": "execute_result"
    }
   ],
   "source": [
    "#Make a list of unique instances of the exporting countries\n",
    "top_exporters = np.sort((top_exporters['exporter']).unique())\n",
    "top_exporters"
   ]
  },
  {
   "cell_type": "code",
   "execution_count": 22,
   "metadata": {},
   "outputs": [],
   "source": [
    "#top_exporters"
   ]
  },
  {
   "cell_type": "code",
   "execution_count": 23,
   "metadata": {},
   "outputs": [],
   "source": [
    "origin = np.sort(exports['exporter'].unique())\n",
    "#origin"
   ]
  },
  {
   "cell_type": "code",
   "execution_count": 24,
   "metadata": {},
   "outputs": [],
   "source": [
    "deu = exports['export_val'].loc[exports['exporter'] == 'deu']\n",
    "can = exports['export_val'].loc[exports['exporter'] == 'can']\n",
    "fra = exports['export_val'].loc[exports['exporter'] == 'fra']\n",
    "swe = exports['export_val'].loc[exports['exporter'] == 'swe']\n",
    "mex = exports['export_val'].loc[exports['exporter'] == 'mex']\n",
    "usa = exports['export_val'].loc[exports['exporter'] == 'usa']\n",
    "#jpn = exports['export_val'].loc[exports['exporter'] == 'jpn']\n",
    "\n",
    "zar = exports['export_val'].loc[exports['exporter'] == 'zaf']"
   ]
  },
  {
   "cell_type": "code",
   "execution_count": 25,
   "metadata": {},
   "outputs": [
    {
     "data": {
      "text/plain": [
       "'C:\\\\Users\\\\16353\\\\Documents\\\\ThaW\\\\PhD\\\\time_series_trade'"
      ]
     },
     "execution_count": 25,
     "metadata": {},
     "output_type": "execute_result"
    }
   ],
   "source": [
    "import os\n",
    "dir_path = os.path.dirname(os.path.realpath('Exports_NNs'))"
   ]
  },
  {
   "cell_type": "code",
   "execution_count": 26,
   "metadata": {},
   "outputs": [],
   "source": [
    "target = dir_path+'\\Exports_NNs'\n",
    "deu.to_csv(target+'Germany'+'_'+code+'.csv',header='True')\n",
    "can.to_csv(target+'Canada'+'_'+code+'.csv',header='True')\n",
    "fra.to_csv(target+'France'+'_'+code+'.csv',header='True')\n",
    "swe.to_csv(target+'Sweden'+'_'+code+'.csv',header='True')\n",
    "mex.to_csv(target+'Mexico'+'_'+code+'.csv',header='True')\n",
    "swe.to_csv(target+'Sweden'+'_'+code+'.csv',header='True')\n",
    "usa.to_csv(target+'United States of America'+'_'+code+'.csv',header='True')\n",
    "\n",
    "zar.to_csv(target+'South Africa'+'_'+code+'.csv',header='True')\n"
   ]
  },
  {
   "cell_type": "code",
   "execution_count": 27,
   "metadata": {},
   "outputs": [
    {
     "data": {
      "image/png": "[encoded data removed]",
      "text/plain": [
       "<Figure size 1080x576 with 1 Axes>"
      ]
     },
     "metadata": {
      "needs_background": "light"
     },
     "output_type": "display_data"
    }
   ],
   "source": [
    "#compare = zar\n",
    "fig1, ax1 = plt.subplots(figsize=(15,8))\n",
    "label='South Africa'\n",
    "zar.plot(color='teal',ax=ax1,label=label)\n",
    "ax1.set_ylabel('Exports (US$')\n",
    "fig1.suptitle(\"South Africa exports for \"+name +'_' +'SITC_'+code, fontsize=16)\n",
    "\n",
    "plt.legend(ncol=1,loc='best')\n",
    "plt.savefig(str(label)+' '+code+' '+'_exports')"
   ]
  },
  {
   "cell_type": "code",
   "execution_count": 28,
   "metadata": {},
   "outputs": [
    {
     "data": {
      "image/png": "[encoded data removed]",
      "text/plain": [
       "<Figure size 1080x720 with 1 Axes>"
      ]
     },
     "metadata": {
      "needs_background": "light"
     },
     "output_type": "display_data"
    }
   ],
   "source": [
    "fig1, ax1 = plt.subplots(figsize=(15,10))\n",
    "\n",
    "#top_exporters['export_val'].plot(color='red', ax=ax1,label='World trend')\n",
    "can.plot(color='red',ax=ax1,label='Canada')\n",
    "swe.plot(color='blue',ax=ax1,label='Sweden')\n",
    "deu.plot(color='green',ax=ax1,label='Germany')\n",
    "fra.plot(color='orange',ax=ax1,label='France')\n",
    "mex.plot(color='black',ax=ax1,label='Mexico')\n",
    "usa.plot(color='brown',ax=ax1,label='USA')\n",
    "#jpn.plot(color='purple',ax=ax1,label='Japan')\n",
    "zar.plot(color='teal',ax=ax1,label='South Africa')\n",
    "\n",
    "ax1.set_ylabel('Exports (US$)')\n",
    "fig1.suptitle(\"Exports for \"+name+'_'+syst+code+\" :South Africa vs Top exporters\", fontsize=16)\n",
    "\n",
    "plt.legend(ncol=1,loc='best')\n",
    "plt.savefig('SA vs Top exporters')"
   ]
  }
 ],
 "metadata": {
  "kernelspec": {
   "display_name": "Python 3",
   "language": "python",
   "name": "python3"
  },
  "language_info": {
   "codemirror_mode": {
    "name": "ipython",
    "version": 3
   },
   "file_extension": ".py",
   "mimetype": "text/x-python",
   "name": "python",
   "nbconvert_exporter": "python",
   "pygments_lexer": "ipython3",
   "version": "3.7.3"
  }
 },
 "nbformat": 4,
 "nbformat_minor": 2
}
