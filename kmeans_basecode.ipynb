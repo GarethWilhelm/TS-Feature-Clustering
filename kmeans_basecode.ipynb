{
  "nbformat": 4,
  "nbformat_minor": 0,
  "metadata": {
    "colab": {
      "name": "kmeans_basecode.ipynb",
      "provenance": [],
      "mount_file_id": "1pHiCwWPurKDhGsuWr1gsSUXvbpW-MigA",
      "authorship_tag": "ABX9TyNPwWBeYUTh2HCax0jgRAJ8",
      "include_colab_link": true
    },
    "kernelspec": {
      "name": "python3",
      "display_name": "Python 3"
    }
  },
  "cells": [
    {
      "cell_type": "markdown",
      "metadata": {
        "id": "view-in-github",
        "colab_type": "text"
      },
      "source": [
        "<a href=\"https://colab.research.google.com/github/wgova/time_series_trade/blob/master/kmeans_basecode.ipynb\" target=\"_parent\"><img src=\"https://colab.research.google.com/assets/colab-badge.svg\" alt=\"Open In Colab\"/></a>"
      ]
    },
    {
      "cell_type": "code",
      "metadata": {
        "id": "ILMYDU06HoYm",
        "colab_type": "code",
        "outputId": "78014d9b-9e4b-438e-c784-37bfcd86c4b4",
        "colab": {
          "base_uri": "https://localhost:8080/",
          "height": 292
        }
      },
      "source": [
        "!pip install tslearn\n",
        "import pandas as pd\n",
        "import numpy as np\n",
        "import glob\n",
        "from tslearn.clustering import KShape\n",
        "from tslearn.preprocessing import TimeSeriesScalerMeanVariance\n",
        "\n",
        "import matplotlib.pyplot as plt\n",
        "%matplotlib inline"
      ],
      "execution_count": 1,
      "outputs": [
        {
          "output_type": "stream",
          "text": [
            "Collecting tslearn\n",
            "\u001b[?25l  Downloading https://files.pythonhosted.org/packages/09/6a/04fb547ac56093e6cd3d904fb2ad15f355934d0beadbded6978f07d1be9e/tslearn-0.3.1-cp36-cp36m-manylinux2010_x86_64.whl (746kB)\n",
            "\r\u001b[K     |▍                               | 10kB 17.2MB/s eta 0:00:01\r\u001b[K     |▉                               | 20kB 1.8MB/s eta 0:00:01\r\u001b[K     |█▎                              | 30kB 2.6MB/s eta 0:00:01\r\u001b[K     |█▊                              | 40kB 3.4MB/s eta 0:00:01\r\u001b[K     |██▏                             | 51kB 2.1MB/s eta 0:00:01\r\u001b[K     |██▋                             | 61kB 2.5MB/s eta 0:00:01\r\u001b[K     |███                             | 71kB 2.9MB/s eta 0:00:01\r\u001b[K     |███▌                            | 81kB 3.3MB/s eta 0:00:01\r\u001b[K     |████                            | 92kB 2.5MB/s eta 0:00:01\r\u001b[K     |████▍                           | 102kB 2.8MB/s eta 0:00:01\r\u001b[K     |████▉                           | 112kB 2.8MB/s eta 0:00:01\r\u001b[K     |█████▎                          | 122kB 2.8MB/s eta 0:00:01\r\u001b[K     |█████▊                          | 133kB 2.8MB/s eta 0:00:01\r\u001b[K     |██████▏                         | 143kB 2.8MB/s eta 0:00:01\r\u001b[K     |██████▋                         | 153kB 2.8MB/s eta 0:00:01\r\u001b[K     |███████                         | 163kB 2.8MB/s eta 0:00:01\r\u001b[K     |███████▌                        | 174kB 2.8MB/s eta 0:00:01\r\u001b[K     |████████                        | 184kB 2.8MB/s eta 0:00:01\r\u001b[K     |████████▍                       | 194kB 2.8MB/s eta 0:00:01\r\u001b[K     |████████▉                       | 204kB 2.8MB/s eta 0:00:01\r\u001b[K     |█████████▎                      | 215kB 2.8MB/s eta 0:00:01\r\u001b[K     |█████████▋                      | 225kB 2.8MB/s eta 0:00:01\r\u001b[K     |██████████                      | 235kB 2.8MB/s eta 0:00:01\r\u001b[K     |██████████▌                     | 245kB 2.8MB/s eta 0:00:01\r\u001b[K     |███████████                     | 256kB 2.8MB/s eta 0:00:01\r\u001b[K     |███████████▍                    | 266kB 2.8MB/s eta 0:00:01\r\u001b[K     |███████████▉                    | 276kB 2.8MB/s eta 0:00:01\r\u001b[K     |████████████▎                   | 286kB 2.8MB/s eta 0:00:01\r\u001b[K     |████████████▊                   | 296kB 2.8MB/s eta 0:00:01\r\u001b[K     |█████████████▏                  | 307kB 2.8MB/s eta 0:00:01\r\u001b[K     |█████████████▋                  | 317kB 2.8MB/s eta 0:00:01\r\u001b[K     |██████████████                  | 327kB 2.8MB/s eta 0:00:01\r\u001b[K     |██████████████▌                 | 337kB 2.8MB/s eta 0:00:01\r\u001b[K     |███████████████                 | 348kB 2.8MB/s eta 0:00:01\r\u001b[K     |███████████████▍                | 358kB 2.8MB/s eta 0:00:01\r\u001b[K     |███████████████▉                | 368kB 2.8MB/s eta 0:00:01\r\u001b[K     |████████████████▎               | 378kB 2.8MB/s eta 0:00:01\r\u001b[K     |████████████████▊               | 389kB 2.8MB/s eta 0:00:01\r\u001b[K     |█████████████████▏              | 399kB 2.8MB/s eta 0:00:01\r\u001b[K     |█████████████████▋              | 409kB 2.8MB/s eta 0:00:01\r\u001b[K     |██████████████████              | 419kB 2.8MB/s eta 0:00:01\r\u001b[K     |██████████████████▌             | 430kB 2.8MB/s eta 0:00:01\r\u001b[K     |██████████████████▉             | 440kB 2.8MB/s eta 0:00:01\r\u001b[K     |███████████████████▎            | 450kB 2.8MB/s eta 0:00:01\r\u001b[K     |███████████████████▊            | 460kB 2.8MB/s eta 0:00:01\r\u001b[K     |████████████████████▏           | 471kB 2.8MB/s eta 0:00:01\r\u001b[K     |████████████████████▋           | 481kB 2.8MB/s eta 0:00:01\r\u001b[K     |█████████████████████           | 491kB 2.8MB/s eta 0:00:01\r\u001b[K     |█████████████████████▌          | 501kB 2.8MB/s eta 0:00:01\r\u001b[K     |██████████████████████          | 512kB 2.8MB/s eta 0:00:01\r\u001b[K     |██████████████████████▍         | 522kB 2.8MB/s eta 0:00:01\r\u001b[K     |██████████████████████▉         | 532kB 2.8MB/s eta 0:00:01\r\u001b[K     |███████████████████████▎        | 542kB 2.8MB/s eta 0:00:01\r\u001b[K     |███████████████████████▊        | 552kB 2.8MB/s eta 0:00:01\r\u001b[K     |████████████████████████▏       | 563kB 2.8MB/s eta 0:00:01\r\u001b[K     |████████████████████████▋       | 573kB 2.8MB/s eta 0:00:01\r\u001b[K     |█████████████████████████       | 583kB 2.8MB/s eta 0:00:01\r\u001b[K     |█████████████████████████▌      | 593kB 2.8MB/s eta 0:00:01\r\u001b[K     |██████████████████████████      | 604kB 2.8MB/s eta 0:00:01\r\u001b[K     |██████████████████████████▍     | 614kB 2.8MB/s eta 0:00:01\r\u001b[K     |██████████████████████████▉     | 624kB 2.8MB/s eta 0:00:01\r\u001b[K     |███████████████████████████▎    | 634kB 2.8MB/s eta 0:00:01\r\u001b[K     |███████████████████████████▊    | 645kB 2.8MB/s eta 0:00:01\r\u001b[K     |████████████████████████████    | 655kB 2.8MB/s eta 0:00:01\r\u001b[K     |████████████████████████████▌   | 665kB 2.8MB/s eta 0:00:01\r\u001b[K     |█████████████████████████████   | 675kB 2.8MB/s eta 0:00:01\r\u001b[K     |█████████████████████████████▍  | 686kB 2.8MB/s eta 0:00:01\r\u001b[K     |█████████████████████████████▉  | 696kB 2.8MB/s eta 0:00:01\r\u001b[K     |██████████████████████████████▎ | 706kB 2.8MB/s eta 0:00:01\r\u001b[K     |██████████████████████████████▊ | 716kB 2.8MB/s eta 0:00:01\r\u001b[K     |███████████████████████████████▏| 727kB 2.8MB/s eta 0:00:01\r\u001b[K     |███████████████████████████████▋| 737kB 2.8MB/s eta 0:00:01\r\u001b[K     |████████████████████████████████| 747kB 2.8MB/s \n",
            "\u001b[?25hRequirement already satisfied: numba in /usr/local/lib/python3.6/dist-packages (from tslearn) (0.48.0)\n",
            "Requirement already satisfied: joblib in /usr/local/lib/python3.6/dist-packages (from tslearn) (0.14.1)\n",
            "Requirement already satisfied: scikit-learn in /usr/local/lib/python3.6/dist-packages (from tslearn) (0.22.2.post1)\n",
            "Requirement already satisfied: scipy in /usr/local/lib/python3.6/dist-packages (from tslearn) (1.4.1)\n",
            "Requirement already satisfied: numpy in /usr/local/lib/python3.6/dist-packages (from tslearn) (1.18.3)\n",
            "Requirement already satisfied: Cython in /usr/local/lib/python3.6/dist-packages (from tslearn) (0.29.17)\n",
            "Requirement already satisfied: setuptools in /usr/local/lib/python3.6/dist-packages (from numba->tslearn) (46.1.3)\n",
            "Requirement already satisfied: llvmlite<0.32.0,>=0.31.0dev0 in /usr/local/lib/python3.6/dist-packages (from numba->tslearn) (0.31.0)\n",
            "Installing collected packages: tslearn\n",
            "Successfully installed tslearn-0.3.1\n"
          ],
          "name": "stdout"
        },
        {
          "output_type": "stream",
          "text": [
            "/usr/local/lib/python3.6/dist-packages/sklearn/utils/deprecation.py:144: FutureWarning: The sklearn.cluster.k_means_ module is  deprecated in version 0.22 and will be removed in version 0.24. The corresponding classes / functions should instead be imported from sklearn.cluster. Anything that cannot be imported from sklearn.cluster is now part of the private API.\n",
            "  warnings.warn(message, FutureWarning)\n"
          ],
          "name": "stderr"
        }
      ]
    },
    {
      "cell_type": "code",
      "metadata": {
        "id": "T4u2eyfBIpv9",
        "colab_type": "code",
        "outputId": "eb2e3ebb-7571-4feb-d12e-51e524008841",
        "colab": {
          "base_uri": "https://localhost:8080/",
          "height": 34
        }
      },
      "source": [
        "import os\n",
        "os.chdir('/content/drive/My Drive/phd_data/sitc/')\n",
        "os.getcwd()"
      ],
      "execution_count": 2,
      "outputs": [
        {
          "output_type": "execute_result",
          "data": {
            "text/plain": [
              "'/content/drive/My Drive/phd_data/sitc'"
            ]
          },
          "metadata": {
            "tags": []
          },
          "execution_count": 2
        }
      ]
    },
    {
      "cell_type": "code",
      "metadata": {
        "id": "htcNfM0ZIPeI",
        "colab_type": "code",
        "colab": {}
      },
      "source": [
        "def read_filedata(filenames):\n",
        "    dfs = []\n",
        "    for filename in filenames:\n",
        "        original_df = pd.read_csv(filename, index_col=None, header=0)\n",
        "        dfs.append(original_df)\n",
        "    return dfs\n",
        "\n",
        "def time_series_data(dataframes, target_col=None):\n",
        "    tsdata = []\n",
        "    for i, df in enumerate(dataframes):\n",
        "        tsdata.append(df[target_col].values.tolist()[:])\n",
        "        len_max = 0\n",
        "        for ts in tsdata:\n",
        "            if len(ts) > len_max:\n",
        "                len_max = len(ts)\n",
        "        for i, ts in enumerate(tsdata):\n",
        "            len_add = len_max - len(ts)\n",
        "            tsdata[i] = ts + [ts[-1]] * len_add\n",
        "    \n",
        "    tsdata = np.array(tsdata)\n",
        "    return tsdata\n",
        "\n",
        "def transform_vector(time_series_array):\n",
        "    stack_list = []\n",
        "    for j in range(len(time_series_array)):\n",
        "        data = np.array(time_series_array[j])\n",
        "        data = data.reshape((1, len(data))).T\n",
        "        stack_list.append(data)\n",
        "    stack_data = np.stack(stack_list, axis=0)\n",
        "    return stack_data"
      ],
      "execution_count": 0,
      "outputs": []
    },
    {
      "cell_type": "code",
      "metadata": {
        "id": "b0eSkPIjTu4a",
        "colab_type": "code",
        "colab": {}
      },
      "source": [
        "list_df = []\n",
        "def create_df():\n",
        "  exclude_list = ['export_rca','export_val_growth_pct','export_val_growth_pct_5', 'export_val_growth_val','export_val_growth_val_5', \n",
        "                'import_rca', 'import_val','import_val_growth_pct', 'import_val_growth_pct_5','import_val_growth_val', 'import_val_growth_val_5','sitc_id_len']\n",
        "  trade_data = [i for i in os.listdir(os.getcwd()) if i.endswith('.csv') and 'sitc' in i]\n",
        "  for file in trade_data:\n",
        "    trade_history = []\n",
        "    file_name = pd.read_csv(file).drop(exclude_list, axis=1)\n",
        "    trade_history.append(file_name)\n",
        "  products_dataframe = pd.concat(trade_history)\n",
        "  return products_dataframe\n",
        "\n",
        "xtrade_years = create_df()\n",
        "xtrade_years['year'] = pd.to_datetime(trade_dframe['year'], format='%Y')"
      ],
      "execution_count": 0,
      "outputs": []
    },
    {
      "cell_type": "code",
      "metadata": {
        "id": "qvgVw6AVWjcD",
        "colab_type": "code",
        "colab": {
          "base_uri": "https://localhost:8080/",
          "height": 204
        },
        "outputId": "db7f37fc-443d-4b4f-e538-a762c595fd4c"
      },
      "source": [
        "countries = pd.read_csv('list_countries.csv',usecols=['id','name'],\n",
        "                        na_values='',na_filter=True)\n",
        "countries.rename(columns=lambda x: x.replace('name','country'), inplace=True)\n",
        "countries.rename(columns=lambda x: x.replace('id','origin_id'), inplace=True)\n",
        "trade_dframe = xtrade_years.merge(countries, on=['origin_id'],how='left')\n",
        "trade_dframe.head()"
      ],
      "execution_count": 71,
      "outputs": [
        {
          "output_type": "execute_result",
          "data": {
            "text/html": [
              "<div>\n",
              "<style scoped>\n",
              "    .dataframe tbody tr th:only-of-type {\n",
              "        vertical-align: middle;\n",
              "    }\n",
              "\n",
              "    .dataframe tbody tr th {\n",
              "        vertical-align: top;\n",
              "    }\n",
              "\n",
              "    .dataframe thead th {\n",
              "        text-align: right;\n",
              "    }\n",
              "</style>\n",
              "<table border=\"1\" class=\"dataframe\">\n",
              "  <thead>\n",
              "    <tr style=\"text-align: right;\">\n",
              "      <th></th>\n",
              "      <th>export_val</th>\n",
              "      <th>origin_id</th>\n",
              "      <th>sitc_id</th>\n",
              "      <th>year</th>\n",
              "      <th>country</th>\n",
              "    </tr>\n",
              "  </thead>\n",
              "  <tbody>\n",
              "    <tr>\n",
              "      <th>0</th>\n",
              "      <td>18000.0</td>\n",
              "      <td>afdza</td>\n",
              "      <td>107188</td>\n",
              "      <td>1962-01-01</td>\n",
              "      <td>Algeria</td>\n",
              "    </tr>\n",
              "    <tr>\n",
              "      <th>1</th>\n",
              "      <td>65000.0</td>\n",
              "      <td>afmar</td>\n",
              "      <td>107188</td>\n",
              "      <td>1962-01-01</td>\n",
              "      <td>Morocco</td>\n",
              "    </tr>\n",
              "    <tr>\n",
              "      <th>2</th>\n",
              "      <td>1000.0</td>\n",
              "      <td>afuga</td>\n",
              "      <td>107188</td>\n",
              "      <td>1962-01-01</td>\n",
              "      <td>Uganda</td>\n",
              "    </tr>\n",
              "    <tr>\n",
              "      <th>3</th>\n",
              "      <td>5000.0</td>\n",
              "      <td>afzaf</td>\n",
              "      <td>107188</td>\n",
              "      <td>1962-01-01</td>\n",
              "      <td>South Africa</td>\n",
              "    </tr>\n",
              "    <tr>\n",
              "      <th>4</th>\n",
              "      <td>2000.0</td>\n",
              "      <td>ashkg</td>\n",
              "      <td>107188</td>\n",
              "      <td>1962-01-01</td>\n",
              "      <td>Hong Kong</td>\n",
              "    </tr>\n",
              "  </tbody>\n",
              "</table>\n",
              "</div>"
            ],
            "text/plain": [
              "   export_val origin_id  sitc_id       year       country\n",
              "0     18000.0     afdza   107188 1962-01-01       Algeria\n",
              "1     65000.0     afmar   107188 1962-01-01       Morocco\n",
              "2      1000.0     afuga   107188 1962-01-01        Uganda\n",
              "3      5000.0     afzaf   107188 1962-01-01  South Africa\n",
              "4      2000.0     ashkg   107188 1962-01-01     Hong Kong"
            ]
          },
          "metadata": {
            "tags": []
          },
          "execution_count": 71
        }
      ]
    },
    {
      "cell_type": "code",
      "metadata": {
        "id": "aXPMTv1pfK1H",
        "colab_type": "code",
        "colab": {}
      },
      "source": [
        "products = pd.read_csv('list_products.csv',usecols=['id','name'],)\n",
        "# pd.to_numeric(products['id'],errors='coerce')\n",
        "products.apply(lambda col:pd.to_numeric('id', errors='coerce'))\n",
        "# products['name'].astype()\n",
        "products.rename(columns={\"id\":\"sitc_id\",\"name\":\"product\"},inplace=True)\n",
        "trade_dframe = trade_dframe.merge(products, on=['sitc_id'],how='left')\n",
        "products.info()"
      ],
      "execution_count": 0,
      "outputs": []
    },
    {
      "cell_type": "code",
      "metadata": {
        "id": "7mbBhhiPIPo2",
        "colab_type": "code",
        "outputId": "927703c4-e83c-4db6-c54c-a28ba6d8f403",
        "colab": {
          "base_uri": "https://localhost:8080/",
          "height": 235
        }
      },
      "source": [
        "# filenames = sorted(glob.glob('sitc-*.csv'))\n",
        "# trade_dframe['export_val'].replace('',0, inplace=True)\n",
        "billion = 1000000000\n",
        "trade_dframe['export_val'] = trade_dframe['export_val']/billion\n",
        "df = trade_dframe[trade_dframe['export_val'].notna()]\n",
        "# df=df.set_index(['sitc_id',\"country\",\"year\"])\n",
        "# df.drop(['origin_id'])\n",
        "# dfa = df.squeeze()\n",
        "df.isnull().sum()\n",
        "df.head()"
      ],
      "execution_count": 47,
      "outputs": [
        {
          "output_type": "execute_result",
          "data": {
            "text/html": [
              "<div>\n",
              "<style scoped>\n",
              "    .dataframe tbody tr th:only-of-type {\n",
              "        vertical-align: middle;\n",
              "    }\n",
              "\n",
              "    .dataframe tbody tr th {\n",
              "        vertical-align: top;\n",
              "    }\n",
              "\n",
              "    .dataframe thead th {\n",
              "        text-align: right;\n",
              "    }\n",
              "</style>\n",
              "<table border=\"1\" class=\"dataframe\">\n",
              "  <thead>\n",
              "    <tr style=\"text-align: right;\">\n",
              "      <th></th>\n",
              "      <th></th>\n",
              "      <th></th>\n",
              "      <th>export_val</th>\n",
              "      <th>origin_id</th>\n",
              "    </tr>\n",
              "    <tr>\n",
              "      <th>sitc_id</th>\n",
              "      <th>country</th>\n",
              "      <th>year</th>\n",
              "      <th></th>\n",
              "      <th></th>\n",
              "    </tr>\n",
              "  </thead>\n",
              "  <tbody>\n",
              "    <tr>\n",
              "      <th rowspan=\"5\" valign=\"top\">107188</th>\n",
              "      <th>Algeria</th>\n",
              "      <th>1962-01-01</th>\n",
              "      <td>1.800000e-113</td>\n",
              "      <td>afdza</td>\n",
              "    </tr>\n",
              "    <tr>\n",
              "      <th>Morocco</th>\n",
              "      <th>1962-01-01</th>\n",
              "      <td>6.500000e-113</td>\n",
              "      <td>afmar</td>\n",
              "    </tr>\n",
              "    <tr>\n",
              "      <th>Uganda</th>\n",
              "      <th>1962-01-01</th>\n",
              "      <td>1.000000e-114</td>\n",
              "      <td>afuga</td>\n",
              "    </tr>\n",
              "    <tr>\n",
              "      <th>South Africa</th>\n",
              "      <th>1962-01-01</th>\n",
              "      <td>5.000000e-114</td>\n",
              "      <td>afzaf</td>\n",
              "    </tr>\n",
              "    <tr>\n",
              "      <th>Hong Kong</th>\n",
              "      <th>1962-01-01</th>\n",
              "      <td>2.000000e-114</td>\n",
              "      <td>ashkg</td>\n",
              "    </tr>\n",
              "  </tbody>\n",
              "</table>\n",
              "</div>"
            ],
            "text/plain": [
              "                                    export_val origin_id\n",
              "sitc_id country      year                               \n",
              "107188  Algeria      1962-01-01  1.800000e-113     afdza\n",
              "        Morocco      1962-01-01  6.500000e-113     afmar\n",
              "        Uganda       1962-01-01  1.000000e-114     afuga\n",
              "        South Africa 1962-01-01  5.000000e-114     afzaf\n",
              "        Hong Kong    1962-01-01  2.000000e-114     ashkg"
            ]
          },
          "metadata": {
            "tags": []
          },
          "execution_count": 47
        }
      ]
    },
    {
      "cell_type": "code",
      "metadata": {
        "id": "avp4S0bFPTmS",
        "colab_type": "code",
        "colab": {
          "base_uri": "https://localhost:8080/",
          "height": 283
        },
        "outputId": "1fd5826a-a49f-4c6f-acc8-fcf09d58af87"
      },
      "source": [
        "#tsdata = time_series_data(dataframes=dfa, target_col='export_rca')\n",
        "stack_data = transform_vector(time_series_array=dfa)"
      ],
      "execution_count": 46,
      "outputs": [
        {
          "output_type": "error",
          "ename": "TypeError",
          "evalue": "ignored",
          "traceback": [
            "\u001b[0;31m---------------------------------------------------------------------------\u001b[0m",
            "\u001b[0;31mTypeError\u001b[0m                                 Traceback (most recent call last)",
            "\u001b[0;32m<ipython-input-46-c29ec6fd859d>\u001b[0m in \u001b[0;36m<module>\u001b[0;34m()\u001b[0m\n\u001b[0;32m----> 1\u001b[0;31m \u001b[0mstack_data\u001b[0m \u001b[0;34m=\u001b[0m \u001b[0mtransform_vector\u001b[0m\u001b[0;34m(\u001b[0m\u001b[0mtime_series_array\u001b[0m\u001b[0;34m=\u001b[0m\u001b[0mdfa\u001b[0m\u001b[0;34m)\u001b[0m\u001b[0;34m\u001b[0m\u001b[0;34m\u001b[0m\u001b[0m\n\u001b[0m",
            "\u001b[0;32m<ipython-input-4-14f4b2b2cbdd>\u001b[0m in \u001b[0;36mtransform_vector\u001b[0;34m(time_series_array)\u001b[0m\n\u001b[1;32m     25\u001b[0m     \u001b[0;32mfor\u001b[0m \u001b[0mj\u001b[0m \u001b[0;32min\u001b[0m \u001b[0mrange\u001b[0m\u001b[0;34m(\u001b[0m\u001b[0mlen\u001b[0m\u001b[0;34m(\u001b[0m\u001b[0mtime_series_array\u001b[0m\u001b[0;34m)\u001b[0m\u001b[0;34m)\u001b[0m\u001b[0;34m:\u001b[0m\u001b[0;34m\u001b[0m\u001b[0;34m\u001b[0m\u001b[0m\n\u001b[1;32m     26\u001b[0m         \u001b[0mdata\u001b[0m \u001b[0;34m=\u001b[0m \u001b[0mnp\u001b[0m\u001b[0;34m.\u001b[0m\u001b[0marray\u001b[0m\u001b[0;34m(\u001b[0m\u001b[0mtime_series_array\u001b[0m\u001b[0;34m[\u001b[0m\u001b[0mj\u001b[0m\u001b[0;34m]\u001b[0m\u001b[0;34m)\u001b[0m\u001b[0;34m\u001b[0m\u001b[0;34m\u001b[0m\u001b[0m\n\u001b[0;32m---> 27\u001b[0;31m         \u001b[0mdata\u001b[0m \u001b[0;34m=\u001b[0m \u001b[0mdata\u001b[0m\u001b[0;34m.\u001b[0m\u001b[0mreshape\u001b[0m\u001b[0;34m(\u001b[0m\u001b[0;34m(\u001b[0m\u001b[0;36m1\u001b[0m\u001b[0;34m,\u001b[0m \u001b[0mlen\u001b[0m\u001b[0;34m(\u001b[0m\u001b[0mdata\u001b[0m\u001b[0;34m)\u001b[0m\u001b[0;34m)\u001b[0m\u001b[0;34m)\u001b[0m\u001b[0;34m.\u001b[0m\u001b[0mT\u001b[0m\u001b[0;34m\u001b[0m\u001b[0;34m\u001b[0m\u001b[0m\n\u001b[0m\u001b[1;32m     28\u001b[0m         \u001b[0mstack_list\u001b[0m\u001b[0;34m.\u001b[0m\u001b[0mappend\u001b[0m\u001b[0;34m(\u001b[0m\u001b[0mdata\u001b[0m\u001b[0;34m)\u001b[0m\u001b[0;34m\u001b[0m\u001b[0;34m\u001b[0m\u001b[0m\n\u001b[1;32m     29\u001b[0m     \u001b[0mstack_data\u001b[0m \u001b[0;34m=\u001b[0m \u001b[0mnp\u001b[0m\u001b[0;34m.\u001b[0m\u001b[0mstack\u001b[0m\u001b[0;34m(\u001b[0m\u001b[0mstack_list\u001b[0m\u001b[0;34m,\u001b[0m \u001b[0maxis\u001b[0m\u001b[0;34m=\u001b[0m\u001b[0;36m0\u001b[0m\u001b[0;34m)\u001b[0m\u001b[0;34m\u001b[0m\u001b[0;34m\u001b[0m\u001b[0m\n",
            "\u001b[0;31mTypeError\u001b[0m: len() of unsized object"
          ]
        }
      ]
    },
    {
      "cell_type": "code",
      "metadata": {
        "id": "GgLnzK0FDK_7",
        "colab_type": "code",
        "colab": {
          "base_uri": "https://localhost:8080/",
          "height": 71
        },
        "outputId": "4c2502b9-6dda-4861-9702-050c3a07acd6"
      },
      "source": [
        "from sklearn.datasets.samples_generator import make_blobs\n",
        "from sklearn.cluster import KMeans\n",
        "\n",
        "X, _ = make_blobs(centers=)"
      ],
      "execution_count": 7,
      "outputs": [
        {
          "output_type": "stream",
          "text": [
            "/usr/local/lib/python3.6/dist-packages/sklearn/utils/deprecation.py:144: FutureWarning: The sklearn.datasets.samples_generator module is  deprecated in version 0.22 and will be removed in version 0.24. The corresponding classes / functions should instead be imported from sklearn.datasets. Anything that cannot be imported from sklearn.datasets is now part of the private API.\n",
            "  warnings.warn(message, FutureWarning)\n"
          ],
          "name": "stderr"
        }
      ]
    },
    {
      "cell_type": "code",
      "metadata": {
        "id": "Asl45ia2IPyA",
        "colab_type": "code",
        "outputId": "61057d08-387b-4684-e115-eac41abf598b",
        "colab": {
          "base_uri": "https://localhost:8080/",
          "height": 698
        }
      },
      "source": [
        "# tsdata = time_series_data(dataframes=df, target_col='export_rca')\n",
        "stack_data = transform_vector(time_series_array=df)"
      ],
      "execution_count": 0,
      "outputs": [
        {
          "output_type": "error",
          "ename": "KeyError",
          "evalue": "ignored",
          "traceback": [
            "\u001b[0;31m---------------------------------------------------------------------------\u001b[0m",
            "\u001b[0;31mKeyError\u001b[0m                                  Traceback (most recent call last)",
            "\u001b[0;32m/usr/local/lib/python3.6/dist-packages/pandas/core/indexes/base.py\u001b[0m in \u001b[0;36mget_loc\u001b[0;34m(self, key, method, tolerance)\u001b[0m\n\u001b[1;32m   2645\u001b[0m             \u001b[0;32mtry\u001b[0m\u001b[0;34m:\u001b[0m\u001b[0;34m\u001b[0m\u001b[0;34m\u001b[0m\u001b[0m\n\u001b[0;32m-> 2646\u001b[0;31m                 \u001b[0;32mreturn\u001b[0m \u001b[0mself\u001b[0m\u001b[0;34m.\u001b[0m\u001b[0m_engine\u001b[0m\u001b[0;34m.\u001b[0m\u001b[0mget_loc\u001b[0m\u001b[0;34m(\u001b[0m\u001b[0mkey\u001b[0m\u001b[0;34m)\u001b[0m\u001b[0;34m\u001b[0m\u001b[0;34m\u001b[0m\u001b[0m\n\u001b[0m\u001b[1;32m   2647\u001b[0m             \u001b[0;32mexcept\u001b[0m \u001b[0mKeyError\u001b[0m\u001b[0;34m:\u001b[0m\u001b[0;34m\u001b[0m\u001b[0;34m\u001b[0m\u001b[0m\n",
            "\u001b[0;32mpandas/_libs/index.pyx\u001b[0m in \u001b[0;36mpandas._libs.index.IndexEngine.get_loc\u001b[0;34m()\u001b[0m\n",
            "\u001b[0;32mpandas/_libs/index.pyx\u001b[0m in \u001b[0;36mpandas._libs.index.IndexEngine.get_loc\u001b[0;34m()\u001b[0m\n",
            "\u001b[0;32mpandas/_libs/hashtable_class_helper.pxi\u001b[0m in \u001b[0;36mpandas._libs.hashtable.PyObjectHashTable.get_item\u001b[0;34m()\u001b[0m\n",
            "\u001b[0;32mpandas/_libs/hashtable_class_helper.pxi\u001b[0m in \u001b[0;36mpandas._libs.hashtable.PyObjectHashTable.get_item\u001b[0;34m()\u001b[0m\n",
            "\u001b[0;31mKeyError\u001b[0m: 0",
            "\nDuring handling of the above exception, another exception occurred:\n",
            "\u001b[0;31mKeyError\u001b[0m                                  Traceback (most recent call last)",
            "\u001b[0;32m<ipython-input-26-0866affb3833>\u001b[0m in \u001b[0;36m<module>\u001b[0;34m()\u001b[0m\n\u001b[0;32m----> 1\u001b[0;31m \u001b[0mstack_data\u001b[0m \u001b[0;34m=\u001b[0m \u001b[0mtransform_vector\u001b[0m\u001b[0;34m(\u001b[0m\u001b[0mtime_series_array\u001b[0m\u001b[0;34m=\u001b[0m\u001b[0mdf\u001b[0m\u001b[0;34m)\u001b[0m\u001b[0;34m\u001b[0m\u001b[0;34m\u001b[0m\u001b[0m\n\u001b[0m",
            "\u001b[0;32m<ipython-input-4-14f4b2b2cbdd>\u001b[0m in \u001b[0;36mtransform_vector\u001b[0;34m(time_series_array)\u001b[0m\n\u001b[1;32m     24\u001b[0m     \u001b[0mstack_list\u001b[0m \u001b[0;34m=\u001b[0m \u001b[0;34m[\u001b[0m\u001b[0;34m]\u001b[0m\u001b[0;34m\u001b[0m\u001b[0;34m\u001b[0m\u001b[0m\n\u001b[1;32m     25\u001b[0m     \u001b[0;32mfor\u001b[0m \u001b[0mj\u001b[0m \u001b[0;32min\u001b[0m \u001b[0mrange\u001b[0m\u001b[0;34m(\u001b[0m\u001b[0mlen\u001b[0m\u001b[0;34m(\u001b[0m\u001b[0mtime_series_array\u001b[0m\u001b[0;34m)\u001b[0m\u001b[0;34m)\u001b[0m\u001b[0;34m:\u001b[0m\u001b[0;34m\u001b[0m\u001b[0;34m\u001b[0m\u001b[0m\n\u001b[0;32m---> 26\u001b[0;31m         \u001b[0mdata\u001b[0m \u001b[0;34m=\u001b[0m \u001b[0mnp\u001b[0m\u001b[0;34m.\u001b[0m\u001b[0marray\u001b[0m\u001b[0;34m(\u001b[0m\u001b[0mtime_series_array\u001b[0m\u001b[0;34m[\u001b[0m\u001b[0mj\u001b[0m\u001b[0;34m]\u001b[0m\u001b[0;34m)\u001b[0m\u001b[0;34m\u001b[0m\u001b[0;34m\u001b[0m\u001b[0m\n\u001b[0m\u001b[1;32m     27\u001b[0m         \u001b[0mdata\u001b[0m \u001b[0;34m=\u001b[0m \u001b[0mdata\u001b[0m\u001b[0;34m.\u001b[0m\u001b[0mreshape\u001b[0m\u001b[0;34m(\u001b[0m\u001b[0;34m(\u001b[0m\u001b[0;36m1\u001b[0m\u001b[0;34m,\u001b[0m \u001b[0mlen\u001b[0m\u001b[0;34m(\u001b[0m\u001b[0mdata\u001b[0m\u001b[0;34m)\u001b[0m\u001b[0;34m)\u001b[0m\u001b[0;34m)\u001b[0m\u001b[0;34m.\u001b[0m\u001b[0mT\u001b[0m\u001b[0;34m\u001b[0m\u001b[0;34m\u001b[0m\u001b[0m\n\u001b[1;32m     28\u001b[0m         \u001b[0mstack_list\u001b[0m\u001b[0;34m.\u001b[0m\u001b[0mappend\u001b[0m\u001b[0;34m(\u001b[0m\u001b[0mdata\u001b[0m\u001b[0;34m)\u001b[0m\u001b[0;34m\u001b[0m\u001b[0;34m\u001b[0m\u001b[0m\n",
            "\u001b[0;32m/usr/local/lib/python3.6/dist-packages/pandas/core/frame.py\u001b[0m in \u001b[0;36m__getitem__\u001b[0;34m(self, key)\u001b[0m\n\u001b[1;32m   2798\u001b[0m             \u001b[0;32mif\u001b[0m \u001b[0mself\u001b[0m\u001b[0;34m.\u001b[0m\u001b[0mcolumns\u001b[0m\u001b[0;34m.\u001b[0m\u001b[0mnlevels\u001b[0m \u001b[0;34m>\u001b[0m \u001b[0;36m1\u001b[0m\u001b[0;34m:\u001b[0m\u001b[0;34m\u001b[0m\u001b[0;34m\u001b[0m\u001b[0m\n\u001b[1;32m   2799\u001b[0m                 \u001b[0;32mreturn\u001b[0m \u001b[0mself\u001b[0m\u001b[0;34m.\u001b[0m\u001b[0m_getitem_multilevel\u001b[0m\u001b[0;34m(\u001b[0m\u001b[0mkey\u001b[0m\u001b[0;34m)\u001b[0m\u001b[0;34m\u001b[0m\u001b[0;34m\u001b[0m\u001b[0m\n\u001b[0;32m-> 2800\u001b[0;31m             \u001b[0mindexer\u001b[0m \u001b[0;34m=\u001b[0m \u001b[0mself\u001b[0m\u001b[0;34m.\u001b[0m\u001b[0mcolumns\u001b[0m\u001b[0;34m.\u001b[0m\u001b[0mget_loc\u001b[0m\u001b[0;34m(\u001b[0m\u001b[0mkey\u001b[0m\u001b[0;34m)\u001b[0m\u001b[0;34m\u001b[0m\u001b[0;34m\u001b[0m\u001b[0m\n\u001b[0m\u001b[1;32m   2801\u001b[0m             \u001b[0;32mif\u001b[0m \u001b[0mis_integer\u001b[0m\u001b[0;34m(\u001b[0m\u001b[0mindexer\u001b[0m\u001b[0;34m)\u001b[0m\u001b[0;34m:\u001b[0m\u001b[0;34m\u001b[0m\u001b[0;34m\u001b[0m\u001b[0m\n\u001b[1;32m   2802\u001b[0m                 \u001b[0mindexer\u001b[0m \u001b[0;34m=\u001b[0m \u001b[0;34m[\u001b[0m\u001b[0mindexer\u001b[0m\u001b[0;34m]\u001b[0m\u001b[0;34m\u001b[0m\u001b[0;34m\u001b[0m\u001b[0m\n",
            "\u001b[0;32m/usr/local/lib/python3.6/dist-packages/pandas/core/indexes/base.py\u001b[0m in \u001b[0;36mget_loc\u001b[0;34m(self, key, method, tolerance)\u001b[0m\n\u001b[1;32m   2646\u001b[0m                 \u001b[0;32mreturn\u001b[0m \u001b[0mself\u001b[0m\u001b[0;34m.\u001b[0m\u001b[0m_engine\u001b[0m\u001b[0;34m.\u001b[0m\u001b[0mget_loc\u001b[0m\u001b[0;34m(\u001b[0m\u001b[0mkey\u001b[0m\u001b[0;34m)\u001b[0m\u001b[0;34m\u001b[0m\u001b[0;34m\u001b[0m\u001b[0m\n\u001b[1;32m   2647\u001b[0m             \u001b[0;32mexcept\u001b[0m \u001b[0mKeyError\u001b[0m\u001b[0;34m:\u001b[0m\u001b[0;34m\u001b[0m\u001b[0;34m\u001b[0m\u001b[0m\n\u001b[0;32m-> 2648\u001b[0;31m                 \u001b[0;32mreturn\u001b[0m \u001b[0mself\u001b[0m\u001b[0;34m.\u001b[0m\u001b[0m_engine\u001b[0m\u001b[0;34m.\u001b[0m\u001b[0mget_loc\u001b[0m\u001b[0;34m(\u001b[0m\u001b[0mself\u001b[0m\u001b[0;34m.\u001b[0m\u001b[0m_maybe_cast_indexer\u001b[0m\u001b[0;34m(\u001b[0m\u001b[0mkey\u001b[0m\u001b[0;34m)\u001b[0m\u001b[0;34m)\u001b[0m\u001b[0;34m\u001b[0m\u001b[0;34m\u001b[0m\u001b[0m\n\u001b[0m\u001b[1;32m   2649\u001b[0m         \u001b[0mindexer\u001b[0m \u001b[0;34m=\u001b[0m \u001b[0mself\u001b[0m\u001b[0;34m.\u001b[0m\u001b[0mget_indexer\u001b[0m\u001b[0;34m(\u001b[0m\u001b[0;34m[\u001b[0m\u001b[0mkey\u001b[0m\u001b[0;34m]\u001b[0m\u001b[0;34m,\u001b[0m \u001b[0mmethod\u001b[0m\u001b[0;34m=\u001b[0m\u001b[0mmethod\u001b[0m\u001b[0;34m,\u001b[0m \u001b[0mtolerance\u001b[0m\u001b[0;34m=\u001b[0m\u001b[0mtolerance\u001b[0m\u001b[0;34m)\u001b[0m\u001b[0;34m\u001b[0m\u001b[0;34m\u001b[0m\u001b[0m\n\u001b[1;32m   2650\u001b[0m         \u001b[0;32mif\u001b[0m \u001b[0mindexer\u001b[0m\u001b[0;34m.\u001b[0m\u001b[0mndim\u001b[0m \u001b[0;34m>\u001b[0m \u001b[0;36m1\u001b[0m \u001b[0;32mor\u001b[0m \u001b[0mindexer\u001b[0m\u001b[0;34m.\u001b[0m\u001b[0msize\u001b[0m \u001b[0;34m>\u001b[0m \u001b[0;36m1\u001b[0m\u001b[0;34m:\u001b[0m\u001b[0;34m\u001b[0m\u001b[0;34m\u001b[0m\u001b[0m\n",
            "\u001b[0;32mpandas/_libs/index.pyx\u001b[0m in \u001b[0;36mpandas._libs.index.IndexEngine.get_loc\u001b[0;34m()\u001b[0m\n",
            "\u001b[0;32mpandas/_libs/index.pyx\u001b[0m in \u001b[0;36mpandas._libs.index.IndexEngine.get_loc\u001b[0;34m()\u001b[0m\n",
            "\u001b[0;32mpandas/_libs/hashtable_class_helper.pxi\u001b[0m in \u001b[0;36mpandas._libs.hashtable.PyObjectHashTable.get_item\u001b[0;34m()\u001b[0m\n",
            "\u001b[0;32mpandas/_libs/hashtable_class_helper.pxi\u001b[0m in \u001b[0;36mpandas._libs.hashtable.PyObjectHashTable.get_item\u001b[0;34m()\u001b[0m\n",
            "\u001b[0;31mKeyError\u001b[0m: 0"
          ]
        }
      ]
    },
    {
      "cell_type": "code",
      "metadata": {
        "id": "5Puua2e6IP_Z",
        "colab_type": "code",
        "outputId": "f6806675-578e-4ef7-8cac-55d4367aa644",
        "colab": {
          "base_uri": "https://localhost:8080/",
          "height": 395
        }
      },
      "source": [
        "seed = 0\n",
        "np.random.seed(seed)\n",
        "#相互相関を計算するために、正規化する必要があります。\n",
        "#TimeSeriesScalerMeanVarianceがデータを正規化してくれるクラスになります。\n",
        "stack_data = TimeSeriesScalerMeanVariance(mu=0.0, std=1.0).fit_transform(stack_data)\n",
        "\n",
        "#KShapeクラスのインスタンス化\n",
        "ks = KShape(n_clusters=2, n_init=10, verbose=True, random_state=seed)\n",
        "y_pred = ks.fit_predict(stack_data)\n",
        "\n",
        "#クラスタリングして可視化\n",
        "plt.figure(figsize=(16,9))\n",
        "for yi in range(2):\n",
        "    plt.subplot(2, 1, 1 + yi)\n",
        "    for xx in stack_data[y_pred == yi]:\n",
        "        plt.plot(xx.ravel(), \"k-\", alpha=.2)\n",
        "    #plt.plot(ks.cluster_centers_[yi].ravel(), \"r-\")\n",
        "    plt.title(\"Cluster %d\" % (yi + 1))\n",
        "\n",
        "plt.tight_layout()\n",
        "plt.show()"
      ],
      "execution_count": 0,
      "outputs": [
        {
          "output_type": "error",
          "ename": "ValueError",
          "evalue": "ignored",
          "traceback": [
            "\u001b[0;31m---------------------------------------------------------------------------\u001b[0m",
            "\u001b[0;31mValueError\u001b[0m                                Traceback (most recent call last)",
            "\u001b[0;32m<ipython-input-11-b9c16a70464c>\u001b[0m in \u001b[0;36m<module>\u001b[0;34m()\u001b[0m\n\u001b[1;32m      7\u001b[0m \u001b[0;31m#KShapeクラスのインスタンス化\u001b[0m\u001b[0;34m\u001b[0m\u001b[0;34m\u001b[0m\u001b[0;34m\u001b[0m\u001b[0m\n\u001b[1;32m      8\u001b[0m \u001b[0mks\u001b[0m \u001b[0;34m=\u001b[0m \u001b[0mKShape\u001b[0m\u001b[0;34m(\u001b[0m\u001b[0mn_clusters\u001b[0m\u001b[0;34m=\u001b[0m\u001b[0;36m2\u001b[0m\u001b[0;34m,\u001b[0m \u001b[0mn_init\u001b[0m\u001b[0;34m=\u001b[0m\u001b[0;36m10\u001b[0m\u001b[0;34m,\u001b[0m \u001b[0mverbose\u001b[0m\u001b[0;34m=\u001b[0m\u001b[0;32mTrue\u001b[0m\u001b[0;34m,\u001b[0m \u001b[0mrandom_state\u001b[0m\u001b[0;34m=\u001b[0m\u001b[0mseed\u001b[0m\u001b[0;34m)\u001b[0m\u001b[0;34m\u001b[0m\u001b[0;34m\u001b[0m\u001b[0m\n\u001b[0;32m----> 9\u001b[0;31m \u001b[0my_pred\u001b[0m \u001b[0;34m=\u001b[0m \u001b[0mks\u001b[0m\u001b[0;34m.\u001b[0m\u001b[0mfit_predict\u001b[0m\u001b[0;34m(\u001b[0m\u001b[0mstack_data\u001b[0m\u001b[0;34m)\u001b[0m\u001b[0;34m\u001b[0m\u001b[0;34m\u001b[0m\u001b[0m\n\u001b[0m\u001b[1;32m     10\u001b[0m \u001b[0;34m\u001b[0m\u001b[0m\n\u001b[1;32m     11\u001b[0m \u001b[0;31m#クラスタリングして可視化\u001b[0m\u001b[0;34m\u001b[0m\u001b[0;34m\u001b[0m\u001b[0;34m\u001b[0m\u001b[0m\n",
            "\u001b[0;32m/usr/local/lib/python3.6/dist-packages/tslearn/clustering.py\u001b[0m in \u001b[0;36mfit_predict\u001b[0;34m(self, X, y)\u001b[0m\n\u001b[1;32m   1139\u001b[0m             \u001b[0mIndex\u001b[0m \u001b[0mof\u001b[0m \u001b[0mthe\u001b[0m \u001b[0mcluster\u001b[0m \u001b[0meach\u001b[0m \u001b[0msample\u001b[0m \u001b[0mbelongs\u001b[0m \u001b[0mto\u001b[0m\u001b[0;34m.\u001b[0m\u001b[0;34m\u001b[0m\u001b[0;34m\u001b[0m\u001b[0m\n\u001b[1;32m   1140\u001b[0m         \"\"\"\n\u001b[0;32m-> 1141\u001b[0;31m         \u001b[0;32mreturn\u001b[0m \u001b[0mself\u001b[0m\u001b[0;34m.\u001b[0m\u001b[0mfit\u001b[0m\u001b[0;34m(\u001b[0m\u001b[0mX\u001b[0m\u001b[0;34m,\u001b[0m \u001b[0my\u001b[0m\u001b[0;34m)\u001b[0m\u001b[0;34m.\u001b[0m\u001b[0mlabels_\u001b[0m\u001b[0;34m\u001b[0m\u001b[0;34m\u001b[0m\u001b[0m\n\u001b[0m\u001b[1;32m   1142\u001b[0m \u001b[0;34m\u001b[0m\u001b[0m\n\u001b[1;32m   1143\u001b[0m     \u001b[0;32mdef\u001b[0m \u001b[0mpredict\u001b[0m\u001b[0;34m(\u001b[0m\u001b[0mself\u001b[0m\u001b[0;34m,\u001b[0m \u001b[0mX\u001b[0m\u001b[0;34m)\u001b[0m\u001b[0;34m:\u001b[0m\u001b[0;34m\u001b[0m\u001b[0;34m\u001b[0m\u001b[0m\n",
            "\u001b[0;32m/usr/local/lib/python3.6/dist-packages/tslearn/clustering.py\u001b[0m in \u001b[0;36mfit\u001b[0;34m(self, X, y)\u001b[0m\n\u001b[1;32m   1075\u001b[0m             \u001b[0mIgnored\u001b[0m\u001b[0;34m\u001b[0m\u001b[0;34m\u001b[0m\u001b[0m\n\u001b[1;32m   1076\u001b[0m         \"\"\"\n\u001b[0;32m-> 1077\u001b[0;31m         \u001b[0mX\u001b[0m \u001b[0;34m=\u001b[0m \u001b[0mcheck_array\u001b[0m\u001b[0;34m(\u001b[0m\u001b[0mX\u001b[0m\u001b[0;34m,\u001b[0m \u001b[0mallow_nd\u001b[0m\u001b[0;34m=\u001b[0m\u001b[0;32mTrue\u001b[0m\u001b[0;34m)\u001b[0m\u001b[0;34m\u001b[0m\u001b[0;34m\u001b[0m\u001b[0m\n\u001b[0m\u001b[1;32m   1078\u001b[0m \u001b[0;34m\u001b[0m\u001b[0m\n\u001b[1;32m   1079\u001b[0m         \u001b[0mmax_attempts\u001b[0m \u001b[0;34m=\u001b[0m \u001b[0mmax\u001b[0m\u001b[0;34m(\u001b[0m\u001b[0mself\u001b[0m\u001b[0;34m.\u001b[0m\u001b[0mn_init\u001b[0m\u001b[0;34m,\u001b[0m \u001b[0;36m10\u001b[0m\u001b[0;34m)\u001b[0m\u001b[0;34m\u001b[0m\u001b[0;34m\u001b[0m\u001b[0m\n",
            "\u001b[0;32m/usr/local/lib/python3.6/dist-packages/sklearn/utils/validation.py\u001b[0m in \u001b[0;36mcheck_array\u001b[0;34m(array, accept_sparse, accept_large_sparse, dtype, order, copy, force_all_finite, ensure_2d, allow_nd, ensure_min_samples, ensure_min_features, warn_on_dtype, estimator)\u001b[0m\n\u001b[1;32m    576\u001b[0m         \u001b[0;32mif\u001b[0m \u001b[0mforce_all_finite\u001b[0m\u001b[0;34m:\u001b[0m\u001b[0;34m\u001b[0m\u001b[0;34m\u001b[0m\u001b[0m\n\u001b[1;32m    577\u001b[0m             _assert_all_finite(array,\n\u001b[0;32m--> 578\u001b[0;31m                                allow_nan=force_all_finite == 'allow-nan')\n\u001b[0m\u001b[1;32m    579\u001b[0m \u001b[0;34m\u001b[0m\u001b[0m\n\u001b[1;32m    580\u001b[0m     \u001b[0;32mif\u001b[0m \u001b[0mensure_min_samples\u001b[0m \u001b[0;34m>\u001b[0m \u001b[0;36m0\u001b[0m\u001b[0;34m:\u001b[0m\u001b[0;34m\u001b[0m\u001b[0;34m\u001b[0m\u001b[0m\n",
            "\u001b[0;32m/usr/local/lib/python3.6/dist-packages/sklearn/utils/validation.py\u001b[0m in \u001b[0;36m_assert_all_finite\u001b[0;34m(X, allow_nan, msg_dtype)\u001b[0m\n\u001b[1;32m     58\u001b[0m                     \u001b[0mmsg_err\u001b[0m\u001b[0;34m.\u001b[0m\u001b[0mformat\u001b[0m\u001b[0;34m\u001b[0m\u001b[0;34m\u001b[0m\u001b[0m\n\u001b[1;32m     59\u001b[0m                     (type_err,\n\u001b[0;32m---> 60\u001b[0;31m                      msg_dtype if msg_dtype is not None else X.dtype)\n\u001b[0m\u001b[1;32m     61\u001b[0m             )\n\u001b[1;32m     62\u001b[0m     \u001b[0;31m# for object dtype data, we only check for NaNs (GH-13254)\u001b[0m\u001b[0;34m\u001b[0m\u001b[0;34m\u001b[0m\u001b[0;34m\u001b[0m\u001b[0m\n",
            "\u001b[0;31mValueError\u001b[0m: Input contains NaN, infinity or a value too large for dtype('float64')."
          ]
        }
      ]
    },
    {
      "cell_type": "markdown",
      "metadata": {
        "id": "O_bLp3leHxeD",
        "colab_type": "text"
      },
      "source": [
        "Reference: https://github.com/masatakashiwagi/Analysis_tslearn"
      ]
    }
  ]
}