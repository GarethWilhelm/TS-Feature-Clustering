{
  "nbformat": 4,
  "nbformat_minor": 0,
  "metadata": {
    "colab": {
      "name": "clustering_tsfresh_features.ipynb",
      "provenance": [],
      "toc_visible": true,
      "include_colab_link": true
    },
    "kernelspec": {
      "display_name": "Python 3",
      "language": "python",
      "name": "python3"
    },
    "language_info": {
      "codemirror_mode": {
        "name": "ipython",
        "version": 2
      },
      "file_extension": ".py",
      "mimetype": "text/x-python",
      "name": "python",
      "nbconvert_exporter": "python",
      "pygments_lexer": "ipython2",
      "version": "2.7.17"
    }
  },
  "cells": [
    {
      "cell_type": "markdown",
      "metadata": {
        "id": "view-in-github",
        "colab_type": "text"
      },
      "source": [
        "<a href=\"https://colab.research.google.com/github/GarethWilhelm/TS-Feature-Clustering/blob/Feature-clustering-ZAF/Final_Clustering%20broken%20mapping.ipynb\" target=\"_parent\"><img src=\"https://colab.research.google.com/assets/colab-badge.svg\" alt=\"Open In Colab\"/></a>"
      ]
    },
    {
      "cell_type": "markdown",
      "metadata": {
        "id": "u0sQxK2xDIgj"
      },
      "source": [
        "# Configs"
      ]
    },
    {
      "cell_type": "markdown",
      "metadata": {
        "id": "C43rHRTQJZn6"
      },
      "source": [
        "## Required packages"
      ]
    },
    {
      "cell_type": "code",
      "metadata": {
        "id": "Qii_FQDlsLeI",
        "outputId": "55e9ec5b-e6dd-4e1c-9d96-d0af878936ce",
        "colab": {
          "base_uri": "https://localhost:8080/",
          "height": 67
        }
      },
      "source": [
        "import os\n",
        "from google.colab import drive\n",
        "drive.mount('/content/drive', force_remount=True)\n",
        "\n",
        "try:\n",
        "  !git clone https://github.com/wgova/automations\n",
        "except:\n",
        "  pass\n",
        "else:\n",
        "  os.chdir('automations')\n",
        "  !git fetch origin && git pull\n",
        "  os.chdir('../')"
      ],
      "execution_count": 39,
      "outputs": [
        {
          "output_type": "stream",
          "text": [
            "Mounted at /content/drive\n",
            "fatal: destination path 'automations' already exists and is not an empty directory.\n",
            "Already up to date.\n"
          ],
          "name": "stdout"
        }
      ]
    },
    {
      "cell_type": "code",
      "metadata": {
        "id": "O_eTRnGCLd8A"
      },
      "source": [
        "# !pip install -q oec\n",
        "# import oec\n",
        "!pip install -U -q yellowbrick\n",
        "import re\n",
        "import pandas as pd\n",
        "import numpy as np\n",
        "import json\n",
        "from random import sample\n",
        "import random\n",
        "import itertools\n",
        "import os, os.path, csv, requests, pathlib\n",
        "from datetime import datetime\n",
        "import math\n",
        "from datetime import datetime\n",
        "import matplotlib.pyplot as plt\n",
        "import matplotlib.style\n",
        "import matplotlib as mpl\n",
        "mpl.style.use('ggplot')\n",
        "%matplotlib inline\n",
        "import warnings\n",
        "warnings.filterwarnings(\"ignore\")\n",
        "\n",
        "from sklearn import preprocessing\n",
        "from sklearn.preprocessing import MinMaxScaler,\\\n",
        "StandardScaler\\\n",
        ",normalize\n",
        "from sklearn import decomposition\n",
        "from scipy.stats.mstats import winsorize\n",
        "from sklearn.cluster import KMeans\n",
        "from scipy.cluster.vq import kmeans,vq\n",
        "from sklearn.metrics.cluster import homogeneity_score\n",
        "from sklearn.metrics import silhouette_samples,\\\n",
        "silhouette_score\n",
        "from sklearn.decomposition import PCA\n",
        "from yellowbrick.cluster import KElbowVisualizer\n",
        "\n",
        "from automations.data_processors import *\n",
        "from automations.correlation_analysis import *\n",
        "from automations.feature_selection import *\n",
        "from automations.clustering_helpers import *"
      ],
      "execution_count": 40,
      "outputs": []
    },
    {
      "cell_type": "markdown",
      "metadata": {
        "id": "2SyR5m8_JZoN"
      },
      "source": [
        "## Load data"
      ]
    },
    {
      "cell_type": "markdown",
      "metadata": {
        "id": "UOzdKQhsMFfa"
      },
      "source": [
        "## Data processing"
      ]
    },
    {
      "cell_type": "markdown",
      "metadata": {
        "id": "Yg5NnIUADWjj"
      },
      "source": [
        "### Lists"
      ]
    },
    {
      "cell_type": "code",
      "metadata": {
        "id": "V7IltX1Q162c"
      },
      "source": [
        "# List of features\n",
        "redundant_features = ['fft_coefficient','cwt_coefficients','count','change_quantiles','last_location_',\n",
        "                      'index_mass_quantile','__attr_intercept','__attr_stderr',\n",
        "                      'sum_values','sum_values','has_duplicate','length','quantile',\n",
        "                      'ratio_beyond_r_sigma','ratio_value_number_to_time_series_length',\n",
        "                      'agg','large_standard_deviation','number_crossing_m','number_cwt_peaks',\n",
        "                      'reversal','value_count','spkt_welch_density','range_count','larger',\n",
        "                      'variation_coefficient','max_langevin_fixed_point','reoccurring',\n",
        "                      'symmetry_looking','variation','longest_strike_','energy_ratio_by_chunks',\n",
        "                      'variance_larger_than_standard_deviation','__lag_0','fourier_entropy',\n",
        "                      'friedrich_coefficients','bins_100','correlation', 'augmented','entropy','ar_coefficient']\n",
        "min_feats = ['kurtosis','variance','mean','skewness','standard_deviation','median','sum_values',\n",
        "             'maximum','length','minimum', 'lag', 'peaks', 'location', 'lempel', 'autolag', 'coefficients']\n",
        "stats = ['kurtosis','^median$','linear_trend', 'standard_deviation', 'skewness', 'period']\n",
        "stationarity = ['energy','komolgorov','sample']"
      ],
      "execution_count": 41,
      "outputs": []
    },
    {
      "cell_type": "markdown",
      "metadata": {
        "id": "jUGVt_TCjExI"
      },
      "source": [
        "### Data preparation"
      ]
    },
    {
      "cell_type": "code",
      "metadata": {
        "id": "SRg06Rzsnzul"
      },
      "source": [
        "experiment = \"stationary_entropy\"\n",
        "PATH = '/content/drive/My Drive/Stellenbosch/Gareth/sitc/year_origin_sitc_rev2.tsv'\n",
        "all_eff_features = pd.read_csv(f'{PATH}/zaf_features_extracted.csv')\\\n",
        " .rename(columns = {'Unnamed: 0': 'product_code'}, inplace = False)\n",
        "all_eff_features.set_index('product_code',inplace=True)\n"
      ],
      "execution_count": 67,
      "outputs": []
    },
    {
      "cell_type": "code",
      "metadata": {
        "id": "saU5sDLsomct",
        "outputId": "57347716-6735-4577-e811-7d23d5e54cfb",
        "colab": {
          "base_uri": "https://localhost:8080/",
          "height": 252
        }
      },
      "source": [
        "features_filtered = change_column_prefix(\n",
        "     remove_features_df(all_eff_features,filter_features(all_eff_features,redundant_features)))\n",
        "features_filtered.columns"
      ],
      "execution_count": 68,
      "outputs": [
        {
          "output_type": "execute_result",
          "data": {
            "text/plain": [
              "Index(['abs_energy', 'mean_abs_change', 'mean_change',\n",
              "       'mean_second_derivative_central', 'median', 'mean',\n",
              "       'standard_deviation', 'variance', 'skewness', 'kurtosis',\n",
              "       'absolute_sum_of_changes', 'first_location_of_maximum',\n",
              "       'first_location_of_minimum', 'maximum', 'minimum', 'c3__lag_1',\n",
              "       'c3__lag_2', 'c3__lag_3', 'cid_ce__normalize_True',\n",
              "       'cid_ce__normalize_False', 'number_peaks__n_1', 'number_peaks__n_3',\n",
              "       'number_peaks__n_5', 'number_peaks__n_10', 'number_peaks__n_50',\n",
              "       'linear_trend__attr_\"pvalue\"', 'linear_trend__attr_\"rvalue\"',\n",
              "       'linear_trend__attr_\"intercept\"', 'linear_trend__attr_\"slope\"',\n",
              "       'linear_trend__attr_\"stderr\"', 'lempel_ziv_complexity__bins_2',\n",
              "       'lempel_ziv_complexity__bins_3', 'lempel_ziv_complexity__bins_5',\n",
              "       'lempel_ziv_complexity__bins_10'],\n",
              "      dtype='object')"
            ]
          },
          "metadata": {
            "tags": []
          },
          "execution_count": 68
        }
      ]
    },
    {
      "cell_type": "markdown",
      "metadata": {
        "id": "KHONg8zFjXME"
      },
      "source": [
        "# Run the ETL"
      ]
    },
    {
      "cell_type": "code",
      "metadata": {
        "id": "Gcvqf-2jkfrY",
        "outputId": "c68fe571-dc50-4733-d2db-2fc2c3bc36c5",
        "colab": {
          "base_uri": "https://localhost:8080/",
          "height": 34
        }
      },
      "source": [
        "features_filtered = change_column_prefix(\n",
        "    remove_features_df(\n",
        "        all_eff_features,filter_features(all_eff_features,redundant_features)))\n",
        "# get exclude list for stationary features\n",
        "# call stationary feature list on filtered feature dataframe\n",
        "stationary_features_df = features_filtered[filter_features(features_filtered,stationarity)]\n",
        "stationary_features_df.columns"
      ],
      "execution_count": 69,
      "outputs": [
        {
          "output_type": "execute_result",
          "data": {
            "text/plain": [
              "Index(['abs_energy'], dtype='object')"
            ]
          },
          "metadata": {
            "tags": []
          },
          "execution_count": 69
        }
      ]
    },
    {
      "cell_type": "code",
      "metadata": {
        "id": "8YMeuvHF4Khz",
        "outputId": "dfbe5d42-46bb-4839-a31e-2f5a1ce94df9",
        "colab": {
          "base_uri": "https://localhost:8080/",
          "height": 34
        }
      },
      "source": [
        "# stationary_features_df = remove_outliers_iqr(stationary_features_df)\n",
        "simplify_column_name(stationary_features_df,'autocorrelation__','auto_corr_')\n",
        "simplify_column_name(stationary_features_df,'partial_autocorrelation__','pac_')\n",
        "simplify_column_name(stationary_features_df,'augmented_dickey_fuller__attr_','adf_')\n",
        "stationary_features_df.columns = (stationary_features_df.columns.str.strip().\\\n",
        "                                  str.replace('__tau_1','').\\\n",
        "                                  str.replace('coefficient__','').\\\n",
        "                                  str.replace('complexity__','').\\\n",
        "                                  str.replace('__k_10','').\\\n",
        "                                  str.replace('__max_bins_10','').\\\n",
        "                                  str.replace('__autolag','')\n",
        "                                  )\n",
        "simplify_column_name(stationary_features_df,'permutation_entropy__dimension','permutation_entropy')\n",
        "clean_header(stationary_features_df)\n",
        "# Drop correlated features (threshold: 0.5)\n",
        "stationary_features_df = remove_features_df(stationary_features_df,drop_correlated_pairs(stationary_features_df,0.5))\n",
        "stationary_features_df.columns"
      ],
      "execution_count": 70,
      "outputs": [
        {
          "output_type": "execute_result",
          "data": {
            "text/plain": [
              "Index([], dtype='object')"
            ]
          },
          "metadata": {
            "tags": []
          },
          "execution_count": 70
        }
      ]
    },
    {
      "cell_type": "code",
      "metadata": {
        "id": "hoqS-Uo9QSNb",
        "outputId": "21f60778-9bc7-4479-844e-da44e591016c",
        "colab": {
          "base_uri": "https://localhost:8080/",
          "height": 402
        }
      },
      "source": [
        "stationary_features_df = remove_outliers_iqr(stationary_features_df)\n",
        "stationary_features_df.reset_index() "
      ],
      "execution_count": 71,
      "outputs": [
        {
          "output_type": "execute_result",
          "data": {
            "text/html": [
              "<div>\n",
              "<style scoped>\n",
              "    .dataframe tbody tr th:only-of-type {\n",
              "        vertical-align: middle;\n",
              "    }\n",
              "\n",
              "    .dataframe tbody tr th {\n",
              "        vertical-align: top;\n",
              "    }\n",
              "\n",
              "    .dataframe thead th {\n",
              "        text-align: right;\n",
              "    }\n",
              "</style>\n",
              "<table border=\"1\" class=\"dataframe\">\n",
              "  <thead>\n",
              "    <tr style=\"text-align: right;\">\n",
              "      <th></th>\n",
              "      <th>product_code</th>\n",
              "    </tr>\n",
              "  </thead>\n",
              "  <tbody>\n",
              "    <tr>\n",
              "      <th>0</th>\n",
              "      <td>2814</td>\n",
              "    </tr>\n",
              "    <tr>\n",
              "      <th>1</th>\n",
              "      <td>2815</td>\n",
              "    </tr>\n",
              "    <tr>\n",
              "      <th>2</th>\n",
              "      <td>2816</td>\n",
              "    </tr>\n",
              "    <tr>\n",
              "      <th>3</th>\n",
              "      <td>2820</td>\n",
              "    </tr>\n",
              "    <tr>\n",
              "      <th>4</th>\n",
              "      <td>6642</td>\n",
              "    </tr>\n",
              "    <tr>\n",
              "      <th>...</th>\n",
              "      <td>...</td>\n",
              "    </tr>\n",
              "    <tr>\n",
              "      <th>204</th>\n",
              "      <td>8124</td>\n",
              "    </tr>\n",
              "    <tr>\n",
              "      <th>205</th>\n",
              "      <td>8941</td>\n",
              "    </tr>\n",
              "    <tr>\n",
              "      <th>206</th>\n",
              "      <td>8951</td>\n",
              "    </tr>\n",
              "    <tr>\n",
              "      <th>207</th>\n",
              "      <td>8999</td>\n",
              "    </tr>\n",
              "    <tr>\n",
              "      <th>208</th>\n",
              "      <td>9510</td>\n",
              "    </tr>\n",
              "  </tbody>\n",
              "</table>\n",
              "<p>209 rows × 1 columns</p>\n",
              "</div>"
            ],
            "text/plain": [
              "     product_code\n",
              "0            2814\n",
              "1            2815\n",
              "2            2816\n",
              "3            2820\n",
              "4            6642\n",
              "..            ...\n",
              "204          8124\n",
              "205          8941\n",
              "206          8951\n",
              "207          8999\n",
              "208          9510\n",
              "\n",
              "[209 rows x 1 columns]"
            ]
          },
          "metadata": {
            "tags": []
          },
          "execution_count": 71
        }
      ]
    },
    {
      "cell_type": "code",
      "metadata": {
        "id": "if1YxSzUPsSZ",
        "outputId": "c58e6068-28f1-44c6-d023-a73be4d7fc94",
        "colab": {
          "base_uri": "https://localhost:8080/",
          "height": 422
        }
      },
      "source": [
        "# Add statistical features to dataframe\n",
        "stats_features_df = features_filtered[filter_features(features_filtered,stats)]\n",
        "stats_features_df = remove_outliers_iqr(stats_features_df)\n",
        "stats_features_df = stats_features_df.rename(columns = lambda x: x.replace('__autolag_aic', ''))\n",
        "stats_features_df = stats_features_df.rename(columns = lambda x: x.replace('kurtosis', 'kurtosis'))\n",
        "stats_features_df = stats_features_df.rename(columns = lambda x: x.replace('median','median'))\n",
        "stats_features_df = stats_features_df.rename(columns = lambda x: x.replace('linear_trend__attr', 'trend'))\n",
        "stats_features_df.reset_index() "
      ],
      "execution_count": 72,
      "outputs": [
        {
          "output_type": "execute_result",
          "data": {
            "text/html": [
              "<div>\n",
              "<style scoped>\n",
              "    .dataframe tbody tr th:only-of-type {\n",
              "        vertical-align: middle;\n",
              "    }\n",
              "\n",
              "    .dataframe tbody tr th {\n",
              "        vertical-align: top;\n",
              "    }\n",
              "\n",
              "    .dataframe thead th {\n",
              "        text-align: right;\n",
              "    }\n",
              "</style>\n",
              "<table border=\"1\" class=\"dataframe\">\n",
              "  <thead>\n",
              "    <tr style=\"text-align: right;\">\n",
              "      <th></th>\n",
              "      <th>product_code</th>\n",
              "      <th>kurtosis</th>\n",
              "      <th>median</th>\n",
              "      <th>trend_\"pvalue\"</th>\n",
              "      <th>trend_\"rvalue\"</th>\n",
              "      <th>trend_\"intercept\"</th>\n",
              "      <th>trend_\"slope\"</th>\n",
              "      <th>trend_\"stderr\"</th>\n",
              "      <th>standard_deviation</th>\n",
              "      <th>skewness</th>\n",
              "    </tr>\n",
              "  </thead>\n",
              "  <tbody>\n",
              "    <tr>\n",
              "      <th>0</th>\n",
              "      <td>2814</td>\n",
              "      <td>39.677059</td>\n",
              "      <td>156970.0</td>\n",
              "      <td>2.636353e-01</td>\n",
              "      <td>-0.181021</td>\n",
              "      <td>1.721944e+07</td>\n",
              "      <td>-5.430296e+05</td>\n",
              "      <td>4.785943e+05</td>\n",
              "      <td>3.462803e+07</td>\n",
              "      <td>6.287807</td>\n",
              "    </tr>\n",
              "    <tr>\n",
              "      <th>1</th>\n",
              "      <td>2815</td>\n",
              "      <td>1.996806</td>\n",
              "      <td>465781161.5</td>\n",
              "      <td>1.375231e-06</td>\n",
              "      <td>0.722893</td>\n",
              "      <td>-2.999906e+08</td>\n",
              "      <td>8.786422e+07</td>\n",
              "      <td>1.484621e+07</td>\n",
              "      <td>1.192445e+09</td>\n",
              "      <td>1.548182</td>\n",
              "    </tr>\n",
              "    <tr>\n",
              "      <th>2</th>\n",
              "      <td>2816</td>\n",
              "      <td>3.375724</td>\n",
              "      <td>266453161.5</td>\n",
              "      <td>1.302327e-05</td>\n",
              "      <td>0.672865</td>\n",
              "      <td>-8.765018e+08</td>\n",
              "      <td>1.214364e+08</td>\n",
              "      <td>2.360149e+07</td>\n",
              "      <td>1.770603e+09</td>\n",
              "      <td>2.057155</td>\n",
              "    </tr>\n",
              "    <tr>\n",
              "      <th>3</th>\n",
              "      <td>2820</td>\n",
              "      <td>3.668905</td>\n",
              "      <td>7562416.0</td>\n",
              "      <td>2.696669e-09</td>\n",
              "      <td>0.695518</td>\n",
              "      <td>-1.098440e+08</td>\n",
              "      <td>7.736930e+06</td>\n",
              "      <td>1.087666e+06</td>\n",
              "      <td>1.797995e+08</td>\n",
              "      <td>2.129717</td>\n",
              "    </tr>\n",
              "    <tr>\n",
              "      <th>4</th>\n",
              "      <td>6642</td>\n",
              "      <td>4.058713</td>\n",
              "      <td>32135.5</td>\n",
              "      <td>4.514485e-04</td>\n",
              "      <td>0.517297</td>\n",
              "      <td>-1.208773e+04</td>\n",
              "      <td>4.289029e+03</td>\n",
              "      <td>1.121927e+03</td>\n",
              "      <td>1.004974e+05</td>\n",
              "      <td>2.067636</td>\n",
              "    </tr>\n",
              "    <tr>\n",
              "      <th>...</th>\n",
              "      <td>...</td>\n",
              "      <td>...</td>\n",
              "      <td>...</td>\n",
              "      <td>...</td>\n",
              "      <td>...</td>\n",
              "      <td>...</td>\n",
              "      <td>...</td>\n",
              "      <td>...</td>\n",
              "      <td>...</td>\n",
              "      <td>...</td>\n",
              "    </tr>\n",
              "    <tr>\n",
              "      <th>204</th>\n",
              "      <td>8124</td>\n",
              "      <td>2.188511</td>\n",
              "      <td>2220533.0</td>\n",
              "      <td>2.387422e-12</td>\n",
              "      <td>0.774973</td>\n",
              "      <td>-1.226456e+07</td>\n",
              "      <td>8.906512e+05</td>\n",
              "      <td>9.884099e+04</td>\n",
              "      <td>1.857587e+07</td>\n",
              "      <td>1.790283</td>\n",
              "    </tr>\n",
              "    <tr>\n",
              "      <th>205</th>\n",
              "      <td>8941</td>\n",
              "      <td>2.730361</td>\n",
              "      <td>87379.0</td>\n",
              "      <td>7.830128e-11</td>\n",
              "      <td>0.783025</td>\n",
              "      <td>-2.587232e+05</td>\n",
              "      <td>2.382723e+04</td>\n",
              "      <td>2.821473e+03</td>\n",
              "      <td>4.127690e+05</td>\n",
              "      <td>1.836649</td>\n",
              "    </tr>\n",
              "    <tr>\n",
              "      <th>206</th>\n",
              "      <td>8951</td>\n",
              "      <td>2.167334</td>\n",
              "      <td>354480.5</td>\n",
              "      <td>2.330376e-12</td>\n",
              "      <td>0.793374</td>\n",
              "      <td>-1.219243e+06</td>\n",
              "      <td>9.756517e+04</td>\n",
              "      <td>1.058669e+04</td>\n",
              "      <td>1.845650e+06</td>\n",
              "      <td>1.714734</td>\n",
              "    </tr>\n",
              "    <tr>\n",
              "      <th>207</th>\n",
              "      <td>8999</td>\n",
              "      <td>3.488473</td>\n",
              "      <td>1708520.5</td>\n",
              "      <td>7.497269e-12</td>\n",
              "      <td>0.763873</td>\n",
              "      <td>-5.793139e+06</td>\n",
              "      <td>4.159850e+05</td>\n",
              "      <td>4.782629e+04</td>\n",
              "      <td>8.802071e+06</td>\n",
              "      <td>2.070657</td>\n",
              "    </tr>\n",
              "    <tr>\n",
              "      <th>208</th>\n",
              "      <td>9510</td>\n",
              "      <td>7.587690</td>\n",
              "      <td>3965538.0</td>\n",
              "      <td>1.686853e-08</td>\n",
              "      <td>0.674095</td>\n",
              "      <td>-3.637840e+07</td>\n",
              "      <td>2.652538e+06</td>\n",
              "      <td>3.992434e+05</td>\n",
              "      <td>6.246555e+07</td>\n",
              "      <td>2.659331</td>\n",
              "    </tr>\n",
              "  </tbody>\n",
              "</table>\n",
              "<p>209 rows × 10 columns</p>\n",
              "</div>"
            ],
            "text/plain": [
              "     product_code   kurtosis  ...  standard_deviation  skewness\n",
              "0            2814  39.677059  ...        3.462803e+07  6.287807\n",
              "1            2815   1.996806  ...        1.192445e+09  1.548182\n",
              "2            2816   3.375724  ...        1.770603e+09  2.057155\n",
              "3            2820   3.668905  ...        1.797995e+08  2.129717\n",
              "4            6642   4.058713  ...        1.004974e+05  2.067636\n",
              "..            ...        ...  ...                 ...       ...\n",
              "204          8124   2.188511  ...        1.857587e+07  1.790283\n",
              "205          8941   2.730361  ...        4.127690e+05  1.836649\n",
              "206          8951   2.167334  ...        1.845650e+06  1.714734\n",
              "207          8999   3.488473  ...        8.802071e+06  2.070657\n",
              "208          9510   7.587690  ...        6.246555e+07  2.659331\n",
              "\n",
              "[209 rows x 10 columns]"
            ]
          },
          "metadata": {
            "tags": []
          },
          "execution_count": 72
        }
      ]
    },
    {
      "cell_type": "code",
      "metadata": {
        "id": "Obodv2NDKpjh",
        "outputId": "1401c565-965a-46db-e19d-258d6e3bf1c8",
        "colab": {
          "base_uri": "https://localhost:8080/",
          "height": 431
        }
      },
      "source": [
        "# Merge stationarity and statistical features\n",
        "features_uncorrelated = pd.merge(stationary_features_df,stats_features_df,on='product_code')\n",
        "clean_header(features_uncorrelated)"
      ],
      "execution_count": 73,
      "outputs": [
        {
          "output_type": "execute_result",
          "data": {
            "text/html": [
              "<div>\n",
              "<style scoped>\n",
              "    .dataframe tbody tr th:only-of-type {\n",
              "        vertical-align: middle;\n",
              "    }\n",
              "\n",
              "    .dataframe tbody tr th {\n",
              "        vertical-align: top;\n",
              "    }\n",
              "\n",
              "    .dataframe thead th {\n",
              "        text-align: right;\n",
              "    }\n",
              "</style>\n",
              "<table border=\"1\" class=\"dataframe\">\n",
              "  <thead>\n",
              "    <tr style=\"text-align: right;\">\n",
              "      <th></th>\n",
              "      <th>kurtosis</th>\n",
              "      <th>median</th>\n",
              "      <th>trend_pvalue</th>\n",
              "      <th>trend_rvalue</th>\n",
              "      <th>trend_intercept</th>\n",
              "      <th>trend_slope</th>\n",
              "      <th>trend_stderr</th>\n",
              "      <th>standard_deviation</th>\n",
              "      <th>skewness</th>\n",
              "    </tr>\n",
              "    <tr>\n",
              "      <th>product_code</th>\n",
              "      <th></th>\n",
              "      <th></th>\n",
              "      <th></th>\n",
              "      <th></th>\n",
              "      <th></th>\n",
              "      <th></th>\n",
              "      <th></th>\n",
              "      <th></th>\n",
              "      <th></th>\n",
              "    </tr>\n",
              "  </thead>\n",
              "  <tbody>\n",
              "    <tr>\n",
              "      <th>2814</th>\n",
              "      <td>39.677059</td>\n",
              "      <td>156970.0</td>\n",
              "      <td>2.636353e-01</td>\n",
              "      <td>-0.181021</td>\n",
              "      <td>1.721944e+07</td>\n",
              "      <td>-5.430296e+05</td>\n",
              "      <td>4.785943e+05</td>\n",
              "      <td>3.462803e+07</td>\n",
              "      <td>6.287807</td>\n",
              "    </tr>\n",
              "    <tr>\n",
              "      <th>2815</th>\n",
              "      <td>1.996806</td>\n",
              "      <td>465781161.5</td>\n",
              "      <td>1.375231e-06</td>\n",
              "      <td>0.722893</td>\n",
              "      <td>-2.999906e+08</td>\n",
              "      <td>8.786422e+07</td>\n",
              "      <td>1.484621e+07</td>\n",
              "      <td>1.192445e+09</td>\n",
              "      <td>1.548182</td>\n",
              "    </tr>\n",
              "    <tr>\n",
              "      <th>2816</th>\n",
              "      <td>3.375724</td>\n",
              "      <td>266453161.5</td>\n",
              "      <td>1.302327e-05</td>\n",
              "      <td>0.672865</td>\n",
              "      <td>-8.765018e+08</td>\n",
              "      <td>1.214364e+08</td>\n",
              "      <td>2.360149e+07</td>\n",
              "      <td>1.770603e+09</td>\n",
              "      <td>2.057155</td>\n",
              "    </tr>\n",
              "    <tr>\n",
              "      <th>2820</th>\n",
              "      <td>3.668905</td>\n",
              "      <td>7562416.0</td>\n",
              "      <td>2.696669e-09</td>\n",
              "      <td>0.695518</td>\n",
              "      <td>-1.098440e+08</td>\n",
              "      <td>7.736930e+06</td>\n",
              "      <td>1.087666e+06</td>\n",
              "      <td>1.797995e+08</td>\n",
              "      <td>2.129717</td>\n",
              "    </tr>\n",
              "    <tr>\n",
              "      <th>6642</th>\n",
              "      <td>4.058713</td>\n",
              "      <td>32135.5</td>\n",
              "      <td>4.514485e-04</td>\n",
              "      <td>0.517297</td>\n",
              "      <td>-1.208773e+04</td>\n",
              "      <td>4.289029e+03</td>\n",
              "      <td>1.121927e+03</td>\n",
              "      <td>1.004974e+05</td>\n",
              "      <td>2.067636</td>\n",
              "    </tr>\n",
              "    <tr>\n",
              "      <th>...</th>\n",
              "      <td>...</td>\n",
              "      <td>...</td>\n",
              "      <td>...</td>\n",
              "      <td>...</td>\n",
              "      <td>...</td>\n",
              "      <td>...</td>\n",
              "      <td>...</td>\n",
              "      <td>...</td>\n",
              "      <td>...</td>\n",
              "    </tr>\n",
              "    <tr>\n",
              "      <th>8124</th>\n",
              "      <td>2.188511</td>\n",
              "      <td>2220533.0</td>\n",
              "      <td>2.387422e-12</td>\n",
              "      <td>0.774973</td>\n",
              "      <td>-1.226456e+07</td>\n",
              "      <td>8.906512e+05</td>\n",
              "      <td>9.884099e+04</td>\n",
              "      <td>1.857587e+07</td>\n",
              "      <td>1.790283</td>\n",
              "    </tr>\n",
              "    <tr>\n",
              "      <th>8941</th>\n",
              "      <td>2.730361</td>\n",
              "      <td>87379.0</td>\n",
              "      <td>7.830128e-11</td>\n",
              "      <td>0.783025</td>\n",
              "      <td>-2.587232e+05</td>\n",
              "      <td>2.382723e+04</td>\n",
              "      <td>2.821473e+03</td>\n",
              "      <td>4.127690e+05</td>\n",
              "      <td>1.836649</td>\n",
              "    </tr>\n",
              "    <tr>\n",
              "      <th>8951</th>\n",
              "      <td>2.167334</td>\n",
              "      <td>354480.5</td>\n",
              "      <td>2.330376e-12</td>\n",
              "      <td>0.793374</td>\n",
              "      <td>-1.219243e+06</td>\n",
              "      <td>9.756517e+04</td>\n",
              "      <td>1.058669e+04</td>\n",
              "      <td>1.845650e+06</td>\n",
              "      <td>1.714734</td>\n",
              "    </tr>\n",
              "    <tr>\n",
              "      <th>8999</th>\n",
              "      <td>3.488473</td>\n",
              "      <td>1708520.5</td>\n",
              "      <td>7.497269e-12</td>\n",
              "      <td>0.763873</td>\n",
              "      <td>-5.793139e+06</td>\n",
              "      <td>4.159850e+05</td>\n",
              "      <td>4.782629e+04</td>\n",
              "      <td>8.802071e+06</td>\n",
              "      <td>2.070657</td>\n",
              "    </tr>\n",
              "    <tr>\n",
              "      <th>9510</th>\n",
              "      <td>7.587690</td>\n",
              "      <td>3965538.0</td>\n",
              "      <td>1.686853e-08</td>\n",
              "      <td>0.674095</td>\n",
              "      <td>-3.637840e+07</td>\n",
              "      <td>2.652538e+06</td>\n",
              "      <td>3.992434e+05</td>\n",
              "      <td>6.246555e+07</td>\n",
              "      <td>2.659331</td>\n",
              "    </tr>\n",
              "  </tbody>\n",
              "</table>\n",
              "<p>209 rows × 9 columns</p>\n",
              "</div>"
            ],
            "text/plain": [
              "               kurtosis       median  ...  standard_deviation  skewness\n",
              "product_code                          ...                              \n",
              "2814          39.677059     156970.0  ...        3.462803e+07  6.287807\n",
              "2815           1.996806  465781161.5  ...        1.192445e+09  1.548182\n",
              "2816           3.375724  266453161.5  ...        1.770603e+09  2.057155\n",
              "2820           3.668905    7562416.0  ...        1.797995e+08  2.129717\n",
              "6642           4.058713      32135.5  ...        1.004974e+05  2.067636\n",
              "...                 ...          ...  ...                 ...       ...\n",
              "8124           2.188511    2220533.0  ...        1.857587e+07  1.790283\n",
              "8941           2.730361      87379.0  ...        4.127690e+05  1.836649\n",
              "8951           2.167334     354480.5  ...        1.845650e+06  1.714734\n",
              "8999           3.488473    1708520.5  ...        8.802071e+06  2.070657\n",
              "9510           7.587690    3965538.0  ...        6.246555e+07  2.659331\n",
              "\n",
              "[209 rows x 9 columns]"
            ]
          },
          "metadata": {
            "tags": []
          },
          "execution_count": 73
        }
      ]
    },
    {
      "cell_type": "code",
      "metadata": {
        "id": "sawLec9zRsO8",
        "outputId": "4b76d9c6-00f4-44cf-a3e0-1b333cfaeae6",
        "colab": {
          "base_uri": "https://localhost:8080/",
          "height": 185
        }
      },
      "source": [
        "features_uncorrelated.fillna(0,inplace=True)\n",
        "features_uncorrelated.isnull().sum()"
      ],
      "execution_count": 74,
      "outputs": [
        {
          "output_type": "execute_result",
          "data": {
            "text/plain": [
              "kurtosis              0\n",
              "median                0\n",
              "trend_pvalue          0\n",
              "trend_rvalue          0\n",
              "trend_intercept       0\n",
              "trend_slope           0\n",
              "trend_stderr          0\n",
              "standard_deviation    0\n",
              "skewness              0\n",
              "dtype: int64"
            ]
          },
          "metadata": {
            "tags": []
          },
          "execution_count": 74
        }
      ]
    },
    {
      "cell_type": "markdown",
      "metadata": {
        "id": "litJCLoaJZoT"
      },
      "source": [
        "## EDA and correlation analysis"
      ]
    },
    {
      "cell_type": "code",
      "metadata": {
        "id": "oLzGCQ_1JZoT",
        "outputId": "d0d723ee-b8e9-4f68-d49c-b1a81bb26f85",
        "colab": {
          "base_uri": "https://localhost:8080/",
          "height": 438
        }
      },
      "source": [
        "image_dump = f\"{PATH}/images\"\n",
        "# Check if all features are not correlated\n",
        "plot_correlated_features(features_uncorrelated,0.5)\n",
        "plt.savefig(f\"{image_dump}/_correlation_{experiment}\")\n",
        "#TODO: https://stats.stackexchange.com/questions/427327/simple-outlier-detection-for-time-series"
      ],
      "execution_count": 75,
      "outputs": [
        {
          "output_type": "display_data",
          "data": {
            "image/png": "[encoded data removed]",
            "text/plain": [
              "<Figure size 720x396 with 2 Axes>"
            ]
          },
          "metadata": {
            "tags": [],
            "needs_background": "light"
          }
        }
      ]
    },
    {
      "cell_type": "markdown",
      "metadata": {
        "id": "_5wOb8o5DnDB"
      },
      "source": [
        "# Clustering"
      ]
    },
    {
      "cell_type": "markdown",
      "metadata": {
        "id": "OESfUYSSJZou"
      },
      "source": [
        "## PCA + k-Means"
      ]
    },
    {
      "cell_type": "markdown",
      "metadata": {
        "id": "i-0oeEqFYmFJ"
      },
      "source": [
        "* Scale features using Standard Scaler\n",
        "* Dimension reduction to 2 PCs\n",
        "* Locate optimum number of cluster"
      ]
    },
    {
      "cell_type": "code",
      "metadata": {
        "id": "pq418utYYkaO",
        "outputId": "c1cb9b33-dc5d-4a91-a492-64902b74cdb2",
        "colab": {
          "base_uri": "https://localhost:8080/",
          "height": 322
        }
      },
      "source": [
        "features_uncorrelated = scale_features(features_uncorrelated)\n",
        "X_scaled_transposed = np.asarray(features_uncorrelated)\n",
        "product_name = 'all_products'\n",
        "# Reduce dimensions using PCA\n",
        "pca = PCA(n_components=2)\n",
        "principalComponents = pca.fit_transform(features_uncorrelated)\n",
        "# Save components to a DataFrame\n",
        "PCA_components = pd.DataFrame(principalComponents)\n",
        "# Plot the explained variances\n",
        "features = range(pca.n_components_)\n",
        "\n",
        "# Optimum clusters\n",
        "# plot_elbow_silhoutte_k_evaluation(f\"{product_name}_{experiment}_pca_kmeans\",np.asarray(PCA_components),15)\n",
        "kelbow_visualizer = KElbowVisualizer(\n",
        "    KMeans(random_state=42), k=15,metric='distortion',\n",
        "    timings=False,locate_elbow=True,size=(512, 340))\n",
        "kelbow_visualizer.fit(np.asarray(PCA_components))\n",
        "pca_k_value = kelbow_visualizer.elbow_value_\n",
        "plt.title('Locating optimum number of clusters (k) using the elbow method')\n",
        "plt.legend()\n",
        "plt.savefig(f\"{image_dump}/{experiment}_elbow\")"
      ],
      "execution_count": 76,
      "outputs": [
        {
          "output_type": "display_data",
          "data": {
            "image/png": "[encoded data removed]",
            "text/plain": [
              "<Figure size 512x340 with 1 Axes>"
            ]
          },
          "metadata": {
            "tags": [],
            "needs_background": "light"
          }
        }
      ]
    },
    {
      "cell_type": "code",
      "metadata": {
        "id": "9c5scRtvoRVT",
        "outputId": "5d110eec-d915-4010-c52e-7ffb70419db1",
        "colab": {
          "base_uri": "https://localhost:8080/",
          "height": 386
        }
      },
      "source": [
        "clusters_features_uncorrelated = plot_kmeans_clusters(np.asarray(PCA_components),pca_k_value,f\"{product_name}_{experiment}_pca_kmeans\",\n",
        "                                                      f\"{image_dump}\")\n",
        "\n"
      ],
      "execution_count": 77,
      "outputs": [
        {
          "output_type": "display_data",
          "data": {
            "image/png": "[encoded data removed]",
            "text/plain": [
              "<Figure size 720x396 with 1 Axes>"
            ]
          },
          "metadata": {
            "tags": [],
            "needs_background": "light"
          }
        }
      ]
    },
    {
      "cell_type": "code",
      "metadata": {
        "id": "WK1W0R8VsU-q",
        "outputId": "cc2f7823-d95b-407a-abce-a7d52ac717ee",
        "colab": {
          "base_uri": "https://localhost:8080/",
          "height": 84
        }
      },
      "source": [
        "#features_uncorrelated['product_code'].astype(str)\n",
        "features_uncorrelated.index"
      ],
      "execution_count": 78,
      "outputs": [
        {
          "output_type": "execute_result",
          "data": {
            "text/plain": [
              "Int64Index([2814, 2815, 2816, 2820, 6642, 6712, 6713, 6716, 6724, 6725,\n",
              "            ...\n",
              "            7931, 7932, 7933, 7938, 8121, 8124, 8941, 8951, 8999, 9510],\n",
              "           dtype='int64', name='product_code', length=209)"
            ]
          },
          "metadata": {
            "tags": []
          },
          "execution_count": 78
        }
      ]
    },
    {
      "cell_type": "code",
      "metadata": {
        "id": "lkf_XFS6qTIf",
        "outputId": "e7a6a313-d373-4447-eb11-e276e0b53c25",
        "colab": {
          "base_uri": "https://localhost:8080/",
          "height": 195
        }
      },
      "source": [
        "details = [(name,cluster) for name, cluster in zip(features_uncorrelated.index,clusters_features_uncorrelated)]\n",
        "cluster_df = pd.DataFrame(details,columns=['names','cluster'])\n",
        "cluster_df['names'].astype('category')\n",
        "get_names = features_uncorrelated.reset_index().rename(columns={'product_code':'names'})\n",
        "get_names.names.astype('str')\n",
        "country_cluster = pd.merge(get_names,cluster_df,how='inner', on='names')\n",
        "country_cluster.head()"
      ],
      "execution_count": 79,
      "outputs": [
        {
          "output_type": "execute_result",
          "data": {
            "text/html": [
              "<div>\n",
              "<style scoped>\n",
              "    .dataframe tbody tr th:only-of-type {\n",
              "        vertical-align: middle;\n",
              "    }\n",
              "\n",
              "    .dataframe tbody tr th {\n",
              "        vertical-align: top;\n",
              "    }\n",
              "\n",
              "    .dataframe thead th {\n",
              "        text-align: right;\n",
              "    }\n",
              "</style>\n",
              "<table border=\"1\" class=\"dataframe\">\n",
              "  <thead>\n",
              "    <tr style=\"text-align: right;\">\n",
              "      <th></th>\n",
              "      <th>names</th>\n",
              "      <th>kurtosis</th>\n",
              "      <th>median</th>\n",
              "      <th>trend_pvalue</th>\n",
              "      <th>trend_rvalue</th>\n",
              "      <th>trend_intercept</th>\n",
              "      <th>trend_slope</th>\n",
              "      <th>trend_stderr</th>\n",
              "      <th>standard_deviation</th>\n",
              "      <th>skewness</th>\n",
              "      <th>cluster</th>\n",
              "    </tr>\n",
              "  </thead>\n",
              "  <tbody>\n",
              "    <tr>\n",
              "      <th>0</th>\n",
              "      <td>2814</td>\n",
              "      <td>6.437222</td>\n",
              "      <td>-0.304996</td>\n",
              "      <td>1.904748</td>\n",
              "      <td>-4.324614</td>\n",
              "      <td>0.381982</td>\n",
              "      <td>-0.324253</td>\n",
              "      <td>-0.024433</td>\n",
              "      <td>-0.137258</td>\n",
              "      <td>5.074795</td>\n",
              "      <td>3</td>\n",
              "    </tr>\n",
              "    <tr>\n",
              "      <th>1</th>\n",
              "      <td>2815</td>\n",
              "      <td>-0.122403</td>\n",
              "      <td>6.272599</td>\n",
              "      <td>-0.219648</td>\n",
              "      <td>0.049797</td>\n",
              "      <td>-2.036373</td>\n",
              "      <td>5.959645</td>\n",
              "      <td>6.696807</td>\n",
              "      <td>4.961844</td>\n",
              "      <td>0.028146</td>\n",
              "      <td>2</td>\n",
              "    </tr>\n",
              "    <tr>\n",
              "      <th>2</th>\n",
              "      <td>2816</td>\n",
              "      <td>0.117648</td>\n",
              "      <td>3.456811</td>\n",
              "      <td>-0.219555</td>\n",
              "      <td>-0.192307</td>\n",
              "      <td>-6.431594</td>\n",
              "      <td>8.345923</td>\n",
              "      <td>10.792569</td>\n",
              "      <td>7.508089</td>\n",
              "      <td>0.570090</td>\n",
              "      <td>2</td>\n",
              "    </tr>\n",
              "    <tr>\n",
              "      <th>3</th>\n",
              "      <td>2820</td>\n",
              "      <td>0.168687</td>\n",
              "      <td>-0.200384</td>\n",
              "      <td>-0.219659</td>\n",
              "      <td>-0.082682</td>\n",
              "      <td>-0.586727</td>\n",
              "      <td>0.264278</td>\n",
              "      <td>0.260493</td>\n",
              "      <td>0.502087</td>\n",
              "      <td>0.647352</td>\n",
              "      <td>0</td>\n",
              "    </tr>\n",
              "    <tr>\n",
              "      <th>4</th>\n",
              "      <td>6642</td>\n",
              "      <td>0.236547</td>\n",
              "      <td>-0.306759</td>\n",
              "      <td>-0.216022</td>\n",
              "      <td>-0.945167</td>\n",
              "      <td>0.250612</td>\n",
              "      <td>-0.285350</td>\n",
              "      <td>-0.247797</td>\n",
              "      <td>-0.289320</td>\n",
              "      <td>0.581250</td>\n",
              "      <td>0</td>\n",
              "    </tr>\n",
              "  </tbody>\n",
              "</table>\n",
              "</div>"
            ],
            "text/plain": [
              "   names  kurtosis    median  ...  standard_deviation  skewness  cluster\n",
              "0   2814  6.437222 -0.304996  ...           -0.137258  5.074795        3\n",
              "1   2815 -0.122403  6.272599  ...            4.961844  0.028146        2\n",
              "2   2816  0.117648  3.456811  ...            7.508089  0.570090        2\n",
              "3   2820  0.168687 -0.200384  ...            0.502087  0.647352        0\n",
              "4   6642  0.236547 -0.306759  ...           -0.289320  0.581250        0\n",
              "\n",
              "[5 rows x 11 columns]"
            ]
          },
          "metadata": {
            "tags": []
          },
          "execution_count": 79
        }
      ]
    },
    {
      "cell_type": "code",
      "metadata": {
        "id": "K0-luG3CyNZK"
      },
      "source": [
        "groups = country_cluster.groupby(['cluster']).agg('mean')\n",
        "country_cluster.to_csv(f\"{PATH}/zaf_product_clusters.csv\")"
      ],
      "execution_count": 80,
      "outputs": []
    },
    {
      "cell_type": "code",
      "metadata": {
        "id": "W0F0QOaweYAo",
        "outputId": "909a4e4e-dff3-47c3-a72a-be7a929730d3",
        "colab": {
          "base_uri": "https://localhost:8080/",
          "height": 195
        }
      },
      "source": [
        "#clust = groups.reset_index()\n",
        "dict_clust = {0:'cluster_0',\n",
        "              1: 'cluster_1',\n",
        "              2: 'cluster_2',\n",
        "              3: 'cluster_3',\n",
        "              4: 'cluster_4',\n",
        "              5: 'cluster_5'\n",
        "              }\n",
        "clust = groups.reset_index()\n",
        "clust.replace({'cluster': dict_clust},inplace=True)\n",
        "clust.set_index('cluster',inplace=True)\n",
        "# x = clust.iloc[-1,:]\n",
        "clust"
      ],
      "execution_count": 81,
      "outputs": [
        {
          "output_type": "execute_result",
          "data": {
            "text/html": [
              "<div>\n",
              "<style scoped>\n",
              "    .dataframe tbody tr th:only-of-type {\n",
              "        vertical-align: middle;\n",
              "    }\n",
              "\n",
              "    .dataframe tbody tr th {\n",
              "        vertical-align: top;\n",
              "    }\n",
              "\n",
              "    .dataframe thead th {\n",
              "        text-align: right;\n",
              "    }\n",
              "</style>\n",
              "<table border=\"1\" class=\"dataframe\">\n",
              "  <thead>\n",
              "    <tr style=\"text-align: right;\">\n",
              "      <th></th>\n",
              "      <th>names</th>\n",
              "      <th>kurtosis</th>\n",
              "      <th>median</th>\n",
              "      <th>trend_pvalue</th>\n",
              "      <th>trend_rvalue</th>\n",
              "      <th>trend_intercept</th>\n",
              "      <th>trend_slope</th>\n",
              "      <th>trend_stderr</th>\n",
              "      <th>standard_deviation</th>\n",
              "      <th>skewness</th>\n",
              "    </tr>\n",
              "    <tr>\n",
              "      <th>cluster</th>\n",
              "      <th></th>\n",
              "      <th></th>\n",
              "      <th></th>\n",
              "      <th></th>\n",
              "      <th></th>\n",
              "      <th></th>\n",
              "      <th></th>\n",
              "      <th></th>\n",
              "      <th></th>\n",
              "      <th></th>\n",
              "    </tr>\n",
              "  </thead>\n",
              "  <tbody>\n",
              "    <tr>\n",
              "      <th>cluster_0</th>\n",
              "      <td>7391.320755</td>\n",
              "      <td>0.457017</td>\n",
              "      <td>-0.242026</td>\n",
              "      <td>-0.152518</td>\n",
              "      <td>-0.576512</td>\n",
              "      <td>0.199095</td>\n",
              "      <td>-0.230539</td>\n",
              "      <td>-0.185456</td>\n",
              "      <td>-0.217652</td>\n",
              "      <td>0.652645</td>\n",
              "    </tr>\n",
              "    <tr>\n",
              "      <th>cluster_1</th>\n",
              "      <td>7351.284672</td>\n",
              "      <td>-0.424162</td>\n",
              "      <td>-0.065616</td>\n",
              "      <td>-0.219290</td>\n",
              "      <td>0.476550</td>\n",
              "      <td>0.121981</td>\n",
              "      <td>-0.122736</td>\n",
              "      <td>-0.133784</td>\n",
              "      <td>-0.135433</td>\n",
              "      <td>-0.489796</td>\n",
              "    </tr>\n",
              "    <tr>\n",
              "      <th>cluster_2</th>\n",
              "      <td>5902.333333</td>\n",
              "      <td>-0.197963</td>\n",
              "      <td>4.236972</td>\n",
              "      <td>-0.219640</td>\n",
              "      <td>0.283607</td>\n",
              "      <td>-5.171326</td>\n",
              "      <td>5.430288</td>\n",
              "      <td>4.924887</td>\n",
              "      <td>5.488142</td>\n",
              "      <td>0.011763</td>\n",
              "    </tr>\n",
              "    <tr>\n",
              "      <th>cluster_3</th>\n",
              "      <td>7217.923077</td>\n",
              "      <td>2.698159</td>\n",
              "      <td>-0.277312</td>\n",
              "      <td>3.034153</td>\n",
              "      <td>-2.802605</td>\n",
              "      <td>0.289578</td>\n",
              "      <td>-0.272950</td>\n",
              "      <td>-0.107053</td>\n",
              "      <td>-0.218385</td>\n",
              "      <td>2.495484</td>\n",
              "    </tr>\n",
              "  </tbody>\n",
              "</table>\n",
              "</div>"
            ],
            "text/plain": [
              "                 names  kurtosis  ...  standard_deviation  skewness\n",
              "cluster                           ...                              \n",
              "cluster_0  7391.320755  0.457017  ...           -0.217652  0.652645\n",
              "cluster_1  7351.284672 -0.424162  ...           -0.135433 -0.489796\n",
              "cluster_2  5902.333333 -0.197963  ...            5.488142  0.011763\n",
              "cluster_3  7217.923077  2.698159  ...           -0.218385  2.495484\n",
              "\n",
              "[4 rows x 10 columns]"
            ]
          },
          "metadata": {
            "tags": []
          },
          "execution_count": 81
        }
      ]
    },
    {
      "cell_type": "code",
      "metadata": {
        "id": "c8MTdduM0OxL"
      },
      "source": [
        "b = clust.T"
      ],
      "execution_count": 82,
      "outputs": []
    },
    {
      "cell_type": "code",
      "metadata": {
        "id": "_2kNgcf-2bNK",
        "outputId": "c56d4ca4-7fa7-4cab-bb9e-6d06207eb6a6",
        "colab": {
          "base_uri": "https://localhost:8080/",
          "height": 574
        }
      },
      "source": [
        "n = len(b.columns)\n",
        "fig, ax = plt.subplots(n, 1, figsize=(12, n * 2), sharex=True,sharey=True)\n",
        "for i in range(n):\n",
        "    plt.sca(ax[i])\n",
        "    col = b.columns[i]\n",
        "    b[col].plot(kind='bar')\n",
        "    plt.title(f\"Features for {col}\")\n",
        "    # plt.tight_layout()\n",
        "fig.savefig(f\"{image_dump}/{product_name}_{experiment}_pca_kmeans_features.png\",bbox_inches = \"tight\")"
      ],
      "execution_count": 83,
      "outputs": [
        {
          "output_type": "display_data",
          "data": {
            "image/png": "[encoded data removed]",
            "text/plain": [
              "<Figure size 864x576 with 4 Axes>"
            ]
          },
          "metadata": {
            "tags": [],
            "needs_background": "light"
          }
        }
      ]
    },
    {
      "cell_type": "code",
      "metadata": {
        "id": "C5LfhJlj0qRL",
        "outputId": "4980c6e8-a52e-4bdd-ccc5-7c5b131be1a5",
        "colab": {
          "base_uri": "https://localhost:8080/",
          "height": 1000
        }
      },
      "source": [
        "# AR0-1-2-3, autoregressive coeff. Tells you whethere the ts fits an autoregressive model.\n",
        "# AR1 shows fits auto reg model of order 1 etc...\n",
        "# aug dicky fuller, tells whether or not ts has a unit root - tells whether ts is stationary- stationary means behaviour doesnt change, almost determines predictability or not\n",
        "# kurtosis - sensitivity to outlier\n",
        "# permu entropy - exclude - entropy used in place of shannon entropy\n",
        "for col in b.columns:\n",
        "  b[col].plot(kind='bar',figsize=(10,5.5))\n",
        "  plt.legend()\n",
        "  plt.tight_layout()\n",
        "  plt.savefig(f\"{image_dump}/{col}_{product_name}_features.png\",bbox_inches = \"tight\")\n",
        "  plt.show()"
      ],
      "execution_count": 84,
      "outputs": [
        {
          "output_type": "display_data",
          "data": {
            "image/png": "[encoded data removed]",
            "text/plain": [
              "<Figure size 720x396 with 1 Axes>"
            ]
          },
          "metadata": {
            "tags": [],
            "needs_background": "light"
          }
        },
        {
          "output_type": "display_data",
          "data": {
            "image/png": "[encoded data removed]",
            "text/plain": [
              "<Figure size 720x396 with 1 Axes>"
            ]
          },
          "metadata": {
            "tags": [],
            "needs_background": "light"
          }
        },
        {
          "output_type": "display_data",
          "data": {
            "image/png": "[encoded data removed]",
            "text/plain": [
              "<Figure size 720x396 with 1 Axes>"
            ]
          },
          "metadata": {
            "tags": [],
            "needs_background": "light"
          }
        },
        {
          "output_type": "display_data",
          "data": {
            "image/png": "[encoded data removed]",
            "text/plain": [
              "<Figure size 720x396 with 1 Axes>"
            ]
          },
          "metadata": {
            "tags": [],
            "needs_background": "light"
          }
        }
      ]
    },
    {
      "cell_type": "markdown",
      "metadata": {
        "id": "6TqNkvIcCCqg"
      },
      "source": [
        "# Cluster analysis"
      ]
    },
    {
      "cell_type": "code",
      "metadata": {
        "id": "V-KIe96HUbVe",
        "outputId": "f6a02818-e863-45d5-cf8b-893958e1b3b1",
        "colab": {
          "base_uri": "https://localhost:8080/",
          "height": 195
        }
      },
      "source": [
        "trade_dframe = pd.read_excel(f'{PATH}/zaf_df.xlsx', usecols=['year', 'export_val', 'zaf_code'])\n",
        "trade_dframe.head()\n"
      ],
      "execution_count": 85,
      "outputs": [
        {
          "output_type": "execute_result",
          "data": {
            "text/html": [
              "<div>\n",
              "<style scoped>\n",
              "    .dataframe tbody tr th:only-of-type {\n",
              "        vertical-align: middle;\n",
              "    }\n",
              "\n",
              "    .dataframe tbody tr th {\n",
              "        vertical-align: top;\n",
              "    }\n",
              "\n",
              "    .dataframe thead th {\n",
              "        text-align: right;\n",
              "    }\n",
              "</style>\n",
              "<table border=\"1\" class=\"dataframe\">\n",
              "  <thead>\n",
              "    <tr style=\"text-align: right;\">\n",
              "      <th></th>\n",
              "      <th>year</th>\n",
              "      <th>export_val</th>\n",
              "      <th>zaf_code</th>\n",
              "    </tr>\n",
              "  </thead>\n",
              "  <tbody>\n",
              "    <tr>\n",
              "      <th>0</th>\n",
              "      <td>1962</td>\n",
              "      <td>42000.0</td>\n",
              "      <td>zaf6289</td>\n",
              "    </tr>\n",
              "    <tr>\n",
              "      <th>1</th>\n",
              "      <td>1962</td>\n",
              "      <td>2000.0</td>\n",
              "      <td>zaf6352</td>\n",
              "    </tr>\n",
              "    <tr>\n",
              "      <th>2</th>\n",
              "      <td>1962</td>\n",
              "      <td>8000.0</td>\n",
              "      <td>zaf6577</td>\n",
              "    </tr>\n",
              "    <tr>\n",
              "      <th>3</th>\n",
              "      <td>1962</td>\n",
              "      <td>290000.0</td>\n",
              "      <td>zaf6731</td>\n",
              "    </tr>\n",
              "    <tr>\n",
              "      <th>4</th>\n",
              "      <td>1962</td>\n",
              "      <td>6000.0</td>\n",
              "      <td>zaf6760</td>\n",
              "    </tr>\n",
              "  </tbody>\n",
              "</table>\n",
              "</div>"
            ],
            "text/plain": [
              "   year  export_val zaf_code\n",
              "0  1962     42000.0  zaf6289\n",
              "1  1962      2000.0  zaf6352\n",
              "2  1962      8000.0  zaf6577\n",
              "3  1962    290000.0  zaf6731\n",
              "4  1962      6000.0  zaf6760"
            ]
          },
          "metadata": {
            "tags": []
          },
          "execution_count": 85
        }
      ]
    },
    {
      "cell_type": "code",
      "metadata": {
        "id": "Hi9vFJiDVguM",
        "outputId": "8e4d8a9e-8389-4806-f1fa-3a7f88d4c253",
        "colab": {
          "base_uri": "https://localhost:8080/",
          "height": 195
        }
      },
      "source": [
        "country_cluster.head()"
      ],
      "execution_count": 86,
      "outputs": [
        {
          "output_type": "execute_result",
          "data": {
            "text/html": [
              "<div>\n",
              "<style scoped>\n",
              "    .dataframe tbody tr th:only-of-type {\n",
              "        vertical-align: middle;\n",
              "    }\n",
              "\n",
              "    .dataframe tbody tr th {\n",
              "        vertical-align: top;\n",
              "    }\n",
              "\n",
              "    .dataframe thead th {\n",
              "        text-align: right;\n",
              "    }\n",
              "</style>\n",
              "<table border=\"1\" class=\"dataframe\">\n",
              "  <thead>\n",
              "    <tr style=\"text-align: right;\">\n",
              "      <th></th>\n",
              "      <th>names</th>\n",
              "      <th>kurtosis</th>\n",
              "      <th>median</th>\n",
              "      <th>trend_pvalue</th>\n",
              "      <th>trend_rvalue</th>\n",
              "      <th>trend_intercept</th>\n",
              "      <th>trend_slope</th>\n",
              "      <th>trend_stderr</th>\n",
              "      <th>standard_deviation</th>\n",
              "      <th>skewness</th>\n",
              "      <th>cluster</th>\n",
              "    </tr>\n",
              "  </thead>\n",
              "  <tbody>\n",
              "    <tr>\n",
              "      <th>0</th>\n",
              "      <td>2814</td>\n",
              "      <td>6.437222</td>\n",
              "      <td>-0.304996</td>\n",
              "      <td>1.904748</td>\n",
              "      <td>-4.324614</td>\n",
              "      <td>0.381982</td>\n",
              "      <td>-0.324253</td>\n",
              "      <td>-0.024433</td>\n",
              "      <td>-0.137258</td>\n",
              "      <td>5.074795</td>\n",
              "      <td>3</td>\n",
              "    </tr>\n",
              "    <tr>\n",
              "      <th>1</th>\n",
              "      <td>2815</td>\n",
              "      <td>-0.122403</td>\n",
              "      <td>6.272599</td>\n",
              "      <td>-0.219648</td>\n",
              "      <td>0.049797</td>\n",
              "      <td>-2.036373</td>\n",
              "      <td>5.959645</td>\n",
              "      <td>6.696807</td>\n",
              "      <td>4.961844</td>\n",
              "      <td>0.028146</td>\n",
              "      <td>2</td>\n",
              "    </tr>\n",
              "    <tr>\n",
              "      <th>2</th>\n",
              "      <td>2816</td>\n",
              "      <td>0.117648</td>\n",
              "      <td>3.456811</td>\n",
              "      <td>-0.219555</td>\n",
              "      <td>-0.192307</td>\n",
              "      <td>-6.431594</td>\n",
              "      <td>8.345923</td>\n",
              "      <td>10.792569</td>\n",
              "      <td>7.508089</td>\n",
              "      <td>0.570090</td>\n",
              "      <td>2</td>\n",
              "    </tr>\n",
              "    <tr>\n",
              "      <th>3</th>\n",
              "      <td>2820</td>\n",
              "      <td>0.168687</td>\n",
              "      <td>-0.200384</td>\n",
              "      <td>-0.219659</td>\n",
              "      <td>-0.082682</td>\n",
              "      <td>-0.586727</td>\n",
              "      <td>0.264278</td>\n",
              "      <td>0.260493</td>\n",
              "      <td>0.502087</td>\n",
              "      <td>0.647352</td>\n",
              "      <td>0</td>\n",
              "    </tr>\n",
              "    <tr>\n",
              "      <th>4</th>\n",
              "      <td>6642</td>\n",
              "      <td>0.236547</td>\n",
              "      <td>-0.306759</td>\n",
              "      <td>-0.216022</td>\n",
              "      <td>-0.945167</td>\n",
              "      <td>0.250612</td>\n",
              "      <td>-0.285350</td>\n",
              "      <td>-0.247797</td>\n",
              "      <td>-0.289320</td>\n",
              "      <td>0.581250</td>\n",
              "      <td>0</td>\n",
              "    </tr>\n",
              "  </tbody>\n",
              "</table>\n",
              "</div>"
            ],
            "text/plain": [
              "   names  kurtosis    median  ...  standard_deviation  skewness  cluster\n",
              "0   2814  6.437222 -0.304996  ...           -0.137258  5.074795        3\n",
              "1   2815 -0.122403  6.272599  ...            4.961844  0.028146        2\n",
              "2   2816  0.117648  3.456811  ...            7.508089  0.570090        2\n",
              "3   2820  0.168687 -0.200384  ...            0.502087  0.647352        0\n",
              "4   6642  0.236547 -0.306759  ...           -0.289320  0.581250        0\n",
              "\n",
              "[5 rows x 11 columns]"
            ]
          },
          "metadata": {
            "tags": []
          },
          "execution_count": 86
        }
      ]
    },
    {
      "cell_type": "code",
      "metadata": {
        "id": "8jvkfhCWrqbH",
        "outputId": "81f5cef1-d200-4aa2-9c8b-ed562a33f601",
        "colab": {
          "base_uri": "https://localhost:8080/",
          "height": 387
        }
      },
      "source": [
        "# Plots for country comparison per product \n",
        "for c in country_cluster.cluster.unique():\n",
        "  cluster = country_cluster[country_cluster.cluster==c]\n",
        "  country_list = cluster['names'].unique()\n",
        "  product = pd.pivot_table(trade_dframe,index='year',columns='zaf_code',\n",
        "                           values='export_val',aggfunc=np.mean)\n",
        "  df = product[country_list]\n",
        "  df.fillna(0,inplace=True)\n",
        "  plt.figure(figsize=(10,5.5))\n",
        "  df.plot(subplots=False,figsize=(10,6),legend=False,\n",
        "                            title=(f\"Historical exports for steel related products in cluster {c} for {product_name}\"))\n",
        "  plt.xticks(rotation=70)\n",
        "  # plt.legend()\n",
        "  plt.ylabel(\"Export value\")\n",
        "  plt.savefig(f\"{image_dump}/{product_name}_cluster_{c}\")\n",
        "  plt.show()"
      ],
      "execution_count": 87,
      "outputs": [
        {
          "output_type": "error",
          "ename": "KeyError",
          "evalue": "ignored",
          "traceback": [
            "\u001b[0;31m---------------------------------------------------------------------------\u001b[0m",
            "\u001b[0;31mKeyError\u001b[0m                                  Traceback (most recent call last)",
            "\u001b[0;32m<ipython-input-87-e07adddcf3c5>\u001b[0m in \u001b[0;36m<module>\u001b[0;34m()\u001b[0m\n\u001b[1;32m      5\u001b[0m   product = pd.pivot_table(trade_dframe,index='year',columns='zaf_code',\n\u001b[1;32m      6\u001b[0m                            values='export_val',aggfunc=np.mean)\n\u001b[0;32m----> 7\u001b[0;31m   \u001b[0mdf\u001b[0m \u001b[0;34m=\u001b[0m \u001b[0mproduct\u001b[0m\u001b[0;34m[\u001b[0m\u001b[0mcountry_list\u001b[0m\u001b[0;34m]\u001b[0m\u001b[0;34m\u001b[0m\u001b[0;34m\u001b[0m\u001b[0m\n\u001b[0m\u001b[1;32m      8\u001b[0m   \u001b[0mdf\u001b[0m\u001b[0;34m.\u001b[0m\u001b[0mfillna\u001b[0m\u001b[0;34m(\u001b[0m\u001b[0;36m0\u001b[0m\u001b[0;34m,\u001b[0m\u001b[0minplace\u001b[0m\u001b[0;34m=\u001b[0m\u001b[0;32mTrue\u001b[0m\u001b[0;34m)\u001b[0m\u001b[0;34m\u001b[0m\u001b[0;34m\u001b[0m\u001b[0m\n\u001b[1;32m      9\u001b[0m   \u001b[0mplt\u001b[0m\u001b[0;34m.\u001b[0m\u001b[0mfigure\u001b[0m\u001b[0;34m(\u001b[0m\u001b[0mfigsize\u001b[0m\u001b[0;34m=\u001b[0m\u001b[0;34m(\u001b[0m\u001b[0;36m10\u001b[0m\u001b[0;34m,\u001b[0m\u001b[0;36m5.5\u001b[0m\u001b[0;34m)\u001b[0m\u001b[0;34m)\u001b[0m\u001b[0;34m\u001b[0m\u001b[0;34m\u001b[0m\u001b[0m\n",
            "\u001b[0;32m/usr/local/lib/python3.6/dist-packages/pandas/core/frame.py\u001b[0m in \u001b[0;36m__getitem__\u001b[0;34m(self, key)\u001b[0m\n\u001b[1;32m   2906\u001b[0m             \u001b[0;32mif\u001b[0m \u001b[0mis_iterator\u001b[0m\u001b[0;34m(\u001b[0m\u001b[0mkey\u001b[0m\u001b[0;34m)\u001b[0m\u001b[0;34m:\u001b[0m\u001b[0;34m\u001b[0m\u001b[0;34m\u001b[0m\u001b[0m\n\u001b[1;32m   2907\u001b[0m                 \u001b[0mkey\u001b[0m \u001b[0;34m=\u001b[0m \u001b[0mlist\u001b[0m\u001b[0;34m(\u001b[0m\u001b[0mkey\u001b[0m\u001b[0;34m)\u001b[0m\u001b[0;34m\u001b[0m\u001b[0;34m\u001b[0m\u001b[0m\n\u001b[0;32m-> 2908\u001b[0;31m             \u001b[0mindexer\u001b[0m \u001b[0;34m=\u001b[0m \u001b[0mself\u001b[0m\u001b[0;34m.\u001b[0m\u001b[0mloc\u001b[0m\u001b[0;34m.\u001b[0m\u001b[0m_get_listlike_indexer\u001b[0m\u001b[0;34m(\u001b[0m\u001b[0mkey\u001b[0m\u001b[0;34m,\u001b[0m \u001b[0maxis\u001b[0m\u001b[0;34m=\u001b[0m\u001b[0;36m1\u001b[0m\u001b[0;34m,\u001b[0m \u001b[0mraise_missing\u001b[0m\u001b[0;34m=\u001b[0m\u001b[0;32mTrue\u001b[0m\u001b[0;34m)\u001b[0m\u001b[0;34m[\u001b[0m\u001b[0;36m1\u001b[0m\u001b[0;34m]\u001b[0m\u001b[0;34m\u001b[0m\u001b[0;34m\u001b[0m\u001b[0m\n\u001b[0m\u001b[1;32m   2909\u001b[0m \u001b[0;34m\u001b[0m\u001b[0m\n\u001b[1;32m   2910\u001b[0m         \u001b[0;31m# take() does not accept boolean indexers\u001b[0m\u001b[0;34m\u001b[0m\u001b[0;34m\u001b[0m\u001b[0;34m\u001b[0m\u001b[0m\n",
            "\u001b[0;32m/usr/local/lib/python3.6/dist-packages/pandas/core/indexing.py\u001b[0m in \u001b[0;36m_get_listlike_indexer\u001b[0;34m(self, key, axis, raise_missing)\u001b[0m\n\u001b[1;32m   1252\u001b[0m             \u001b[0mkeyarr\u001b[0m\u001b[0;34m,\u001b[0m \u001b[0mindexer\u001b[0m\u001b[0;34m,\u001b[0m \u001b[0mnew_indexer\u001b[0m \u001b[0;34m=\u001b[0m \u001b[0max\u001b[0m\u001b[0;34m.\u001b[0m\u001b[0m_reindex_non_unique\u001b[0m\u001b[0;34m(\u001b[0m\u001b[0mkeyarr\u001b[0m\u001b[0;34m)\u001b[0m\u001b[0;34m\u001b[0m\u001b[0;34m\u001b[0m\u001b[0m\n\u001b[1;32m   1253\u001b[0m \u001b[0;34m\u001b[0m\u001b[0m\n\u001b[0;32m-> 1254\u001b[0;31m         \u001b[0mself\u001b[0m\u001b[0;34m.\u001b[0m\u001b[0m_validate_read_indexer\u001b[0m\u001b[0;34m(\u001b[0m\u001b[0mkeyarr\u001b[0m\u001b[0;34m,\u001b[0m \u001b[0mindexer\u001b[0m\u001b[0;34m,\u001b[0m \u001b[0maxis\u001b[0m\u001b[0;34m,\u001b[0m \u001b[0mraise_missing\u001b[0m\u001b[0;34m=\u001b[0m\u001b[0mraise_missing\u001b[0m\u001b[0;34m)\u001b[0m\u001b[0;34m\u001b[0m\u001b[0;34m\u001b[0m\u001b[0m\n\u001b[0m\u001b[1;32m   1255\u001b[0m         \u001b[0;32mreturn\u001b[0m \u001b[0mkeyarr\u001b[0m\u001b[0;34m,\u001b[0m \u001b[0mindexer\u001b[0m\u001b[0;34m\u001b[0m\u001b[0;34m\u001b[0m\u001b[0m\n\u001b[1;32m   1256\u001b[0m \u001b[0;34m\u001b[0m\u001b[0m\n",
            "\u001b[0;32m/usr/local/lib/python3.6/dist-packages/pandas/core/indexing.py\u001b[0m in \u001b[0;36m_validate_read_indexer\u001b[0;34m(self, key, indexer, axis, raise_missing)\u001b[0m\n\u001b[1;32m   1296\u001b[0m             \u001b[0;32mif\u001b[0m \u001b[0mmissing\u001b[0m \u001b[0;34m==\u001b[0m \u001b[0mlen\u001b[0m\u001b[0;34m(\u001b[0m\u001b[0mindexer\u001b[0m\u001b[0;34m)\u001b[0m\u001b[0;34m:\u001b[0m\u001b[0;34m\u001b[0m\u001b[0;34m\u001b[0m\u001b[0m\n\u001b[1;32m   1297\u001b[0m                 \u001b[0maxis_name\u001b[0m \u001b[0;34m=\u001b[0m \u001b[0mself\u001b[0m\u001b[0;34m.\u001b[0m\u001b[0mobj\u001b[0m\u001b[0;34m.\u001b[0m\u001b[0m_get_axis_name\u001b[0m\u001b[0;34m(\u001b[0m\u001b[0maxis\u001b[0m\u001b[0;34m)\u001b[0m\u001b[0;34m\u001b[0m\u001b[0;34m\u001b[0m\u001b[0m\n\u001b[0;32m-> 1298\u001b[0;31m                 \u001b[0;32mraise\u001b[0m \u001b[0mKeyError\u001b[0m\u001b[0;34m(\u001b[0m\u001b[0;34mf\"None of [{key}] are in the [{axis_name}]\"\u001b[0m\u001b[0;34m)\u001b[0m\u001b[0;34m\u001b[0m\u001b[0;34m\u001b[0m\u001b[0m\n\u001b[0m\u001b[1;32m   1299\u001b[0m \u001b[0;34m\u001b[0m\u001b[0m\n\u001b[1;32m   1300\u001b[0m             \u001b[0;31m# We (temporarily) allow for some missing keys with .loc, except in\u001b[0m\u001b[0;34m\u001b[0m\u001b[0;34m\u001b[0m\u001b[0;34m\u001b[0m\u001b[0m\n",
            "\u001b[0;31mKeyError\u001b[0m: \"None of [Int64Index([2814, 7112, 7129, 7148, 7187, 7411, 7631, 7762, 7913, 7924, 7931,\\n            7933, 7938],\\n           dtype='int64', name='zaf_code')] are in the [columns]\""
          ]
        }
      ]
    },
    {
      "cell_type": "code",
      "metadata": {
        "id": "lspn_SUacf21"
      },
      "source": [
        ""
      ],
      "execution_count": null,
      "outputs": []
    }
  ]
}