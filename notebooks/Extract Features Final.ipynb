{
  "nbformat": 4,
  "nbformat_minor": 0,
  "metadata": {
    "colab": {
      "name": "extract_tsfeatures_tsfresh.ipynb",
      "provenance": [],
      "include_colab_link": true
    },
    "kernelspec": {
      "name": "python3",
      "display_name": "Python 3"
    },
    "accelerator": "GPU"
  },
  "cells": [
    {
      "cell_type": "markdown",
      "metadata": {
        "id": "view-in-github",
        "colab_type": "text"
      },
      "source": [
        "<a href=\"https://colab.research.google.com/github/GarethWilhelm/TS-Feature-Clustering/blob/Feature-extraction-ZAF/notebooks/Extract%20Features%20Final.ipynb\" target=\"_parent\"><img src=\"https://colab.research.google.com/assets/colab-badge.svg\" alt=\"Open In Colab\"/></a>"
      ]
    },
    {
      "cell_type": "code",
      "metadata": {
        "id": "GOIPqnnzuTge",
        "outputId": "50261ac7-8980-4237-e7bd-3cb67bf35615",
        "colab": {
          "base_uri": "https://localhost:8080/",
          "height": 222
        }
      },
      "source": [
        "!pip install -q tsfresh \n",
        "import os\n",
        "import logging\n",
        "import warnings\n",
        "\n",
        "import pandas as pd\n",
        "import matplotlib.pyplot as plt\n",
        "from pandas_datareader.data import DataReader as pdr\n",
        "import fix_yahoo_finance as yf\n",
        "yf.pdr_override()\n",
        "\n",
        "from tsfresh import extract_features, select_features\n",
        "from tsfresh import defaults\n",
        "from tsfresh.feature_extraction import feature_calculators\n",
        "from tsfresh.feature_extraction.settings import ComprehensiveFCParameters\n",
        "from tsfresh.utilities import dataframe_functions, profiling\n",
        "from tsfresh.utilities.distribution import MapDistributor, MultiprocessingDistributor,DistributorBaseClass\n",
        "from tsfresh.utilities.string_manipulation import convert_to_output_format\n",
        "\n",
        "import tsfresh\n",
        "from tsfresh.feature_extraction.settings import EfficientFCParameters\n",
        "from tsfresh.utilities.dataframe_functions import roll_time_series\n",
        "\n",
        "from google.colab import drive\n",
        "drive.mount('/content/drive', force_remount=True)"
      ],
      "execution_count": 1,
      "outputs": [
        {
          "output_type": "stream",
          "text": [
            "\u001b[K     |████████████████████████████████| 92kB 4.1MB/s \n",
            "\u001b[K     |████████████████████████████████| 665kB 12.0MB/s \n",
            "\u001b[K     |████████████████████████████████| 92kB 9.0MB/s \n",
            "\u001b[K     |████████████████████████████████| 102kB 9.5MB/s \n",
            "\u001b[?25h  Building wheel for contextvars (setup.py) ... \u001b[?25l\u001b[?25hdone\n",
            "  Building wheel for locket (setup.py) ... \u001b[?25l\u001b[?25hdone\n",
            "\u001b[31mERROR: tensorflow-probability 0.11.0 has requirement cloudpickle==1.3, but you'll have cloudpickle 1.6.0 which is incompatible.\u001b[0m\n",
            "\u001b[31mERROR: gym 0.17.2 has requirement cloudpickle<1.4.0,>=1.2.0, but you'll have cloudpickle 1.6.0 which is incompatible.\u001b[0m\n"
          ],
          "name": "stdout"
        },
        {
          "output_type": "stream",
          "text": [
            "/usr/local/lib/python3.6/dist-packages/statsmodels/tools/_testing.py:19: FutureWarning: pandas.util.testing is deprecated. Use the functions in the public API at pandas.testing instead.\n",
            "  import pandas.util.testing as tm\n"
          ],
          "name": "stderr"
        },
        {
          "output_type": "stream",
          "text": [
            "Mounted at /content/drive\n"
          ],
          "name": "stdout"
        }
      ]
    },
    {
      "cell_type": "code",
      "metadata": {
        "id": "VV36mDgmurHT",
        "outputId": "df2358a2-3b34-4d67-af9e-cbc38cb0f5ef",
        "colab": {
          "base_uri": "https://localhost:8080/",
          "height": 34
        }
      },
      "source": [
        "%tensorflow_version 2.x\n",
        "import tensorflow as tf\n",
        "device_name = tf.test.gpu_device_name()\n",
        "if device_name != '/device:GPU:0':\n",
        "  raise SystemError('GPU device not found')\n",
        "print('Found GPU at: {}'.format(device_name))\n",
        "\n",
        "def extract_product_features(df):\n",
        "  p_features = extract_features(df[['year', 'sitc4', 'export_val']],\n",
        "                     column_id='sitc4', column_sort=\"year\",\n",
        "                     column_kind=None, column_value=None,\n",
        "                     default_fc_parameters=EfficientFCParameters())\n",
        "  p_features.to_csv(f'{PATH}/zaf_features_extracted.csv')\n",
        "  return p_features"
      ],
      "execution_count": 2,
      "outputs": [
        {
          "output_type": "stream",
          "text": [
            "Found GPU at: /device:GPU:0\n"
          ],
          "name": "stdout"
        }
      ]
    },
    {
      "cell_type": "code",
      "metadata": {
        "id": "ume12Rt1veFT",
        "outputId": "c37f7e0a-172f-4347-c2e0-c6fd49ba6560",
        "colab": {
          "base_uri": "https://localhost:8080/",
          "height": 34
        }
      },
      "source": [
        "PATH = '/content/drive/My Drive/Stellenbosch/Gareth/sitc/year_origin_sitc_rev2.tsv'\n",
        "df = pd.read_csv(f'{PATH}/zaf_exports_df.csv')\n",
        "%timeit\n",
        "fc_parameters=[EfficientFCParameters(),ComprehensiveFCParameters()]\n",
        "features=extract_product_features(df)\n"
      ],
      "execution_count": 3,
      "outputs": [
        {
          "output_type": "stream",
          "text": [
            "Feature Extraction: 100%|██████████| 5/5 [00:15<00:00,  3.11s/it]\n"
          ],
          "name": "stderr"
        }
      ]
    },
    {
      "cell_type": "code",
      "metadata": {
        "id": "W2H6t9Ef5htw",
        "outputId": "f29da44b-ccf6-431f-a56b-1b2bad5e04b9",
        "colab": {
          "base_uri": "https://localhost:8080/",
          "height": 84
        }
      },
      "source": [
        "features.head()\n",
        "features.index"
      ],
      "execution_count": 4,
      "outputs": [
        {
          "output_type": "execute_result",
          "data": {
            "text/plain": [
              "Int64Index([2814, 2815, 2816, 2820, 6642, 6712, 6713, 6716, 6724, 6725,\n",
              "            ...\n",
              "            7931, 7932, 7933, 7938, 8121, 8124, 8941, 8951, 8999, 9510],\n",
              "           dtype='int64', length=209)"
            ]
          },
          "metadata": {
            "tags": []
          },
          "execution_count": 4
        }
      ]
    }
  ]
}