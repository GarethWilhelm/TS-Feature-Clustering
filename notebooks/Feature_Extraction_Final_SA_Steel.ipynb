{
  "nbformat": 4,
  "nbformat_minor": 0,
  "metadata": {
    "colab": {
      "name": "extract_tsfeatures_tsfresh.ipynb",
      "provenance": [],
      "include_colab_link": true
    },
    "kernelspec": {
      "name": "python3",
      "display_name": "Python 3"
    },
    "accelerator": "GPU"
  },
  "cells": [
    {
      "cell_type": "markdown",
      "metadata": {
        "id": "view-in-github",
        "colab_type": "text"
      },
      "source": [
        "<a href=\"https://colab.research.google.com/github/GarethWilhelm/TS-Feature-Clustering/blob/Feature-extraction-ZAF/notebooks/Feature_Extraction_Final_SA_Steel.ipynb\" target=\"_parent\"><img src=\"https://colab.research.google.com/assets/colab-badge.svg\" alt=\"Open In Colab\"/></a>"
      ]
    },
    {
      "cell_type": "code",
      "metadata": {
        "id": "GOIPqnnzuTge",
        "outputId": "4c258cb0-94a8-4be7-af62-f4f7e04ad915",
        "colab": {
          "base_uri": "https://localhost:8080/",
          "height": 34
        }
      },
      "source": [
        "!pip install -q tsfresh \n",
        "import os\n",
        "import logging\n",
        "import warnings\n",
        "\n",
        "import pandas as pd\n",
        "import matplotlib.pyplot as plt\n",
        "from pandas_datareader.data import DataReader as pdr\n",
        "import fix_yahoo_finance as yf\n",
        "yf.pdr_override()\n",
        "\n",
        "from tsfresh import extract_features, select_features\n",
        "from tsfresh import defaults\n",
        "from tsfresh.feature_extraction import feature_calculators\n",
        "from tsfresh.feature_extraction.settings import ComprehensiveFCParameters\n",
        "from tsfresh.utilities import dataframe_functions, profiling\n",
        "from tsfresh.utilities.distribution import MapDistributor, MultiprocessingDistributor,DistributorBaseClass\n",
        "from tsfresh.utilities.string_manipulation import convert_to_output_format\n",
        "\n",
        "import tsfresh\n",
        "from tsfresh.feature_extraction.settings import EfficientFCParameters\n",
        "from tsfresh.utilities.dataframe_functions import roll_time_series\n",
        "\n",
        "from google.colab import drive\n",
        "drive.mount('/content/drive', force_remount=True)"
      ],
      "execution_count": 17,
      "outputs": [
        {
          "output_type": "stream",
          "text": [
            "Mounted at /content/drive\n"
          ],
          "name": "stdout"
        }
      ]
    },
    {
      "cell_type": "code",
      "metadata": {
        "id": "VV36mDgmurHT",
        "outputId": "2d142d46-facc-4e71-8cf0-999fb384975b",
        "colab": {
          "base_uri": "https://localhost:8080/",
          "height": 34
        }
      },
      "source": [
        "%tensorflow_version 2.x\n",
        "import tensorflow as tf\n",
        "device_name = tf.test.gpu_device_name()\n",
        "if device_name != '/device:GPU:0':\n",
        "  raise SystemError('GPU device not found')\n",
        "print('Found GPU at: {}'.format(device_name))\n",
        "\n",
        "def extract_product_features(df):\n",
        "  p_features = extract_features(df[['year', 'sitc4', 'export_val']],\n",
        "                     column_id='sitc4', column_sort=\"year\",\n",
        "                     column_kind=None, column_value=None,\n",
        "                     default_fc_parameters=EfficientFCParameters())\n",
        "  p_features.to_csv(f'{PATH}/cluster3_features_extracted.csv')\n",
        "  return p_features"
      ],
      "execution_count": 33,
      "outputs": [
        {
          "output_type": "stream",
          "text": [
            "Found GPU at: /device:GPU:0\n"
          ],
          "name": "stdout"
        }
      ]
    },
    {
      "cell_type": "code",
      "metadata": {
        "id": "ume12Rt1veFT",
        "outputId": "7be62e7e-f83a-4d48-fe8d-1d488d852be3",
        "colab": {
          "base_uri": "https://localhost:8080/",
          "height": 34
        }
      },
      "source": [
        "PATH = '/content/drive/My Drive/Stellenbosch/Gareth/sitc/year_origin_sitc_rev2.tsv'\n",
        "df = pd.read_csv(f'{PATH}/cluster3_exports_df.csv')\n",
        "%timeit\n",
        "fc_parameters=[EfficientFCParameters(),ComprehensiveFCParameters()]\n",
        "features=extract_product_features(df)\n"
      ],
      "execution_count": 31,
      "outputs": [
        {
          "output_type": "stream",
          "text": [
            "Feature Extraction: 100%|██████████| 5/5 [00:03<00:00,  1.30it/s]\n"
          ],
          "name": "stderr"
        }
      ]
    },
    {
      "cell_type": "code",
      "metadata": {
        "id": "W2H6t9Ef5htw",
        "outputId": "12865124-8c3c-4abb-f0f1-3aa854180e8d",
        "colab": {
          "base_uri": "https://localhost:8080/",
          "height": 118
        }
      },
      "source": [
        "features.head()\n",
        "features.index"
      ],
      "execution_count": 32,
      "outputs": [
        {
          "output_type": "execute_result",
          "data": {
            "text/plain": [
              "Int64Index([2820, 6642, 6713, 6724, 6725, 6745, 6794, 6978, 6997, 6998, 7119,\n",
              "            7126, 7131, 7149, 7163, 7211, 7213, 7223, 7244, 7245, 7248, 7251,\n",
              "            7263, 7271, 7368, 7371, 7412, 7421, 7435, 7511, 7518, 7611, 7621,\n",
              "            7622, 7722, 7723, 7761, 7764, 7768, 7822, 7831, 7841, 7842, 7851,\n",
              "            7911, 7912, 7914, 7915, 7921, 7922, 7928, 8999, 9510],\n",
              "           dtype='int64')"
            ]
          },
          "metadata": {
            "tags": []
          },
          "execution_count": 32
        }
      ]
    }
  ]
}