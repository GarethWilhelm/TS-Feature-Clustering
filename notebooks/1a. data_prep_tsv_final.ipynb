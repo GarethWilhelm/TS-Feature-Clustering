{
  "nbformat": 4,
  "nbformat_minor": 0,
  "metadata": {
    "colab": {
      "name": "data_prep.ipynb",
      "provenance": [],
      "include_colab_link": true
    },
    "kernelspec": {
      "name": "python3",
      "display_name": "Python 3"
    },
    "accelerator": "GPU"
  },
  "cells": [
    {
      "cell_type": "markdown",
      "metadata": {
        "id": "view-in-github",
        "colab_type": "text"
      },
      "source": [
        "<a href=\"https://colab.research.google.com/github/GarethWilhelm/TS-Feature-Clustering/blob/TSV-reader/notebooks/1a.%20data_prep_tsv_final.ipynb\" target=\"_parent\"><img src=\"https://colab.research.google.com/assets/colab-badge.svg\" alt=\"Open In Colab\"/></a>"
      ]
    },
    {
      "cell_type": "markdown",
      "metadata": {
        "id": "67iQrx6li6H6",
        "colab_type": "text"
      },
      "source": [
        "## Packages"
      ]
    },
    {
      "cell_type": "code",
      "metadata": {
        "id": "hvFuMLeruPPy",
        "colab_type": "code",
        "colab": {
          "base_uri": "https://localhost:8080/",
          "height": 87
        },
        "outputId": "7cde2ad7-2e43-45bf-a760-e20124e82750"
      },
      "source": [
        "# !pip install -q oec\n",
        "# import oec\n",
        "import pandas as pd\n",
        "import numpy as np\n",
        "import json\n",
        "from random import sample\n",
        "import random\n",
        "import itertools\n",
        "\n",
        "import os, os.path, csv, requests, pathlib\n",
        "from datetime import datetime\n",
        "import math\n",
        "from datetime import datetime\n",
        "import seaborn as sns\n",
        "import matplotlib.pyplot as plt\n",
        "%matplotlib inline\n",
        "import matplotlib.style\n",
        "import matplotlib as mpl\n",
        "mpl.style.use('ggplot')\n",
        "\n",
        "from google.colab import drive\n",
        "drive.mount('/content/drive', force_remount=True)"
      ],
      "execution_count": 2,
      "outputs": [
        {
          "output_type": "stream",
          "text": [
            "/usr/local/lib/python3.6/dist-packages/statsmodels/tools/_testing.py:19: FutureWarning: pandas.util.testing is deprecated. Use the functions in the public API at pandas.testing instead.\n",
            "  import pandas.util.testing as tm\n"
          ],
          "name": "stderr"
        },
        {
          "output_type": "stream",
          "text": [
            "Mounted at /content/drive\n"
          ],
          "name": "stdout"
        }
      ]
    },
    {
      "cell_type": "markdown",
      "metadata": {
        "id": "WLJbgEGRu7Dj",
        "colab_type": "text"
      },
      "source": [
        "## OEC data API functions"
      ]
    },
    {
      "cell_type": "code",
      "metadata": {
        "id": "ntnr-8R_PXsT",
        "colab_type": "code",
        "colab": {}
      },
      "source": [
        "# Generic data processors\n",
        "def remove_null_values(df,threshold:int=0.9):\n",
        "  pct_null = df.isnull().sum() / len(df)\n",
        "  missing_features = pct_null[pct_null > threshold].index\n",
        "  df.drop(missing_features, axis=1, inplace=True)\n",
        "  df.fillna(0,inplace=True)\n",
        "\n",
        "def check_outliers(df):\n",
        "    col = list(df)\n",
        "    outliers = pd.DataFrame(columns=['columns','Outliers'])\n",
        "    \n",
        "    for column in col:\n",
        "        if column in df.select_dtypes(include=np.number).columns:\n",
        "            q1 = df[column].quantile(0.25) \n",
        "            q3 = df[column].quantile(0.75)\n",
        "            below = q1 - (1.5*q3 - q1)\n",
        "            above = q3 + (1.5*q3 - q1)\n",
        "            outliers = outliers.append({'columns':column,'Outliers':df.loc[(df[column] < below) | (df[column] > above)].shape[0]},ignore_index=True)\n",
        "    return outliers\n",
        "    \n",
        "def removing_outliers(dataframe):\n",
        "    cols = list(dataframe)\n",
        "    for col in cols:\n",
        "        if col in dataframe.select_dtypes(include=np.number).columns:\n",
        "            dataframe[col] = winsorize(dataframe[col], limits=[0.1, 0.1],inclusive=(True, True))\n",
        "    \n",
        "    return dataframe"
      ],
      "execution_count": 3,
      "outputs": []
    },
    {
      "cell_type": "markdown",
      "metadata": {
        "id": "gJyV4Da6xB0s",
        "colab_type": "text"
      },
      "source": [
        "## Generate dataset\n",
        "- OEC API endpoint down as at 16 June 2020\n",
        "\n",
        "- This data has been downloaded and saved in the folder indicated\n",
        "No need to run this if there no new data needed\n",
        "- [Resource on nicer sns and plt plots](https://www.drawingfromdata.com/setting-figure-size-using-seaborn-and-matplotlib)\n"
      ]
    },
    {
      "cell_type": "code",
      "metadata": {
        "id": "PJs6lLW_fQA7",
        "colab_type": "code",
        "colab": {
          "base_uri": "https://localhost:8080/",
          "height": 195
        },
        "outputId": "fd1c3a12-2e6e-44a6-e718-2ce30f508f3c"
      },
      "source": [
        "PATH = '/content/drive/My Drive/Stellenbosch/Gareth/sitc/year_origin_sitc_rev2.tsv'\n",
        "\n",
        "def load(country_code,path):\n",
        "  df = pd.read_csv(f\"{path}/year_origin_sitc_rev2.tsv\",sep=\"\\t\")\n",
        "  df = df[df.origin==country_code]\n",
        "  return df\n",
        "df = load('zaf',PATH)\n",
        "\n",
        "\n",
        "products = pd.read_csv(f'{PATH}/AllProducts.txt', sep = \" \", header=None)\n",
        "products.columns = ['product_codes']\n",
        "codes = products.product_codes.unique()\n",
        "df = df[df['sitc4'].isin(codes)]\n",
        "df.head()\n",
        "df.to_csv(f\"{PATH}/zaf_exports_df.csv\")\n",
        "products.head()"
      ],
      "execution_count": 26,
      "outputs": [
        {
          "output_type": "execute_result",
          "data": {
            "text/html": [
              "<div>\n",
              "<style scoped>\n",
              "    .dataframe tbody tr th:only-of-type {\n",
              "        vertical-align: middle;\n",
              "    }\n",
              "\n",
              "    .dataframe tbody tr th {\n",
              "        vertical-align: top;\n",
              "    }\n",
              "\n",
              "    .dataframe thead th {\n",
              "        text-align: right;\n",
              "    }\n",
              "</style>\n",
              "<table border=\"1\" class=\"dataframe\">\n",
              "  <thead>\n",
              "    <tr style=\"text-align: right;\">\n",
              "      <th></th>\n",
              "      <th>product_codes</th>\n",
              "    </tr>\n",
              "  </thead>\n",
              "  <tbody>\n",
              "    <tr>\n",
              "      <th>0</th>\n",
              "      <td>1110</td>\n",
              "    </tr>\n",
              "    <tr>\n",
              "      <th>1</th>\n",
              "      <td>1121</td>\n",
              "    </tr>\n",
              "    <tr>\n",
              "      <th>2</th>\n",
              "      <td>1122</td>\n",
              "    </tr>\n",
              "    <tr>\n",
              "      <th>3</th>\n",
              "      <td>1123</td>\n",
              "    </tr>\n",
              "    <tr>\n",
              "      <th>4</th>\n",
              "      <td>1124</td>\n",
              "    </tr>\n",
              "  </tbody>\n",
              "</table>\n",
              "</div>"
            ],
            "text/plain": [
              "   product_codes\n",
              "0           1110\n",
              "1           1121\n",
              "2           1122\n",
              "3           1123\n",
              "4           1124"
            ]
          },
          "metadata": {
            "tags": []
          },
          "execution_count": 26
        }
      ]
    }
  ]
}