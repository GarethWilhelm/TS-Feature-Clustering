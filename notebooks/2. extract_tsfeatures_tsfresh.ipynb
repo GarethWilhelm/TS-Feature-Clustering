{
  "nbformat": 4,
  "nbformat_minor": 0,
  "metadata": {
    "colab": {
      "name": "extract_tsfeatures_tsfresh.ipynb",
      "provenance": [],
      "include_colab_link": true
    },
    "kernelspec": {
      "name": "python3",
      "display_name": "Python 3"
    },
    "accelerator": "GPU"
  },
  "cells": [
    {
      "cell_type": "markdown",
      "metadata": {
        "id": "view-in-github",
        "colab_type": "text"
      },
      "source": [
        "<a href=\"https://colab.research.google.com/github/GarethWilhelm/TS-Feature-Clustering/blob/Feature-extraction-ZAF/notebooks/2.%20extract_tsfeatures_tsfresh.ipynb\" target=\"_parent\"><img src=\"https://colab.research.google.com/assets/colab-badge.svg\" alt=\"Open In Colab\"/></a>"
      ]
    },
    {
      "cell_type": "code",
      "metadata": {
        "id": "GOIPqnnzuTge",
        "colab_type": "code",
        "colab": {
          "base_uri": "https://localhost:8080/",
          "height": 87
        },
        "outputId": "161e8e2f-a30f-4962-f67b-e7f4a2f4c0ac"
      },
      "source": [
        "!pip install -q tsfresh \n",
        "import os\n",
        "import logging\n",
        "import warnings\n",
        "\n",
        "import pandas as pd\n",
        "import matplotlib.pyplot as plt\n",
        "from pandas_datareader.data import DataReader as pdr\n",
        "import fix_yahoo_finance as yf\n",
        "yf.pdr_override()\n",
        "\n",
        "from tsfresh import extract_features, select_features\n",
        "from tsfresh import defaults\n",
        "from tsfresh.feature_extraction import feature_calculators\n",
        "from tsfresh.feature_extraction.settings import ComprehensiveFCParameters\n",
        "from tsfresh.utilities import dataframe_functions, profiling\n",
        "from tsfresh.utilities.distribution import MapDistributor, MultiprocessingDistributor,DistributorBaseClass\n",
        "from tsfresh.utilities.string_manipulation import convert_to_output_format\n",
        "\n",
        "import tsfresh\n",
        "from tsfresh.feature_extraction.settings import EfficientFCParameters\n",
        "from tsfresh.utilities.dataframe_functions import roll_time_series\n",
        "\n",
        "from google.colab import drive\n",
        "drive.mount('/content/drive', force_remount=True)"
      ],
      "execution_count": 1,
      "outputs": [
        {
          "output_type": "stream",
          "text": [
            "/usr/local/lib/python3.6/dist-packages/pandas_datareader/compat/__init__.py:7: FutureWarning: pandas.util.testing is deprecated. Use the functions in the public API at pandas.testing instead.\n",
            "  from pandas.util.testing import assert_frame_equal\n"
          ],
          "name": "stderr"
        },
        {
          "output_type": "stream",
          "text": [
            "Mounted at /content/drive\n"
          ],
          "name": "stdout"
        }
      ]
    },
    {
      "cell_type": "code",
      "metadata": {
        "id": "VV36mDgmurHT",
        "colab_type": "code",
        "colab": {
          "base_uri": "https://localhost:8080/",
          "height": 34
        },
        "outputId": "198fa75b-1b1b-46bf-a274-a8f449242708"
      },
      "source": [
        "%tensorflow_version 2.x\n",
        "import tensorflow as tf\n",
        "device_name = tf.test.gpu_device_name()\n",
        "if device_name != '/device:GPU:0':\n",
        "  raise SystemError('GPU device not found')\n",
        "print('Found GPU at: {}'.format(device_name))\n",
        "\n",
        "def extract_product_features(df):\n",
        "  p_features = extract_features(df[['year', 'sitc4', 'export_val']],\n",
        "                     column_id='sitc4', column_sort=\"year\",\n",
        "                     column_kind=None, column_value=None,\n",
        "                     default_fc_parameters=EfficientFCParameters())\n",
        "  p_features.to_csv(f'{PATH}/zaf_features_extracted.csv')\n",
        "  return p_features"
      ],
      "execution_count": 29,
      "outputs": [
        {
          "output_type": "stream",
          "text": [
            "Found GPU at: /device:GPU:0\n"
          ],
          "name": "stdout"
        }
      ]
    },
    {
      "cell_type": "code",
      "metadata": {
        "id": "ume12Rt1veFT",
        "colab_type": "code",
        "colab": {
          "base_uri": "https://localhost:8080/",
          "height": 235
        },
        "outputId": "9790601d-5a75-4eb9-9e3c-d649f7176803"
      },
      "source": [
        "PATH = '/content/drive/My Drive/Stellenbosch/Gareth/sitc/year_origin_sitc_rev2.tsv'\n",
        "df = pd.read_csv(f'{PATH}/zaf_exports_df.csv')\n",
        "%timeit\n",
        "fc_parameters=[EfficientFCParameters(),ComprehensiveFCParameters()]\n",
        "features=extract_product_features(df)\n"
      ],
      "execution_count": 31,
      "outputs": [
        {
          "output_type": "stream",
          "text": [
            "\n",
            "\n",
            "Feature Extraction:   0%|          | 0/5 [00:00<?, ?it/s]\u001b[A\u001b[A\n",
            "\n",
            "Feature Extraction:  20%|██        | 1/5 [00:11<00:45, 11.38s/it]\u001b[A\u001b[A\n",
            "\n",
            "Feature Extraction:  40%|████      | 2/5 [00:22<00:34, 11.35s/it]\u001b[A\u001b[A\n",
            "\n",
            "Feature Extraction:  60%|██████    | 3/5 [00:34<00:22, 11.37s/it]\u001b[A\u001b[A\n",
            "\n",
            "Feature Extraction:  80%|████████  | 4/5 [00:45<00:11, 11.41s/it]\u001b[A\u001b[A\n",
            "\n",
            "Feature Extraction: 100%|██████████| 5/5 [00:56<00:00, 11.33s/it]\n"
          ],
          "name": "stderr"
        }
      ]
    },
    {
      "cell_type": "code",
      "metadata": {
        "id": "W2H6t9Ef5htw",
        "colab_type": "code",
        "colab": {
          "base_uri": "https://localhost:8080/",
          "height": 84
        },
        "outputId": "733a9918-c798-4766-dae0-71813da7d64c"
      },
      "source": [
        "features.head()\n",
        "features.index"
      ],
      "execution_count": 34,
      "outputs": [
        {
          "output_type": "execute_result",
          "data": {
            "text/plain": [
              "Int64Index([1110, 1121, 1122, 1123, 1124, 1211, 1212, 1213, 1221, 1222,\n",
              "            ...\n",
              "            8994, 8996, 8997, 8998, 8999, 9310, 9410, 9510, 9610, 9710],\n",
              "           dtype='int64', length=679)"
            ]
          },
          "metadata": {
            "tags": []
          },
          "execution_count": 34
        }
      ]
    },
    {
      "cell_type": "code",
      "metadata": {
        "id": "43yhcWYvut97",
        "colab_type": "code",
        "colab": {}
      },
      "source": [
        " %timeit\n",
        " fc_parameters=[EfficientFCParameters(),ComprehensiveFCParameters()]\n",
        " extract_product_features(df,fc_parameters[0],PATH)\n"
      ],
      "execution_count": null,
      "outputs": []
    }
  ]
}